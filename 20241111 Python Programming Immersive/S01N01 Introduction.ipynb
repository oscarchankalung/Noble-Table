{
 "cells": [
  {
   "cell_type": "code",
   "execution_count": 4,
   "id": "80a3e08c",
   "metadata": {},
   "outputs": [],
   "source": [
    "# Shift + Enter\n",
    "x = 7"
   ]
  },
  {
   "cell_type": "code",
   "execution_count": 5,
   "id": "99872f7c",
   "metadata": {},
   "outputs": [],
   "source": [
    "# Memory: pointer to different container\n",
    "# DataType: how you intended to use the data in the future\n",
    "# Container: cup and bottle for water and coffee\n",
    "\n",
    "# x as variable\n",
    "# 7 as value\n",
    "# x, y, z all point to the same \n",
    "\n",
    "x = 7\n",
    "y = 7\n",
    "z = x\n",
    "\n",
    "# DataType\n",
    "# Numeric\n",
    "# Int > 7\n",
    "# Float > 2.5\n",
    "# Complex > ?\n",
    "\n",
    "# Int 7 as number of people\n",
    "# Float 7.0 as price of product"
   ]
  },
  {
   "cell_type": "code",
   "execution_count": 6,
   "id": "dfbd4ee7",
   "metadata": {},
   "outputs": [],
   "source": [
    "y = 2.5"
   ]
  },
  {
   "cell_type": "code",
   "execution_count": 7,
   "id": "7bc2c666",
   "metadata": {},
   "outputs": [
    {
     "data": {
      "text/plain": [
       "int"
      ]
     },
     "execution_count": 7,
     "metadata": {},
     "output_type": "execute_result"
    }
   ],
   "source": [
    "# type()\n",
    "# helpful for beginner\n",
    "# python is dynamic typing\n",
    "\n",
    "# Built-in Functions - https://docs.python.org/3/library/functions.html\n",
    "\n",
    "type(z)"
   ]
  },
  {
   "cell_type": "code",
   "execution_count": 8,
   "id": "b9e087c3",
   "metadata": {},
   "outputs": [
    {
     "data": {
      "text/plain": [
       "float"
      ]
     },
     "execution_count": 8,
     "metadata": {},
     "output_type": "execute_result"
    }
   ],
   "source": [
    "type(y)"
   ]
  },
  {
   "cell_type": "code",
   "execution_count": 9,
   "id": "4149adc1",
   "metadata": {},
   "outputs": [
    {
     "name": "stdout",
     "output_type": "stream",
     "text": [
      "9.5\n"
     ]
    },
    {
     "data": {
      "text/plain": [
       "9.5"
      ]
     },
     "execution_count": 9,
     "metadata": {},
     "output_type": "execute_result"
    }
   ],
   "source": [
    "# Math operation is possible between mutable variables only\n",
    "\n",
    "total = x + y\n",
    "print(total)\n",
    "total"
   ]
  },
  {
   "cell_type": "code",
   "execution_count": 10,
   "id": "653764c4",
   "metadata": {},
   "outputs": [
    {
     "name": "stdout",
     "output_type": "stream",
     "text": [
      "<class 'str'>\n",
      "55\n",
      "65\n",
      "97\n"
     ]
    },
    {
     "data": {
      "text/plain": [
       "\"applebee's\""
      ]
     },
     "execution_count": 10,
     "metadata": {},
     "output_type": "execute_result"
    }
   ],
   "source": [
    "# string is a sequence of data in quote\n",
    "\n",
    "s = \"applebee's\"\n",
    "\n",
    "print(type(s))\n",
    "print(ord(\"7\"))\n",
    "print(ord(\"A\"))\n",
    "print(ord(\"a\"))\n",
    "s"
   ]
  },
  {
   "cell_type": "code",
   "execution_count": 11,
   "id": "36e9b6c6",
   "metadata": {},
   "outputs": [
    {
     "ename": "TypeError",
     "evalue": "unsupported operand type(s) for +: 'int' and 'str'",
     "output_type": "error",
     "traceback": [
      "\u001b[0;31m---------------------------------------------------------------------------\u001b[0m",
      "\u001b[0;31mTypeError\u001b[0m                                 Traceback (most recent call last)",
      "Cell \u001b[0;32mIn[11], line 3\u001b[0m\n\u001b[1;32m      1\u001b[0m \u001b[38;5;66;03m# Math operation is possible between mutable variables only\u001b[39;00m\n\u001b[0;32m----> 3\u001b[0m \u001b[38;5;241;43m7\u001b[39;49m\u001b[43m \u001b[49m\u001b[38;5;241;43m+\u001b[39;49m\u001b[43m \u001b[49m\u001b[38;5;124;43m\"\u001b[39;49m\u001b[38;5;124;43m7\u001b[39;49m\u001b[38;5;124;43m\"\u001b[39;49m\n",
      "\u001b[0;31mTypeError\u001b[0m: unsupported operand type(s) for +: 'int' and 'str'"
     ]
    }
   ],
   "source": [
    "# Math operation is possible between mutable variables only\n",
    "\n",
    "7 + \"7\""
   ]
  },
  {
   "cell_type": "code",
   "execution_count": 12,
   "id": "69775945",
   "metadata": {},
   "outputs": [
    {
     "data": {
      "text/plain": [
       "14"
      ]
     },
     "execution_count": 12,
     "metadata": {},
     "output_type": "execute_result"
    }
   ],
   "source": [
    "# Conversion of \"numeric string\" to numeric using int()\n",
    "\n",
    "7 + int(\"7\")"
   ]
  },
  {
   "cell_type": "code",
   "execution_count": 13,
   "id": "ac9ccd40",
   "metadata": {},
   "outputs": [
    {
     "data": {
      "text/plain": [
       "14.0"
      ]
     },
     "execution_count": 13,
     "metadata": {},
     "output_type": "execute_result"
    }
   ],
   "source": [
    "7 + float(\"7\")"
   ]
  },
  {
   "cell_type": "code",
   "execution_count": 14,
   "id": "0c23f149",
   "metadata": {},
   "outputs": [
    {
     "data": {
      "text/plain": [
       "'77apple'"
      ]
     },
     "execution_count": 14,
     "metadata": {},
     "output_type": "execute_result"
    }
   ],
   "source": [
    "# Different operation or behavior for different DataType\n",
    "\n",
    "str(7) + \"7\" + \"apple\""
   ]
  }
 ],
 "metadata": {
  "kernelspec": {
   "display_name": "Python 3",
   "language": "python",
   "name": "python3"
  },
  "language_info": {
   "codemirror_mode": {
    "name": "ipython",
    "version": 3
   },
   "file_extension": ".py",
   "mimetype": "text/x-python",
   "name": "python",
   "nbconvert_exporter": "python",
   "pygments_lexer": "ipython3",
   "version": "3.10.2"
  }
 },
 "nbformat": 4,
 "nbformat_minor": 5
}
