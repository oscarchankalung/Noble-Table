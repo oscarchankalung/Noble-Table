{
 "cells": [
  {
   "cell_type": "markdown",
   "id": "95b84bd2",
   "metadata": {},
   "source": [
    "```\n",
    "coffee is $3.00\n",
    "muffin is $1.5\n",
    "ask user how many cups of coffee users wants to buy\n",
    "ask user how many muffins user wants to buy\n",
    "calculate the total user should pay\n",
    "```"
   ]
  },
  {
   "cell_type": "code",
   "execution_count": 1,
   "id": "3b3acf63",
   "metadata": {},
   "outputs": [],
   "source": [
    "# 1. Define vars\n",
    "# 2. Ask coffee_quantity\n",
    "# 3. Ask muffin_quantity\n",
    "# 2. Get coffee_amount - coffee_price multiply by coffee_quantity\n",
    "# 3. Get muffin_amount - muffin_price multiply by muffin_quantity\n",
    "# 4. Get total = add check to tax to tip"
   ]
  },
  {
   "cell_type": "code",
   "execution_count": 6,
   "id": "435ec796",
   "metadata": {},
   "outputs": [
    {
     "name": "stdout",
     "output_type": "stream",
     "text": [
      "How many cups of coffee do you wants to buy?1\n",
      "How many muffins do you wants to buy?1\n",
      "Your total is 4.5\n"
     ]
    }
   ],
   "source": [
    "# Answer\n",
    "# input as \"two\"?\n",
    "\n",
    "coffee_price = 3.0\n",
    "muffin_price = 1.5\n",
    "\n",
    "coffee_quantity = int(input(\"How many cups of coffee do you wants to buy?\"))\n",
    "muffin_quantity = int(input(\"How many muffins do you wants to buy?\"))\n",
    "\n",
    "coffee_amount = coffee_price * coffee_quantity\n",
    "muffin_amount = muffin_price * muffin_quantity\n",
    "\n",
    "total = coffee_amount + muffin_amount\n",
    "print(\"Your total is\", total)"
   ]
  },
  {
   "cell_type": "code",
   "execution_count": 8,
   "id": "061051a5",
   "metadata": {},
   "outputs": [
    {
     "name": "stdout",
     "output_type": "stream",
     "text": [
      "How many cups of coffee do you wants to buy? 2\n",
      "How many muffins do you wants to buy? 2\n",
      "Your total is $9.00\n"
     ]
    }
   ],
   "source": [
    "# Solution\n",
    "\n",
    "price_coffee = 3.0\n",
    "price_muffin = 1.5\n",
    "\n",
    "qty_coffee = input(\"How many cups of coffee do you wants to buy? \")\n",
    "qty_muffin = input(\"How many muffins do you wants to buy? \")\n",
    "\n",
    "qty_coffee_float = float(qty_coffee)\n",
    "qty_muffin_float = float(qty_muffin)\n",
    "\n",
    "total_coffee = price_coffee * qty_coffee_float\n",
    "total_muffin = price_muffin * qty_muffin_float\n",
    "\n",
    "total = total_coffee + total_muffin\n",
    "print(\"Your total is ${:.2f}\".format(total))"
   ]
  },
  {
   "cell_type": "code",
   "execution_count": null,
   "id": "6bc0de69",
   "metadata": {},
   "outputs": [],
   "source": [
    "# https://pyformat.info"
   ]
  }
 ],
 "metadata": {
  "kernelspec": {
   "display_name": "Python 3",
   "language": "python",
   "name": "python3"
  },
  "language_info": {
   "codemirror_mode": {
    "name": "ipython",
    "version": 3
   },
   "file_extension": ".py",
   "mimetype": "text/x-python",
   "name": "python",
   "nbconvert_exporter": "python",
   "pygments_lexer": "ipython3",
   "version": "3.10.2"
  }
 },
 "nbformat": 4,
 "nbformat_minor": 5
}
