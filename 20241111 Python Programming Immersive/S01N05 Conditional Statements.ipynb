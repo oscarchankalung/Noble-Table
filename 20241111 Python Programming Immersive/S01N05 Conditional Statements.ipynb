{
 "cells": [
  {
   "cell_type": "code",
   "execution_count": 2,
   "id": "51d453bb",
   "metadata": {},
   "outputs": [],
   "source": [
    "# Boolean"
   ]
  },
  {
   "cell_type": "code",
   "execution_count": 3,
   "id": "71d38828",
   "metadata": {},
   "outputs": [
    {
     "data": {
      "text/plain": [
       "True"
      ]
     },
     "execution_count": 3,
     "metadata": {},
     "output_type": "execute_result"
    }
   ],
   "source": [
    "True"
   ]
  },
  {
   "cell_type": "code",
   "execution_count": 4,
   "id": "7b528546",
   "metadata": {},
   "outputs": [
    {
     "data": {
      "text/plain": [
       "False"
      ]
     },
     "execution_count": 4,
     "metadata": {},
     "output_type": "execute_result"
    }
   ],
   "source": [
    "False"
   ]
  },
  {
   "cell_type": "code",
   "execution_count": 5,
   "id": "7c3f02c2",
   "metadata": {},
   "outputs": [
    {
     "data": {
      "text/plain": [
       "True"
      ]
     },
     "execution_count": 5,
     "metadata": {},
     "output_type": "execute_result"
    }
   ],
   "source": [
    "2 * 2 == 4"
   ]
  },
  {
   "cell_type": "code",
   "execution_count": 6,
   "id": "4c68c792",
   "metadata": {},
   "outputs": [
    {
     "data": {
      "text/plain": [
       "False"
      ]
     },
     "execution_count": 6,
     "metadata": {},
     "output_type": "execute_result"
    }
   ],
   "source": [
    "2 * 2 == 5"
   ]
  },
  {
   "cell_type": "code",
   "execution_count": 7,
   "id": "26a9f35f",
   "metadata": {},
   "outputs": [
    {
     "data": {
      "text/plain": [
       "False"
      ]
     },
     "execution_count": 7,
     "metadata": {},
     "output_type": "execute_result"
    }
   ],
   "source": [
    "\"apple\" == \"Apple\""
   ]
  },
  {
   "cell_type": "code",
   "execution_count": 8,
   "id": "3d7a4db0",
   "metadata": {},
   "outputs": [
    {
     "data": {
      "text/plain": [
       "False"
      ]
     },
     "execution_count": 8,
     "metadata": {},
     "output_type": "execute_result"
    }
   ],
   "source": [
    "2 * 2 == \"4\""
   ]
  },
  {
   "cell_type": "code",
   "execution_count": null,
   "id": "16f95bf6",
   "metadata": {},
   "outputs": [],
   "source": [
    "# Condition"
   ]
  },
  {
   "cell_type": "code",
   "execution_count": 1,
   "id": "f30883d1",
   "metadata": {},
   "outputs": [
    {
     "name": "stdout",
     "output_type": "stream",
     "text": [
      "Give me a worddfj\n"
     ]
    }
   ],
   "source": [
    "word = input(\"Give me a word: \")\n",
    "\n",
    "if word == \"apple\":\n",
    "    print(\"I love apples\")"
   ]
  },
  {
   "cell_type": "code",
   "execution_count": 3,
   "id": "c8a21c47",
   "metadata": {},
   "outputs": [
    {
     "name": "stdout",
     "output_type": "stream",
     "text": [
      "Give me a word: mango\n",
      "Mango is my favorite\n"
     ]
    }
   ],
   "source": [
    "word = input(\"Give me a word: \").lower()\n",
    "\n",
    "if word == \"apple\":\n",
    "    print(\"I love apples\")\n",
    "elif word == \"mango\":\n",
    "    print(\"Mango is my favorite\")\n",
    "else:\n",
    "    print(word, \"is fine\")"
   ]
  },
  {
   "cell_type": "code",
   "execution_count": 8,
   "id": "da0115dc",
   "metadata": {},
   "outputs": [
    {
     "name": "stdout",
     "output_type": "stream",
     "text": [
      "Give me a word: Apple\n",
      "I love apples\n",
      "apple is fine\n"
     ]
    }
   ],
   "source": [
    "## every if statement is a new statement\n",
    "\n",
    "word = input(\"Give me a word: \").lower()\n",
    "\n",
    "if word == \"apple\":\n",
    "    print(\"I love apples\")\n",
    "\n",
    "if word == \"mango\":\n",
    "    print(\"Mango is my favorite\")\n",
    "else:\n",
    "    print(word, \"is fine\")"
   ]
  },
  {
   "cell_type": "code",
   "execution_count": 22,
   "id": "0adacd0c",
   "metadata": {},
   "outputs": [],
   "source": [
    "# 1. Ask user how old is user\n",
    "# 2. If user is over 21 > Comeon in\n",
    "# 3. If user is not legal age > go home\n",
    "# 4. Else is invalid input"
   ]
  },
  {
   "cell_type": "code",
   "execution_count": 7,
   "id": "dee3ef3b",
   "metadata": {},
   "outputs": [
    {
     "name": "stdout",
     "output_type": "stream",
     "text": [
      "How old are you? 21\n",
      "Comeon in\n"
     ]
    }
   ],
   "source": [
    "# Answer\n",
    "\n",
    "user_age_question = \"How old are you? \"\n",
    "user_legal_age = 21\n",
    "\n",
    "user_age = input(user_age_question)\n",
    "user_age_float = float(user_age)\n",
    "\n",
    "if user_age_float >= user_legal_age:\n",
    "    print(\"Comeon in\")\n",
    "else:\n",
    "    print(\"Go home\")"
   ]
  },
  {
   "cell_type": "code",
   "execution_count": 9,
   "id": "3433a4b6",
   "metadata": {},
   "outputs": [
    {
     "name": "stdout",
     "output_type": "stream",
     "text": [
      "How old are you? -100\n",
      "invalid problem\n"
     ]
    }
   ],
   "source": [
    "# Solution\n",
    "\n",
    "user_age_question = \"How old are you? \"\n",
    "user_legal_age = 21\n",
    "user_age = input(user_age_question)\n",
    "\n",
    "if user_age.isdigit():\n",
    "    user_age = int(user_age)\n",
    "    \n",
    "    if user_age >= user_legal_age:\n",
    "        print(\"Comeon in\")\n",
    "    elif user_age > 0 and user_age < 21:\n",
    "        print(\"Go home\")\n",
    "    else:\n",
    "        print(\"invalid input\")\n",
    "\n",
    "else:\n",
    "    print(\"invalid input\")"
   ]
  },
  {
   "cell_type": "code",
   "execution_count": 15,
   "id": "ecb1def8",
   "metadata": {},
   "outputs": [],
   "source": [
    "# Division"
   ]
  },
  {
   "cell_type": "code",
   "execution_count": 16,
   "id": "7ebbeeb5",
   "metadata": {},
   "outputs": [
    {
     "data": {
      "text/plain": [
       "1.6666666666666667"
      ]
     },
     "execution_count": 16,
     "metadata": {},
     "output_type": "execute_result"
    }
   ],
   "source": [
    "5 / 3"
   ]
  },
  {
   "cell_type": "code",
   "execution_count": 17,
   "id": "acca98e2",
   "metadata": {},
   "outputs": [
    {
     "data": {
      "text/plain": [
       "1"
      ]
     },
     "execution_count": 17,
     "metadata": {},
     "output_type": "execute_result"
    }
   ],
   "source": [
    "5 // 3"
   ]
  },
  {
   "cell_type": "code",
   "execution_count": 18,
   "id": "a6522dce",
   "metadata": {},
   "outputs": [
    {
     "data": {
      "text/plain": [
       "2"
      ]
     },
     "execution_count": 18,
     "metadata": {},
     "output_type": "execute_result"
    }
   ],
   "source": [
    "5 % 3"
   ]
  },
  {
   "cell_type": "code",
   "execution_count": 19,
   "id": "51c217ee",
   "metadata": {},
   "outputs": [
    {
     "data": {
      "text/plain": [
       "1"
      ]
     },
     "execution_count": 19,
     "metadata": {},
     "output_type": "execute_result"
    }
   ],
   "source": [
    "5 % 2"
   ]
  },
  {
   "cell_type": "code",
   "execution_count": 20,
   "id": "ac402581",
   "metadata": {},
   "outputs": [
    {
     "data": {
      "text/plain": [
       "0"
      ]
     },
     "execution_count": 20,
     "metadata": {},
     "output_type": "execute_result"
    }
   ],
   "source": [
    "6 % 2"
   ]
  },
  {
   "cell_type": "code",
   "execution_count": 23,
   "id": "9fd8bd09",
   "metadata": {},
   "outputs": [],
   "source": [
    "# Ask user a number\n",
    "# print even if number is even\n",
    "# or odd"
   ]
  },
  {
   "cell_type": "code",
   "execution_count": 2,
   "id": "c7695825",
   "metadata": {},
   "outputs": [
    {
     "name": "stdout",
     "output_type": "stream",
     "text": [
      "Give me a number: fjd\n",
      "invalid input\n"
     ]
    }
   ],
   "source": [
    "# Answer\n",
    "\n",
    "number = input(\"Give me a number: \")\n",
    "\n",
    "if number.isdigit():\n",
    "    number = int(number)\n",
    "    \n",
    "    if number % 2 == 0:\n",
    "        print(\"even\")\n",
    "    else:\n",
    "        print(\"odd\")\n",
    "else:\n",
    "    print(\"invalid input\")"
   ]
  },
  {
   "cell_type": "code",
   "execution_count": null,
   "id": "5e1df567",
   "metadata": {},
   "outputs": [],
   "source": []
  }
 ],
 "metadata": {
  "kernelspec": {
   "display_name": "Python 3 (ipykernel)",
   "language": "python",
   "name": "python3"
  },
  "language_info": {
   "codemirror_mode": {
    "name": "ipython",
    "version": 3
   },
   "file_extension": ".py",
   "mimetype": "text/x-python",
   "name": "python",
   "nbconvert_exporter": "python",
   "pygments_lexer": "ipython3",
   "version": "3.11.5"
  }
 },
 "nbformat": 4,
 "nbformat_minor": 5
}
