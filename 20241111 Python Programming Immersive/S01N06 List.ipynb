{
 "cells": [
  {
   "cell_type": "code",
   "execution_count": 2,
   "id": "3dc4c88e",
   "metadata": {},
   "outputs": [],
   "source": [
    "# List"
   ]
  },
  {
   "cell_type": "code",
   "execution_count": 3,
   "id": "9a5f9694",
   "metadata": {},
   "outputs": [],
   "source": [
    "box = []"
   ]
  },
  {
   "cell_type": "code",
   "execution_count": 4,
   "id": "db7c3bc9",
   "metadata": {},
   "outputs": [
    {
     "data": {
      "text/plain": [
       "list"
      ]
     },
     "execution_count": 4,
     "metadata": {},
     "output_type": "execute_result"
    }
   ],
   "source": [
    "type(box)"
   ]
  },
  {
   "cell_type": "code",
   "execution_count": 5,
   "id": "fb1201bc",
   "metadata": {},
   "outputs": [],
   "source": [
    "box.append(5)\n",
    "box.append(10)\n",
    "box.append(1)"
   ]
  },
  {
   "cell_type": "code",
   "execution_count": 6,
   "id": "5537f7f0",
   "metadata": {},
   "outputs": [
    {
     "data": {
      "text/plain": [
       "[5, 10, 1]"
      ]
     },
     "execution_count": 6,
     "metadata": {},
     "output_type": "execute_result"
    }
   ],
   "source": [
    "box"
   ]
  },
  {
   "cell_type": "code",
   "execution_count": 7,
   "id": "04d59965",
   "metadata": {},
   "outputs": [
    {
     "data": {
      "text/plain": [
       "[1, 5, 10]"
      ]
     },
     "execution_count": 7,
     "metadata": {},
     "output_type": "execute_result"
    }
   ],
   "source": [
    "# create list not only to save\n",
    "# but to sort\n",
    "\n",
    "box.sort()\n",
    "box"
   ]
  },
  {
   "cell_type": "code",
   "execution_count": 8,
   "id": "5dbc716e",
   "metadata": {},
   "outputs": [
    {
     "data": {
      "text/plain": [
       "16"
      ]
     },
     "execution_count": 8,
     "metadata": {},
     "output_type": "execute_result"
    }
   ],
   "source": [
    "sum(box)"
   ]
  },
  {
   "cell_type": "code",
   "execution_count": 11,
   "id": "7b74a819",
   "metadata": {},
   "outputs": [],
   "source": [
    "box.append(\"apple\")"
   ]
  },
  {
   "cell_type": "code",
   "execution_count": 12,
   "id": "5e387be2",
   "metadata": {},
   "outputs": [],
   "source": [
    "box.remove(\"apple\")"
   ]
  },
  {
   "cell_type": "code",
   "execution_count": 13,
   "id": "9a05c364",
   "metadata": {},
   "outputs": [
    {
     "data": {
      "text/plain": [
       "[1, 5, 10]"
      ]
     },
     "execution_count": 13,
     "metadata": {},
     "output_type": "execute_result"
    }
   ],
   "source": [
    "box"
   ]
  },
  {
   "cell_type": "code",
   "execution_count": 14,
   "id": "4f58e83b",
   "metadata": {},
   "outputs": [],
   "source": [
    "# list is a sequence of items separated by commas\n",
    "# list is mututable container\n",
    "# list should be homogenous"
   ]
  },
  {
   "cell_type": "code",
   "execution_count": 15,
   "id": "6e1849da",
   "metadata": {},
   "outputs": [
    {
     "data": {
      "text/plain": [
       "1"
      ]
     },
     "execution_count": 15,
     "metadata": {},
     "output_type": "execute_result"
    }
   ],
   "source": [
    "box[0]"
   ]
  },
  {
   "cell_type": "code",
   "execution_count": 16,
   "id": "3b8277cc",
   "metadata": {},
   "outputs": [
    {
     "data": {
      "text/plain": [
       "5"
      ]
     },
     "execution_count": 16,
     "metadata": {},
     "output_type": "execute_result"
    }
   ],
   "source": [
    "box[1]"
   ]
  },
  {
   "cell_type": "code",
   "execution_count": 17,
   "id": "dbc43931",
   "metadata": {},
   "outputs": [
    {
     "data": {
      "text/plain": [
       "10"
      ]
     },
     "execution_count": 17,
     "metadata": {},
     "output_type": "execute_result"
    }
   ],
   "source": [
    "box[2]"
   ]
  },
  {
   "cell_type": "code",
   "execution_count": 19,
   "id": "0120741f",
   "metadata": {},
   "outputs": [],
   "source": [
    "# the first item is indexed 1\n",
    "# the last item is indexed -1\n",
    "# consider the negative sign as direction"
   ]
  },
  {
   "cell_type": "code",
   "execution_count": 21,
   "id": "0ab07d6e",
   "metadata": {},
   "outputs": [],
   "source": [
    "box[0] = 100"
   ]
  },
  {
   "cell_type": "code",
   "execution_count": 22,
   "id": "42c020d4",
   "metadata": {},
   "outputs": [
    {
     "data": {
      "text/plain": [
       "[100, 5, 10]"
      ]
     },
     "execution_count": 22,
     "metadata": {},
     "output_type": "execute_result"
    }
   ],
   "source": [
    "box"
   ]
  },
  {
   "cell_type": "code",
   "execution_count": 23,
   "id": "3f05ceb2",
   "metadata": {},
   "outputs": [],
   "source": [
    "# [start:stop:step]\n",
    "# stop is not included\n",
    "# step is 1"
   ]
  },
  {
   "cell_type": "code",
   "execution_count": 24,
   "id": "62f2c811",
   "metadata": {},
   "outputs": [],
   "source": [
    "word = \"apple\""
   ]
  },
  {
   "cell_type": "code",
   "execution_count": 25,
   "id": "6f8baeef",
   "metadata": {},
   "outputs": [
    {
     "data": {
      "text/plain": [
       "'pp'"
      ]
     },
     "execution_count": 25,
     "metadata": {},
     "output_type": "execute_result"
    }
   ],
   "source": [
    "word[1:3]"
   ]
  },
  {
   "cell_type": "code",
   "execution_count": 33,
   "id": "330c2473",
   "metadata": {},
   "outputs": [
    {
     "data": {
      "text/plain": [
       "'le'"
      ]
     },
     "execution_count": 33,
     "metadata": {},
     "output_type": "execute_result"
    }
   ],
   "source": [
    "word[3:]"
   ]
  },
  {
   "cell_type": "code",
   "execution_count": 34,
   "id": "428a4375",
   "metadata": {},
   "outputs": [
    {
     "data": {
      "text/plain": [
       "'apple'"
      ]
     },
     "execution_count": 34,
     "metadata": {},
     "output_type": "execute_result"
    }
   ],
   "source": [
    "word[0::1]"
   ]
  },
  {
   "cell_type": "code",
   "execution_count": 35,
   "id": "cf8e660c",
   "metadata": {},
   "outputs": [
    {
     "data": {
      "text/plain": [
       "'elppa'"
      ]
     },
     "execution_count": 35,
     "metadata": {},
     "output_type": "execute_result"
    }
   ],
   "source": [
    "word[-1::-1]"
   ]
  },
  {
   "cell_type": "code",
   "execution_count": 36,
   "id": "6a3bb80e",
   "metadata": {},
   "outputs": [
    {
     "data": {
      "text/plain": [
       "'elppa'"
      ]
     },
     "execution_count": 36,
     "metadata": {},
     "output_type": "execute_result"
    }
   ],
   "source": [
    "word[::-1]"
   ]
  },
  {
   "cell_type": "code",
   "execution_count": 45,
   "id": "31f9b6aa",
   "metadata": {},
   "outputs": [],
   "source": [
    "string = \"aAbBcCdDeE\""
   ]
  },
  {
   "cell_type": "code",
   "execution_count": 46,
   "id": "0194f38d",
   "metadata": {},
   "outputs": [
    {
     "data": {
      "text/plain": [
       "'abcde'"
      ]
     },
     "execution_count": 46,
     "metadata": {},
     "output_type": "execute_result"
    }
   ],
   "source": [
    "# \"abcde\"\n",
    "\n",
    "string[0::2]"
   ]
  },
  {
   "cell_type": "code",
   "execution_count": 47,
   "id": "f99619a2",
   "metadata": {},
   "outputs": [
    {
     "data": {
      "text/plain": [
       "'edcba'"
      ]
     },
     "execution_count": 47,
     "metadata": {},
     "output_type": "execute_result"
    }
   ],
   "source": [
    "# \"edcba\"\n",
    "\n",
    "string[-2::-2]"
   ]
  },
  {
   "cell_type": "code",
   "execution_count": 48,
   "id": "385c09e1",
   "metadata": {},
   "outputs": [],
   "source": [
    "# Get the zip code or city only"
   ]
  },
  {
   "cell_type": "code",
   "execution_count": 1,
   "id": "0e1b1da8",
   "metadata": {},
   "outputs": [],
   "source": [
    "address = \"115 W 30th St., 5th Floor, Suite 501, New York, NY, 12345\""
   ]
  },
  {
   "cell_type": "code",
   "execution_count": 2,
   "id": "87928b79",
   "metadata": {},
   "outputs": [
    {
     "data": {
      "text/plain": [
       "'12345'"
      ]
     },
     "execution_count": 2,
     "metadata": {},
     "output_type": "execute_result"
    }
   ],
   "source": [
    "address[-5::]"
   ]
  },
  {
   "cell_type": "code",
   "execution_count": 3,
   "id": "cca46909",
   "metadata": {},
   "outputs": [
    {
     "data": {
      "text/plain": [
       "'12345'"
      ]
     },
     "execution_count": 3,
     "metadata": {},
     "output_type": "execute_result"
    }
   ],
   "source": [
    "address[len(address) - 5 : : ]"
   ]
  },
  {
   "cell_type": "code",
   "execution_count": 4,
   "id": "54103929",
   "metadata": {},
   "outputs": [
    {
     "data": {
      "text/plain": [
       "'New York'"
      ]
     },
     "execution_count": 4,
     "metadata": {},
     "output_type": "execute_result"
    }
   ],
   "source": [
    "address.split(\",\")[-3].strip()"
   ]
  },
  {
   "cell_type": "code",
   "execution_count": null,
   "id": "2c7f3255",
   "metadata": {},
   "outputs": [],
   "source": [
    "# test git 2"
   ]
  },
  {
   "cell_type": "code",
   "execution_count": null,
   "id": "40342c7f",
   "metadata": {},
   "outputs": [],
   "source": []
  }
 ],
 "metadata": {
  "kernelspec": {
   "display_name": "Python 3",
   "language": "python",
   "name": "python3"
  },
  "language_info": {
   "codemirror_mode": {
    "name": "ipython",
    "version": 3
   },
   "file_extension": ".py",
   "mimetype": "text/x-python",
   "name": "python",
   "nbconvert_exporter": "python",
   "pygments_lexer": "ipython3",
   "version": "3.9.6"
  }
 },
 "nbformat": 4,
 "nbformat_minor": 5
}
