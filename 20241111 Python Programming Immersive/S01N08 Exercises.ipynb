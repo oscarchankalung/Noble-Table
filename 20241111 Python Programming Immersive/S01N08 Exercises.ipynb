{
 "cells": [
  {
   "cell_type": "code",
   "execution_count": 1,
   "id": "c496ad63",
   "metadata": {},
   "outputs": [],
   "source": [
    "numbers = [1,2,3,4,5,5,5,5,50]\n",
    "# count how many time 5s are in the list\n",
    "# use a for loop"
   ]
  },
  {
   "cell_type": "code",
   "execution_count": 4,
   "id": "64a6e8d6",
   "metadata": {},
   "outputs": [
    {
     "name": "stdout",
     "output_type": "stream",
     "text": [
      "Total count of 5 is 4.\n"
     ]
    }
   ],
   "source": [
    "# Answer\n",
    "\n",
    "count = 0\n",
    "\n",
    "for number in numbers:\n",
    "    if number == 5:\n",
    "        count += 1\n",
    "\n",
    "print(f\"Total count of 5 is {count}.\")"
   ]
  },
  {
   "cell_type": "code",
   "execution_count": 5,
   "id": "87552e57",
   "metadata": {},
   "outputs": [
    {
     "data": {
      "text/plain": [
       "4"
      ]
     },
     "execution_count": 5,
     "metadata": {},
     "output_type": "execute_result"
    }
   ],
   "source": [
    "numbers.count(5)"
   ]
  },
  {
   "cell_type": "code",
   "execution_count": 10,
   "id": "d11bee7d",
   "metadata": {},
   "outputs": [],
   "source": [
    "string = \"apple12345\"\n",
    "# count how many letters\n",
    "# count how many numbers"
   ]
  },
  {
   "cell_type": "code",
   "execution_count": 19,
   "id": "e76441bc",
   "metadata": {},
   "outputs": [
    {
     "name": "stdout",
     "output_type": "stream",
     "text": [
      "Total letter count is 5.\n",
      "Total number count is 5.\n",
      "Total at count is 8.\n",
      "Total dollar count is 4.\n"
     ]
    }
   ],
   "source": [
    "# Answer\n",
    "\n",
    "string = \"apple12345@@@@@@@@$$$$\"\n",
    "\n",
    "letter_count = 0\n",
    "number_count = 0\n",
    "at_count = 0\n",
    "dollar_count = 0\n",
    "\n",
    "for char in string:\n",
    "    if char.isdigit():\n",
    "        number_count += 1\n",
    "    elif char.isalpha():\n",
    "        letter_count += 1\n",
    "    elif char == \"@\":\n",
    "        at_count += 1\n",
    "    elif char == \"$\":\n",
    "        dollar_count += 1\n",
    "        \n",
    "print(f\"Total letter count is {letter_count}.\")\n",
    "print(f\"Total number count is {number_count}.\")\n",
    "print(f\"Total at count is {at_count}.\")\n",
    "print(f\"Total dollar count is {dollar_count}.\")"
   ]
  },
  {
   "cell_type": "code",
   "execution_count": 20,
   "id": "514ddd98",
   "metadata": {},
   "outputs": [],
   "source": [
    "# how many even numbers are in the numbers list"
   ]
  },
  {
   "cell_type": "code",
   "execution_count": 21,
   "id": "e9be6e01",
   "metadata": {},
   "outputs": [
    {
     "name": "stdout",
     "output_type": "stream",
     "text": [
      "There are 3 even numbers\n"
     ]
    }
   ],
   "source": [
    "# answer\n",
    "\n",
    "numbers = [1,2,3,4,5,5,5,5,50]\n",
    "even_count = 0\n",
    "\n",
    "for number in numbers:\n",
    "    if number % 2 == 0:\n",
    "        even_count += 1\n",
    "\n",
    "print(f\"There are {even_count} even numbers\")        "
   ]
  },
  {
   "cell_type": "markdown",
   "id": "74e7c621",
   "metadata": {},
   "source": [
    "In this exercise you will create a program that reads a letter of the alphabet from the user. If the user enters a, e, i, o or u then your program should display a message indicating that the entered letter is a vowel. If the user enters y then your program should display a message indicating that sometimes y is a voewl, and sometimes y is a consonat. Otherwise your program should display a message indicating that the letter is a consonant."
   ]
  },
  {
   "cell_type": "code",
   "execution_count": 34,
   "id": "98c08b70",
   "metadata": {},
   "outputs": [
    {
     "name": "stdout",
     "output_type": "stream",
     "text": [
      "Give me a letter: a\n",
      "The entered letter 'a' is a vowel.\n"
     ]
    }
   ],
   "source": [
    "# answer\n",
    "# create vowels as tuple instead of list to make it faster\n",
    "\n",
    "letter = input(\"Give me a letter: \")\n",
    "vowels = (\"a\", \"e\", \"i\", \"o\", \"u\")\n",
    "\n",
    "if letter.isalpha():\n",
    "    letter = letter.lower()\n",
    "\n",
    "    if letter in vowels:\n",
    "        print(f\"The entered letter '{letter}' is a vowel.\")\n",
    "    elif letter == \"y\":\n",
    "        print(f\"The entered letter '{letter}' is a vowel or a consonant sometimes.\")\n",
    "    else:\n",
    "        print(f\"The entered letter '{letter}' is a consonant.\")\n",
    "        \n",
    "else:\n",
    "    print(\"You didn't give me a letter.\")"
   ]
  },
  {
   "cell_type": "code",
   "execution_count": 32,
   "id": "91684b95",
   "metadata": {},
   "outputs": [],
   "source": []
  },
  {
   "cell_type": "code",
   "execution_count": 33,
   "id": "b5781d75",
   "metadata": {},
   "outputs": [],
   "source": []
  },
  {
   "cell_type": "code",
   "execution_count": null,
   "id": "a07264ff",
   "metadata": {},
   "outputs": [],
   "source": []
  }
 ],
 "metadata": {
  "kernelspec": {
   "display_name": "Python 3 (ipykernel)",
   "language": "python",
   "name": "python3"
  },
  "language_info": {
   "codemirror_mode": {
    "name": "ipython",
    "version": 3
   },
   "file_extension": ".py",
   "mimetype": "text/x-python",
   "name": "python",
   "nbconvert_exporter": "python",
   "pygments_lexer": "ipython3",
   "version": "3.11.5"
  }
 },
 "nbformat": 4,
 "nbformat_minor": 5
}
