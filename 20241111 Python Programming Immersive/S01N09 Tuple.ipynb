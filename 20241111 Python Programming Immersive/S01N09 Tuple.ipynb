{
 "cells": [
  {
   "cell_type": "code",
   "execution_count": 2,
   "id": "992d3237",
   "metadata": {},
   "outputs": [],
   "source": [
    "alist = [1,2,3,4,5]"
   ]
  },
  {
   "cell_type": "code",
   "execution_count": 3,
   "id": "bf9cabc2",
   "metadata": {},
   "outputs": [],
   "source": [
    "alist[0] = 100"
   ]
  },
  {
   "cell_type": "code",
   "execution_count": 4,
   "id": "d71399a0",
   "metadata": {},
   "outputs": [],
   "source": [
    "t = tuple(alist)"
   ]
  },
  {
   "cell_type": "code",
   "execution_count": 5,
   "id": "841f41c8",
   "metadata": {},
   "outputs": [
    {
     "ename": "TypeError",
     "evalue": "'tuple' object does not support item assignment",
     "output_type": "error",
     "traceback": [
      "\u001b[0;31m---------------------------------------------------------------------------\u001b[0m",
      "\u001b[0;31mTypeError\u001b[0m                                 Traceback (most recent call last)",
      "Cell \u001b[0;32mIn[5], line 1\u001b[0m\n\u001b[0;32m----> 1\u001b[0m t[\u001b[38;5;241m0\u001b[39m] \u001b[38;5;241m=\u001b[39m \u001b[38;5;241m1\u001b[39m\n",
      "\u001b[0;31mTypeError\u001b[0m: 'tuple' object does not support item assignment"
     ]
    }
   ],
   "source": [
    "t[0] = 1"
   ]
  },
  {
   "cell_type": "code",
   "execution_count": 6,
   "id": "b39e50a1",
   "metadata": {},
   "outputs": [],
   "source": [
    "# list is mutuable sequence and should be homogeneous\n",
    "# tuple is immutable sequence and can be inhomogeneous\n",
    "# range is"
   ]
  },
  {
   "cell_type": "code",
   "execution_count": 7,
   "id": "cb7ee7aa",
   "metadata": {},
   "outputs": [],
   "source": [
    "employee = (123, \"John\", \"Johnson\", \"IT\")"
   ]
  },
  {
   "cell_type": "code",
   "execution_count": 8,
   "id": "72f330da",
   "metadata": {},
   "outputs": [
    {
     "data": {
      "text/plain": [
       "'John'"
      ]
     },
     "execution_count": 8,
     "metadata": {},
     "output_type": "execute_result"
    }
   ],
   "source": [
    "employee[1]"
   ]
  },
  {
   "cell_type": "code",
   "execution_count": 11,
   "id": "78112ae3",
   "metadata": {},
   "outputs": [],
   "source": [
    "num, first_name, last_name, dept = employee"
   ]
  },
  {
   "cell_type": "code",
   "execution_count": 12,
   "id": "412edb68",
   "metadata": {},
   "outputs": [
    {
     "data": {
      "text/plain": [
       "'John'"
      ]
     },
     "execution_count": 12,
     "metadata": {},
     "output_type": "execute_result"
    }
   ],
   "source": [
    "first_name"
   ]
  },
  {
   "cell_type": "code",
   "execution_count": 13,
   "id": "97741323",
   "metadata": {},
   "outputs": [
    {
     "data": {
      "text/plain": [
       "2"
      ]
     },
     "execution_count": 13,
     "metadata": {},
     "output_type": "execute_result"
    }
   ],
   "source": [
    "5 % 3"
   ]
  },
  {
   "cell_type": "code",
   "execution_count": 15,
   "id": "fd84c4f5",
   "metadata": {},
   "outputs": [
    {
     "data": {
      "text/plain": [
       "tuple"
      ]
     },
     "execution_count": 15,
     "metadata": {},
     "output_type": "execute_result"
    }
   ],
   "source": [
    "result = divmod(5,3)\n",
    "type(result)"
   ]
  },
  {
   "cell_type": "code",
   "execution_count": 17,
   "id": "69812a44",
   "metadata": {},
   "outputs": [
    {
     "data": {
      "text/plain": [
       "1"
      ]
     },
     "execution_count": 17,
     "metadata": {},
     "output_type": "execute_result"
    }
   ],
   "source": [
    "floor, reminder = result\n",
    "floor"
   ]
  },
  {
   "cell_type": "code",
   "execution_count": null,
   "id": "a4000833",
   "metadata": {},
   "outputs": [],
   "source": []
  }
 ],
 "metadata": {
  "kernelspec": {
   "display_name": "Python 3 (ipykernel)",
   "language": "python",
   "name": "python3"
  },
  "language_info": {
   "codemirror_mode": {
    "name": "ipython",
    "version": 3
   },
   "file_extension": ".py",
   "mimetype": "text/x-python",
   "name": "python",
   "nbconvert_exporter": "python",
   "pygments_lexer": "ipython3",
   "version": "3.11.5"
  }
 },
 "nbformat": 4,
 "nbformat_minor": 5
}
