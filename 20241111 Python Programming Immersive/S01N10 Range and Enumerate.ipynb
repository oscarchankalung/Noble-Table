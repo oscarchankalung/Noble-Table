{
 "cells": [
  {
   "cell_type": "code",
   "execution_count": 1,
   "id": "4c129454",
   "metadata": {},
   "outputs": [
    {
     "name": "stdout",
     "output_type": "stream",
     "text": [
      "Help on class range in module builtins:\n",
      "\n",
      "class range(object)\n",
      " |  range(stop) -> range object\n",
      " |  range(start, stop[, step]) -> range object\n",
      " |  \n",
      " |  Return an object that produces a sequence of integers from start (inclusive)\n",
      " |  to stop (exclusive) by step.  range(i, j) produces i, i+1, i+2, ..., j-1.\n",
      " |  start defaults to 0, and stop is omitted!  range(4) produces 0, 1, 2, 3.\n",
      " |  These are exactly the valid indices for a list of 4 elements.\n",
      " |  When step is given, it specifies the increment (or decrement).\n",
      " |  \n",
      " |  Methods defined here:\n",
      " |  \n",
      " |  __bool__(self, /)\n",
      " |      True if self else False\n",
      " |  \n",
      " |  __contains__(self, key, /)\n",
      " |      Return key in self.\n",
      " |  \n",
      " |  __eq__(self, value, /)\n",
      " |      Return self==value.\n",
      " |  \n",
      " |  __ge__(self, value, /)\n",
      " |      Return self>=value.\n",
      " |  \n",
      " |  __getattribute__(self, name, /)\n",
      " |      Return getattr(self, name).\n",
      " |  \n",
      " |  __getitem__(self, key, /)\n",
      " |      Return self[key].\n",
      " |  \n",
      " |  __gt__(self, value, /)\n",
      " |      Return self>value.\n",
      " |  \n",
      " |  __hash__(self, /)\n",
      " |      Return hash(self).\n",
      " |  \n",
      " |  __iter__(self, /)\n",
      " |      Implement iter(self).\n",
      " |  \n",
      " |  __le__(self, value, /)\n",
      " |      Return self<=value.\n",
      " |  \n",
      " |  __len__(self, /)\n",
      " |      Return len(self).\n",
      " |  \n",
      " |  __lt__(self, value, /)\n",
      " |      Return self<value.\n",
      " |  \n",
      " |  __ne__(self, value, /)\n",
      " |      Return self!=value.\n",
      " |  \n",
      " |  __reduce__(...)\n",
      " |      Helper for pickle.\n",
      " |  \n",
      " |  __repr__(self, /)\n",
      " |      Return repr(self).\n",
      " |  \n",
      " |  __reversed__(...)\n",
      " |      Return a reverse iterator.\n",
      " |  \n",
      " |  count(...)\n",
      " |      rangeobject.count(value) -> integer -- return number of occurrences of value\n",
      " |  \n",
      " |  index(...)\n",
      " |      rangeobject.index(value) -> integer -- return index of value.\n",
      " |      Raise ValueError if the value is not present.\n",
      " |  \n",
      " |  ----------------------------------------------------------------------\n",
      " |  Static methods defined here:\n",
      " |  \n",
      " |  __new__(*args, **kwargs) from builtins.type\n",
      " |      Create and return a new object.  See help(type) for accurate signature.\n",
      " |  \n",
      " |  ----------------------------------------------------------------------\n",
      " |  Data descriptors defined here:\n",
      " |  \n",
      " |  start\n",
      " |  \n",
      " |  step\n",
      " |  \n",
      " |  stop\n",
      "\n"
     ]
    }
   ],
   "source": [
    "help(range)"
   ]
  },
  {
   "cell_type": "code",
   "execution_count": 6,
   "id": "fe2c49a3",
   "metadata": {},
   "outputs": [
    {
     "name": "stdout",
     "output_type": "stream",
     "text": [
      "0\n",
      "1\n",
      "2\n",
      "3\n",
      "4\n",
      "5\n",
      "6\n",
      "7\n",
      "8\n",
      "9\n"
     ]
    }
   ],
   "source": [
    "for i in range(10):\n",
    "    print(i)"
   ]
  },
  {
   "cell_type": "code",
   "execution_count": 8,
   "id": "a32515af",
   "metadata": {},
   "outputs": [
    {
     "name": "stdout",
     "output_type": "stream",
     "text": [
      "1\n",
      "2\n",
      "3\n",
      "4\n",
      "5\n",
      "6\n",
      "7\n",
      "8\n",
      "9\n",
      "10\n"
     ]
    }
   ],
   "source": [
    "for i in range(1,11,1):\n",
    "    print(i)"
   ]
  },
  {
   "cell_type": "code",
   "execution_count": 13,
   "id": "0ebc2fc1",
   "metadata": {},
   "outputs": [
    {
     "name": "stdout",
     "output_type": "stream",
     "text": [
      "10\n",
      "9\n",
      "8\n",
      "7\n",
      "6\n",
      "5\n",
      "4\n",
      "3\n",
      "2\n",
      "1\n"
     ]
    }
   ],
   "source": [
    "for i in range(10, 0, -1):\n",
    "    print(i)"
   ]
  },
  {
   "cell_type": "code",
   "execution_count": 18,
   "id": "9fecdec1",
   "metadata": {},
   "outputs": [
    {
     "data": {
      "text/plain": [
       "5"
      ]
     },
     "execution_count": 18,
     "metadata": {},
     "output_type": "execute_result"
    }
   ],
   "source": [
    "word = \"apple\"\n",
    "len(word) "
   ]
  },
  {
   "cell_type": "code",
   "execution_count": 20,
   "id": "3c2424cf",
   "metadata": {},
   "outputs": [
    {
     "name": "stdout",
     "output_type": "stream",
     "text": [
      "0 a\n",
      "1 p\n",
      "2 p\n",
      "3 l\n",
      "4 e\n"
     ]
    }
   ],
   "source": [
    "for index in range(len(word)):\n",
    "    print(index, word[index])"
   ]
  },
  {
   "cell_type": "code",
   "execution_count": 29,
   "id": "ec40f40b",
   "metadata": {},
   "outputs": [
    {
     "name": "stdout",
     "output_type": "stream",
     "text": [
      "-1 e\n",
      "-2 l\n",
      "-3 p\n",
      "-4 p\n",
      "-5 a\n"
     ]
    }
   ],
   "source": [
    "for index in range(len(word)):\n",
    "    index = - index - 1\n",
    "    print(index, word[index])"
   ]
  },
  {
   "cell_type": "code",
   "execution_count": 31,
   "id": "8767490a",
   "metadata": {},
   "outputs": [
    {
     "name": "stdout",
     "output_type": "stream",
     "text": [
      "4 e\n",
      "3 l\n",
      "2 p\n",
      "1 p\n",
      "0 a\n"
     ]
    }
   ],
   "source": [
    "for index in range(len(word)-1, -1, -1):\n",
    "    print(index, word[index])"
   ]
  },
  {
   "cell_type": "code",
   "execution_count": 55,
   "id": "7edf236e",
   "metadata": {},
   "outputs": [
    {
     "name": "stdout",
     "output_type": "stream",
     "text": [
      "1 * \n",
      "2 * * \n",
      "3 * * * \n",
      "4 * * * * \n",
      "3 * * * \n",
      "2 * * \n",
      "1 * \n"
     ]
    }
   ],
   "source": [
    "height = 4\n",
    "symbol = \"*\"\n",
    "\n",
    "for i in range(height):\n",
    "    i = i + 1\n",
    "    print(i, (symbol + \" \") * i)\n",
    "\n",
    "for i in range(height, 1, -1):\n",
    "    i = i - 1\n",
    "    print(i, (symbol + \" \") * i)"
   ]
  },
  {
   "cell_type": "code",
   "execution_count": 58,
   "id": "5ac0d995",
   "metadata": {},
   "outputs": [],
   "source": [
    "# multiplication table\n",
    "# use help() and print()"
   ]
  },
  {
   "cell_type": "code",
   "execution_count": 59,
   "id": "77b40e45",
   "metadata": {},
   "outputs": [
    {
     "name": "stdout",
     "output_type": "stream",
     "text": [
      "Help on built-in function print in module builtins:\n",
      "\n",
      "print(*args, sep=' ', end='\\n', file=None, flush=False)\n",
      "    Prints the values to a stream, or to sys.stdout by default.\n",
      "    \n",
      "    sep\n",
      "      string inserted between values, default a space.\n",
      "    end\n",
      "      string appended after the last value, default a newline.\n",
      "    file\n",
      "      a file-like object (stream); defaults to the current sys.stdout.\n",
      "    flush\n",
      "      whether to forcibly flush the stream.\n",
      "\n"
     ]
    }
   ],
   "source": [
    "help(print)"
   ]
  },
  {
   "cell_type": "code",
   "execution_count": 90,
   "id": "34556b75",
   "metadata": {},
   "outputs": [
    {
     "name": "stdout",
     "output_type": "stream",
     "text": [
      "   1   2   3   4   5   6   7   8   9  10 /\n",
      "   2   4   6   8  10  12  14  16  18  20 /\n",
      "   3   6   9  12  15  18  21  24  27  30 /\n",
      "   4   8  12  16  20  24  28  32  36  40 /\n",
      "   5  10  15  20  25  30  35  40  45  50 /\n",
      "   6  12  18  24  30  36  42  48  54  60 /\n",
      "   7  14  21  28  35  42  49  56  63  70 /\n",
      "   8  16  24  32  40  48  56  64  72  80 /\n",
      "   9  18  27  36  45  54  63  72  81  90 /\n",
      "  10  20  30  40  50  60  70  80  90 100 /\n"
     ]
    }
   ],
   "source": [
    "for i in range(1, 10 + 1):\n",
    "    for j in range(1, 10 + 1):\n",
    "        result = i * j\n",
    "        print(f\"{result:4}\", end=\"\")\n",
    "    print(\" /\")"
   ]
  },
  {
   "cell_type": "code",
   "execution_count": 91,
   "id": "54aa1393",
   "metadata": {},
   "outputs": [],
   "source": [
    "# avoid nested for loop to reduce runtime complex in reality"
   ]
  },
  {
   "cell_type": "code",
   "execution_count": 95,
   "id": "08fe3766",
   "metadata": {},
   "outputs": [
    {
     "name": "stdout",
     "output_type": "stream",
     "text": [
      "before: [0, 0, 0, 1, 0, 0, 0, 0]\n",
      "after: [0, 0, 0, 0, 0, 0, 0, 0]\n"
     ]
    }
   ],
   "source": [
    "alist = [0,0,0,1,0,0,0,0]\n",
    "\n",
    "# Replace 1 with 0 in alist using function range\n",
    "\n",
    "print(f\"before: {alist}\")\n",
    "\n",
    "for index in range(len(alist)):\n",
    "    if alist[index] == 1:\n",
    "        alist[index] = 0\n",
    "\n",
    "print(f\"after: {alist}\")"
   ]
  },
  {
   "cell_type": "markdown",
   "id": "2c0e3c68",
   "metadata": {},
   "source": [
    "Write a Python program which iterates the integers from 1 to 100. For multiples of three print \"Fizz\" instead of the number and for the multiples of five print \"Buzz\". For numbers which are multiples of both three and five print \"FizzBuzz\"."
   ]
  },
  {
   "cell_type": "code",
   "execution_count": 100,
   "id": "8ecf86b7",
   "metadata": {},
   "outputs": [
    {
     "name": "stdout",
     "output_type": "stream",
     "text": [
      "1\n",
      "2\n",
      "Fizz\n",
      "4\n",
      "Buzz\n",
      "Fizz\n",
      "7\n",
      "8\n",
      "Fizz\n",
      "Buzz\n",
      "11\n",
      "Fizz\n",
      "13\n",
      "14\n",
      "FizzBuzz\n",
      "16\n",
      "17\n",
      "Fizz\n",
      "19\n",
      "Buzz\n",
      "Fizz\n",
      "22\n",
      "23\n",
      "Fizz\n",
      "Buzz\n",
      "26\n",
      "Fizz\n",
      "28\n",
      "29\n",
      "FizzBuzz\n",
      "31\n",
      "32\n",
      "Fizz\n",
      "34\n",
      "Buzz\n",
      "Fizz\n",
      "37\n",
      "38\n",
      "Fizz\n",
      "Buzz\n",
      "41\n",
      "Fizz\n",
      "43\n",
      "44\n",
      "FizzBuzz\n",
      "46\n",
      "47\n",
      "Fizz\n",
      "49\n",
      "Buzz\n",
      "Fizz\n",
      "52\n",
      "53\n",
      "Fizz\n",
      "Buzz\n",
      "56\n",
      "Fizz\n",
      "58\n",
      "59\n",
      "FizzBuzz\n",
      "61\n",
      "62\n",
      "Fizz\n",
      "64\n",
      "Buzz\n",
      "Fizz\n",
      "67\n",
      "68\n",
      "Fizz\n",
      "Buzz\n",
      "71\n",
      "Fizz\n",
      "73\n",
      "74\n",
      "FizzBuzz\n",
      "76\n",
      "77\n",
      "Fizz\n",
      "79\n",
      "Buzz\n",
      "Fizz\n",
      "82\n",
      "83\n",
      "Fizz\n",
      "Buzz\n",
      "86\n",
      "Fizz\n",
      "88\n",
      "89\n",
      "FizzBuzz\n",
      "91\n",
      "92\n",
      "Fizz\n",
      "94\n",
      "Buzz\n",
      "Fizz\n",
      "97\n",
      "98\n",
      "Fizz\n",
      "Buzz\n"
     ]
    }
   ],
   "source": [
    "for i in range(1, 100 + 1):\n",
    "    is_fizz = i % 3 == 0\n",
    "    is_buzz = i % 5 == 0\n",
    "    \n",
    "    if is_fizz and is_buzz:\n",
    "        print(\"FizzBuzz\")\n",
    "    elif is_fizz:\n",
    "        print(\"Fizz\")\n",
    "    elif is_buzz:\n",
    "        print(\"Buzz\")\n",
    "    else:\n",
    "        print(i)"
   ]
  },
  {
   "cell_type": "code",
   "execution_count": 102,
   "id": "5abb641b",
   "metadata": {},
   "outputs": [
    {
     "data": {
      "text/plain": [
       "[(0, 'a'), (1, 'p'), (2, 'p'), (3, 'l'), (4, 'e')]"
      ]
     },
     "execution_count": 102,
     "metadata": {},
     "output_type": "execute_result"
    }
   ],
   "source": [
    "e = list(enumerate(\"apple\"))\n",
    "e"
   ]
  },
  {
   "cell_type": "code",
   "execution_count": 101,
   "id": "d0693e36",
   "metadata": {},
   "outputs": [
    {
     "name": "stdout",
     "output_type": "stream",
     "text": [
      "0 a\n",
      "1 p\n",
      "2 p\n",
      "3 l\n",
      "4 e\n"
     ]
    }
   ],
   "source": [
    "for index, value in enumerate(\"apple\") :\n",
    "    print(index, value)"
   ]
  },
  {
   "cell_type": "code",
   "execution_count": 125,
   "id": "a1ba0237",
   "metadata": {},
   "outputs": [
    {
     "name": "stdout",
     "output_type": "stream",
     "text": [
      "---> 0 r == r 6 <---\n",
      "---> 1 a == a 5 <---\n",
      "---> 2 c == c 4 <---\n",
      "True\n"
     ]
    }
   ],
   "source": [
    "word = \"racecar\"\n",
    "midpoint = len(word) // 2\n",
    "is_palindrome = True\n",
    "\n",
    "for i in range(midpoint):\n",
    "    x = i\n",
    "    y = len(word) - x - 1\n",
    "    \n",
    "    print(\"--->\", x, word[x], \"==\", word[y], y, \"<---\")\n",
    "    \n",
    "    if word[x] != word[y]:\n",
    "        is_palindrome = False\n",
    "        break\n",
    "\n",
    "print(is_palindrome)"
   ]
  }
 ],
 "metadata": {
  "kernelspec": {
   "display_name": "Python 3 (ipykernel)",
   "language": "python",
   "name": "python3"
  },
  "language_info": {
   "codemirror_mode": {
    "name": "ipython",
    "version": 3
   },
   "file_extension": ".py",
   "mimetype": "text/x-python",
   "name": "python",
   "nbconvert_exporter": "python",
   "pygments_lexer": "ipython3",
   "version": "3.11.5"
  }
 },
 "nbformat": 4,
 "nbformat_minor": 5
}
