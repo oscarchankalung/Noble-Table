{
 "cells": [
  {
   "cell_type": "code",
   "execution_count": 17,
   "id": "1674f7e9-f338-4523-bfa1-8ca6427d31dc",
   "metadata": {},
   "outputs": [],
   "source": [
    "# Dictationary\n",
    "\n",
    "# collection of pairs with keys and values\n",
    "# key has to be unique and immutable\n",
    "# value can be anything"
   ]
  },
  {
   "cell_type": "code",
   "execution_count": 19,
   "id": "019b0e5c-9be7-4fa4-bff1-e7d96f7ccf2e",
   "metadata": {},
   "outputs": [
    {
     "name": "stdout",
     "output_type": "stream",
     "text": [
      "['__class__', '__class_getitem__', '__contains__', '__delattr__', '__delitem__', '__dir__', '__doc__', '__eq__', '__format__', '__ge__', '__getattribute__', '__getitem__', '__getstate__', '__gt__', '__hash__', '__init__', '__init_subclass__', '__ior__', '__iter__', '__le__', '__len__', '__lt__', '__ne__', '__new__', '__or__', '__reduce__', '__reduce_ex__', '__repr__', '__reversed__', '__ror__', '__setattr__', '__setitem__', '__sizeof__', '__str__', '__subclasshook__', 'clear', 'copy', 'fromkeys', 'get', 'items', 'keys', 'pop', 'popitem', 'setdefault', 'update', 'values']\n"
     ]
    }
   ],
   "source": [
    "print(dir(dict))"
   ]
  },
  {
   "cell_type": "code",
   "execution_count": 21,
   "id": "7082339d-5d35-4cf3-9db6-d731736819ab",
   "metadata": {},
   "outputs": [],
   "source": [
    "d = {}"
   ]
  },
  {
   "cell_type": "code",
   "execution_count": 23,
   "id": "2fde614c-d1dc-4c71-898b-2e18cddb18d8",
   "metadata": {},
   "outputs": [],
   "source": [
    "d[\"John\"] = 12345678\n",
    "d[\"Mary\"] = 35828637\n",
    "d[\"Mark\"] = 78736248"
   ]
  },
  {
   "cell_type": "code",
   "execution_count": 25,
   "id": "2d3b595e-9cd4-4736-9bab-2f6d37914d52",
   "metadata": {},
   "outputs": [
    {
     "data": {
      "text/plain": [
       "{'John': 12345678, 'Mary': 35828637, 'Mark': 78736248}"
      ]
     },
     "execution_count": 25,
     "metadata": {},
     "output_type": "execute_result"
    }
   ],
   "source": [
    "d"
   ]
  },
  {
   "cell_type": "code",
   "execution_count": 28,
   "id": "46d67b08-b80a-400a-9d93-57072c155c66",
   "metadata": {},
   "outputs": [],
   "source": [
    "d[(1,2,3,4)] = 0"
   ]
  },
  {
   "cell_type": "code",
   "execution_count": 30,
   "id": "af0a3a4d-5e9b-4763-a088-31695320b744",
   "metadata": {},
   "outputs": [],
   "source": [
    "d[True] = 0"
   ]
  },
  {
   "cell_type": "code",
   "execution_count": 32,
   "id": "a207ccc4-408b-4218-bf4a-6b76a0425ff3",
   "metadata": {},
   "outputs": [
    {
     "data": {
      "text/plain": [
       "{'John': 12345678,\n",
       " 'Mary': 35828637,\n",
       " 'Mark': 78736248,\n",
       " (1, 2, 3, 4): 0,\n",
       " True: 0}"
      ]
     },
     "execution_count": 32,
     "metadata": {},
     "output_type": "execute_result"
    }
   ],
   "source": [
    "d"
   ]
  },
  {
   "cell_type": "code",
   "execution_count": 34,
   "id": "e32b3307-8c4b-4c20-ae1f-df0321875998",
   "metadata": {},
   "outputs": [],
   "source": [
    "del d[(1,2,3,4)]"
   ]
  },
  {
   "cell_type": "code",
   "execution_count": 36,
   "id": "6c3ce8c4-fa2f-47cf-aa8d-cde86bc803e9",
   "metadata": {},
   "outputs": [],
   "source": [
    "del d[True]"
   ]
  },
  {
   "cell_type": "code",
   "execution_count": null,
   "id": "6519c910-8acc-4172-8b06-afb88368755f",
   "metadata": {},
   "outputs": [],
   "source": [
    "d[\"<a]"
   ]
  }
 ],
 "metadata": {
  "kernelspec": {
   "display_name": "Python 3 (ipykernel)",
   "language": "python",
   "name": "python3"
  },
  "language_info": {
   "codemirror_mode": {
    "name": "ipython",
    "version": 3
   },
   "file_extension": ".py",
   "mimetype": "text/x-python",
   "name": "python",
   "nbconvert_exporter": "python",
   "pygments_lexer": "ipython3",
   "version": "3.11.5"
  }
 },
 "nbformat": 4,
 "nbformat_minor": 5
}
