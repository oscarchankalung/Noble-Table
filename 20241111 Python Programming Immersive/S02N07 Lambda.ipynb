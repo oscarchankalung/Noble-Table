{
 "cells": [
  {
   "cell_type": "code",
   "execution_count": 13,
   "id": "9e4e9fc9-3e8a-4d2f-96bd-8c533ea971d4",
   "metadata": {},
   "outputs": [],
   "source": [
    "# lambda - a small anonymous function\n",
    "# lambda in  : out\n",
    "# lambda arguments : expression\n",
    "\n",
    "# lambad run as an expression\n",
    "# i.e. a temprorary function that doesn't take memory"
   ]
  },
  {
   "cell_type": "code",
   "execution_count": 15,
   "id": "15dd8612-fba4-4fcc-b991-35759dea571c",
   "metadata": {},
   "outputs": [],
   "source": [
    "def add(a, b):\n",
    "    return a + b"
   ]
  },
  {
   "cell_type": "code",
   "execution_count": 17,
   "id": "4b78b6c9-716d-4d85-bc9e-955546e81db0",
   "metadata": {},
   "outputs": [],
   "source": [
    "lambda_add = lambda a, b : a + b"
   ]
  },
  {
   "cell_type": "code",
   "execution_count": 19,
   "id": "b6f3a7de-9fff-4cd3-8916-831f40d23e31",
   "metadata": {},
   "outputs": [
    {
     "data": {
      "text/plain": [
       "11"
      ]
     },
     "execution_count": 19,
     "metadata": {},
     "output_type": "execute_result"
    }
   ],
   "source": [
    "lambda_add(5, 6)"
   ]
  },
  {
   "cell_type": "code",
   "execution_count": 21,
   "id": "abf6b89a-47f6-4a10-af94-acf572208050",
   "metadata": {},
   "outputs": [],
   "source": [
    "alist = [1,2,3]"
   ]
  },
  {
   "cell_type": "code",
   "execution_count": 29,
   "id": "697ffd36-a25a-4c37-ba14-0f7117590f56",
   "metadata": {},
   "outputs": [
    {
     "data": {
      "text/plain": [
       "[2, 4, 6]"
      ]
     },
     "execution_count": 29,
     "metadata": {},
     "output_type": "execute_result"
    }
   ],
   "source": [
    "result = list(map(lambda x : x + x, alist))\n",
    "result"
   ]
  },
  {
   "cell_type": "code",
   "execution_count": 35,
   "id": "edaf9222-ac9d-490b-abf2-00899c2f191c",
   "metadata": {},
   "outputs": [],
   "source": [
    "# use map and lambda to capitalize the strings"
   ]
  },
  {
   "cell_type": "code",
   "execution_count": 43,
   "id": "61f95277-b903-4a67-8998-ad5dbd2c6991",
   "metadata": {},
   "outputs": [
    {
     "data": {
      "text/plain": [
       "['Mon', 'Tue', 'Wed']"
      ]
     },
     "execution_count": 43,
     "metadata": {},
     "output_type": "execute_result"
    }
   ],
   "source": [
    "week = [\"mon\", \"tue\", \"wed\"]\n",
    "\n",
    "cap_week = list(map(str.capitalize, week))\n",
    "cap_week"
   ]
  },
  {
   "cell_type": "code",
   "execution_count": 57,
   "id": "fc2f44cd-e1bf-4fdb-afdf-017ee30e5be9",
   "metadata": {},
   "outputs": [],
   "source": [
    "# lambda var     : expression_if if statement else expression_else\n",
    "# lambad weather : I_will_go_out if weather_is_good else stay_home"
   ]
  },
  {
   "cell_type": "code",
   "execution_count": 79,
   "id": "7441e692-c6e2-45e0-a18d-8d7f0153f4b3",
   "metadata": {},
   "outputs": [
    {
     "data": {
      "text/plain": [
       "[(1, 'odd'),\n",
       " (2, 'even'),\n",
       " (3, 'odd'),\n",
       " (4, 'even'),\n",
       " (5, 'odd'),\n",
       " (6, 'even'),\n",
       " (7, 'odd'),\n",
       " (8, 'even'),\n",
       " (9, 'odd'),\n",
       " (10, 'even')]"
      ]
     },
     "execution_count": 79,
     "metadata": {},
     "output_type": "execute_result"
    }
   ],
   "source": [
    "numbers = list(range(1, 11))\n",
    "even_odd = list(map(lambda x : (x, \"even\") if x % 2 == 0 else (x, \"odd\"), numbers))\n",
    "even_odd"
   ]
  },
  {
   "cell_type": "code",
   "execution_count": 77,
   "id": "dfc5a915-146c-489d-bc2d-97d90b259fac",
   "metadata": {},
   "outputs": [],
   "source": [
    "# if number is greater than 5 multiple it by 100 otherwise leave the number as it is"
   ]
  },
  {
   "cell_type": "code",
   "execution_count": 85,
   "id": "1b6c1955-fbf0-4d41-abd4-2bb90a5b919b",
   "metadata": {},
   "outputs": [
    {
     "data": {
      "text/plain": [
       "[(1, 1),\n",
       " (2, 2),\n",
       " (3, 3),\n",
       " (4, 4),\n",
       " (5, 5),\n",
       " (6, 600),\n",
       " (7, 700),\n",
       " (8, 800),\n",
       " (9, 900),\n",
       " (10, 1000)]"
      ]
     },
     "execution_count": 85,
     "metadata": {},
     "output_type": "execute_result"
    }
   ],
   "source": [
    "# answer\n",
    "\n",
    "numbers = list(range(1, 11))\n",
    "multipliers = list(map(lambda x : (x, x * 100) if x > 5 else (x, x), numbers))\n",
    "multipliers"
   ]
  }
 ],
 "metadata": {
  "kernelspec": {
   "display_name": "Python 3 (ipykernel)",
   "language": "python",
   "name": "python3"
  },
  "language_info": {
   "codemirror_mode": {
    "name": "ipython",
    "version": 3
   },
   "file_extension": ".py",
   "mimetype": "text/x-python",
   "name": "python",
   "nbconvert_exporter": "python",
   "pygments_lexer": "ipython3",
   "version": "3.11.5"
  }
 },
 "nbformat": 4,
 "nbformat_minor": 5
}
