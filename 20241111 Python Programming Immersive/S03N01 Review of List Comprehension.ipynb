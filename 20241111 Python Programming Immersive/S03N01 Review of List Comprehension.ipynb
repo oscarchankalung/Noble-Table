{
 "cells": [
  {
   "cell_type": "code",
   "execution_count": 3,
   "id": "df755d0b-3459-42f6-901f-b45a4a1cf4c4",
   "metadata": {},
   "outputs": [],
   "source": [
    "# add all fives to the five_list"
   ]
  },
  {
   "cell_type": "code",
   "execution_count": 45,
   "id": "779b1456-1838-4376-9cab-5a6da9ab3599",
   "metadata": {},
   "outputs": [
    {
     "data": {
      "text/plain": [
       "[5, 5, 5, 5, 5]"
      ]
     },
     "execution_count": 45,
     "metadata": {},
     "output_type": "execute_result"
    }
   ],
   "source": [
    "# answer\n",
    "\n",
    "number_list = [1,2,3,4,5,5,5,5,5]\n",
    "five_list = []\n",
    "\n",
    "for number in number_list:\n",
    "    if number == 5:\n",
    "        five_list.append(number)\n",
    "\n",
    "five_list"
   ]
  },
  {
   "cell_type": "code",
   "execution_count": 13,
   "id": "5c89c1a8-557a-439c-9845-5e0c8bc4bce3",
   "metadata": {},
   "outputs": [
    {
     "data": {
      "text/plain": [
       "[5, 5, 5, 5, 5]"
      ]
     },
     "execution_count": 13,
     "metadata": {},
     "output_type": "execute_result"
    }
   ],
   "source": [
    "# solution\n",
    "\n",
    "# [expression for loop filter]\n",
    "# list comprehension is faster than append\n",
    "\n",
    "number_list = [1,2,3,4,5,5,5,5,5]\n",
    "five_list = [number for number in number_list if number == 5]\n",
    "five_list"
   ]
  },
  {
   "cell_type": "code",
   "execution_count": 15,
   "id": "62919dda-dc64-4725-a066-03841e3cbe65",
   "metadata": {},
   "outputs": [],
   "source": [
    "# capitalize week_list using list comprehension"
   ]
  },
  {
   "cell_type": "code",
   "execution_count": 21,
   "id": "a2621a23-2135-4be4-857e-30c471d3b920",
   "metadata": {},
   "outputs": [
    {
     "data": {
      "text/plain": [
       "['Mon', 'Tue', 'Wed']"
      ]
     },
     "execution_count": 21,
     "metadata": {},
     "output_type": "execute_result"
    }
   ],
   "source": [
    "# answer\n",
    "\n",
    "weekday_list = [\"mon\", \"tue\", \"wed\"]\n",
    "capped_weekday_list = [weekday.capitalize() for weekday in weekday_list]\n",
    "capped_weekday_list"
   ]
  },
  {
   "cell_type": "code",
   "execution_count": 23,
   "id": "3b719d05-2f38-4ebc-9f22-a6ebd4dc04cc",
   "metadata": {},
   "outputs": [],
   "source": [
    "# mulitple all numbers by 100 using list comprehension"
   ]
  },
  {
   "cell_type": "code",
   "execution_count": 35,
   "id": "bf5ff200-c321-4a2c-9928-09e0ca0d89fb",
   "metadata": {},
   "outputs": [
    {
     "data": {
      "text/plain": [
       "[100, 200, 300, 400, 500, 600]"
      ]
     },
     "execution_count": 35,
     "metadata": {},
     "output_type": "execute_result"
    }
   ],
   "source": [
    "string = \"a1b2c3d4e5f6\"\n",
    "\n",
    "multipled_string = [int(char) * 100 for char in string if char.isdigit()]\n",
    "multipled_string"
   ]
  },
  {
   "cell_type": "code",
   "execution_count": 33,
   "id": "2e221b81-7ae8-48db-ba32-0d54e47b1fd5",
   "metadata": {},
   "outputs": [
    {
     "data": {
      "text/plain": [
       "'123456'"
      ]
     },
     "execution_count": 33,
     "metadata": {},
     "output_type": "execute_result"
    }
   ],
   "source": [
    "joined_string = \"\".join([number for number in string if number.isdigit()])\n",
    "joined_string"
   ]
  },
  {
   "cell_type": "code",
   "execution_count": 43,
   "id": "90c8a3f9-114a-4854-98de-1734115a75ae",
   "metadata": {},
   "outputs": [
    {
     "data": {
      "text/plain": [
       "[(1, 'Odd'),\n",
       " (2, 'Even'),\n",
       " (3, 'Odd'),\n",
       " (4, 'Even'),\n",
       " (5, 'Odd'),\n",
       " (6, 'Even'),\n",
       " (7, 'Odd'),\n",
       " (8, 'Even'),\n",
       " (9, 'Odd'),\n",
       " (10, 'Even')]"
      ]
     },
     "execution_count": 43,
     "metadata": {},
     "output_type": "execute_result"
    }
   ],
   "source": [
    "number_list = list(range(1,11))\n",
    "even_odd_list = [(num, \"Even\" if num % 2 == 0 else \"Odd\") for num in number_list]\n",
    "even_odd_list"
   ]
  }
 ],
 "metadata": {
  "kernelspec": {
   "display_name": "Python 3 (ipykernel)",
   "language": "python",
   "name": "python3"
  },
  "language_info": {
   "codemirror_mode": {
    "name": "ipython",
    "version": 3
   },
   "file_extension": ".py",
   "mimetype": "text/x-python",
   "name": "python",
   "nbconvert_exporter": "python",
   "pygments_lexer": "ipython3",
   "version": "3.11.5"
  }
 },
 "nbformat": 4,
 "nbformat_minor": 5
}
