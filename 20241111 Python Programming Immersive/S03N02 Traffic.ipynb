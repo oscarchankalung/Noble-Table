{
 "cells": [
  {
   "cell_type": "markdown",
   "id": "df1ef773-b4c8-453b-8a61-cc987bb1321a",
   "metadata": {},
   "source": [
    "```\n",
    "A very prestigious art gallery has contacted you regarding a job. Get to work!\n",
    "\n",
    "Management wants to figure out how many people visit each room in the gallery, and for how long: this is to help improve the quality of the overall gallery in the future.\n",
    "\n",
    "Your goal is to write a program that takes a formatted text file that describes the overall gallery's foot-traffic on a minute-to-minute basis. From this data you must compute the average time spent in each room, and how many visitors there were in each room.\n",
    "\n",
    "The Input:\n",
    "\n",
    "Each line in the text file represents either a visitor entering or leaving a room. \n",
    "\n",
    "It starts with an integer, representing a visitor's unique identifier. \n",
    "\n",
    "Next on this line is another integer, representing the room's number. \n",
    "\n",
    "Next is a single character, either 'I' (for \"In\") for this visitor entering the room, or 'O' (for \"out\") for the visitor leaving the room. \n",
    "\n",
    "Finally, at the end of this line, there is a time-stamp integer: it is an integer representing the minute the event occurred during the day. \n",
    "\n",
    "All of these elements are space-delimited.\n",
    "You may assume that all input is logically well-formed: for each person entering a room, he or she will always leave it at some point in the future. A visitor will only be in one room at a time.\n",
    "\n",
    "Note that the order of events in the log are not sorted in any way; it shouldn't matter, as you can solve this problem without sorting given data.\n",
    "\n",
    "Sample Input:\n",
    "\n",
    "        0 0 I 540\n",
    "        1 0 I 540\n",
    "        0 0 O 560\n",
    "        1 0 O 560\n",
    "        \n",
    "The Output:\n",
    "\n",
    "For each room that had log data associated with it, print the room number, then print the average length of time visitors have stayed as an integer, and then finally print the total number of visitors in the room. All of this should be on the same line and be space delimited; you may optionally include labels on this text, like in our sample output 1.\n",
    "\n",
    "Sample Output:\n",
    "\n",
    "        Room 0, 20 minute average visit, 2 visitor(s) total\n",
    "        \n",
    "Loading the Text File:\n",
    "\n",
    "You'll find a text file traffic.txt in this repo. Import this text file and parse it to get the results.\n",
    "\n",
    "When you are done solving the problem, write your output to another text file and save it.\n",
    "```"
   ]
  },
  {
   "cell_type": "code",
   "execution_count": 39,
   "id": "d1f512e6-a6d0-4361-81ab-3ef9b472de32",
   "metadata": {},
   "outputs": [],
   "source": [
    "# 1. add room numbers as key to d and values should be 1\n",
    "# 2. add (average_minutes_visitor, visitors) to a dict, key will be the room number,\n",
    "# 3. sort that dict by numbers of visitors\n",
    "# 4. wrtie this data into a text file"
   ]
  },
  {
   "cell_type": "code",
   "execution_count": 153,
   "id": "db774785-bab8-4111-aaa7-2dfe684657e7",
   "metadata": {},
   "outputs": [],
   "source": [
    "file = open(r\"traffic.txt\", \"r\", encoding=\"utf8\")\n",
    "\n",
    "d = {}\n",
    "\n",
    "# create a list of IN and OUT time\n",
    "for line in file:\n",
    "    user, room, direction, time = line.split()\n",
    "    time = int(time)\n",
    "    d[room] = d.get(room, []) \n",
    "\n",
    "    if direction == \"I\":\n",
    "        d[room].append(-time)\n",
    "    if direction == \"O\":\n",
    "        d[room].append(time)\n",
    "\n",
    "file.close()"
   ]
  },
  {
   "cell_type": "code",
   "execution_count": 167,
   "id": "f192d6fd-bcd6-4e95-be4f-1222fe50adad",
   "metadata": {},
   "outputs": [
    {
     "ename": "TypeError",
     "evalue": "unhashable type: 'slice'",
     "output_type": "error",
     "traceback": [
      "\u001b[0;31m---------------------------------------------------------------------------\u001b[0m",
      "\u001b[0;31mTypeError\u001b[0m                                 Traceback (most recent call last)",
      "Cell \u001b[0;32mIn[167], line 10\u001b[0m\n\u001b[1;32m      7\u001b[0m     average_minutes \u001b[38;5;241m=\u001b[39m \u001b[38;5;28mround\u001b[39m(total_minutes \u001b[38;5;241m/\u001b[39m visitors)\n\u001b[1;32m      8\u001b[0m     d_visitor[key] \u001b[38;5;241m=\u001b[39m (average_minutes, visitors)\n\u001b[0;32m---> 10\u001b[0m d_visitor[:\u001b[38;5;241m10\u001b[39m]\n",
      "\u001b[0;31mTypeError\u001b[0m: unhashable type: 'slice'"
     ]
    }
   ],
   "source": [
    "d_visitor = {}\n",
    "\n",
    "# get average_minutes and visitors\n",
    "for key, values in d.items():\n",
    "    visitors = len(values) // 2\n",
    "    total_minutes = sum(values)\n",
    "    average_minutes = round(total_minutes / visitors)\n",
    "    d_visitor[key] = (average_minutes, visitors)\n",
    "\n",
    "d_visitor"
   ]
  },
  {
   "cell_type": "code",
   "execution_count": 169,
   "id": "f19376e5-4636-49da-b9ad-154a238d3ea8",
   "metadata": {},
   "outputs": [
    {
     "data": {
      "text/plain": [
       "[('15', (107, 6)),\n",
       " ('21', (70, 6)),\n",
       " ('4', (40, 5)),\n",
       " ('9', (84, 5)),\n",
       " ('25', (70, 5)),\n",
       " ('32', (62, 4)),\n",
       " ('28', (82, 4)),\n",
       " ('1', (36, 4)),\n",
       " ('30', (62, 4)),\n",
       " ('8', (67, 4))]"
      ]
     },
     "execution_count": 169,
     "metadata": {},
     "output_type": "execute_result"
    }
   ],
   "source": [
    "# sort\n",
    "alist = list(d_visitor.items())\n",
    "alist.sort(key = lambda t : t[1][1], reverse = True)\n",
    "alist[:10]"
   ]
  },
  {
   "cell_type": "code",
   "execution_count": 163,
   "id": "1244c480-5eb0-4a31-9444-b414ef3d7e33",
   "metadata": {},
   "outputs": [
    {
     "name": "stdout",
     "output_type": "stream",
     "text": [
      "Room 15, 107 minute average visit, 6 visitor(s) total\n",
      "Room 21, 70 minute average visit, 6 visitor(s) total\n",
      "Room 4, 40 minute average visit, 5 visitor(s) total\n",
      "Room 9, 84 minute average visit, 5 visitor(s) total\n",
      "Room 25, 70 minute average visit, 5 visitor(s) total\n",
      "Room 32, 62 minute average visit, 4 visitor(s) total\n",
      "Room 28, 82 minute average visit, 4 visitor(s) total\n",
      "Room 1, 36 minute average visit, 4 visitor(s) total\n",
      "Room 30, 62 minute average visit, 4 visitor(s) total\n",
      "Room 8, 67 minute average visit, 4 visitor(s) total\n",
      "Room 3, 79 minute average visit, 4 visitor(s) total\n",
      "Room 12, 46 minute average visit, 3 visitor(s) total\n",
      "Room 35, 69 minute average visit, 3 visitor(s) total\n",
      "Room 31, 90 minute average visit, 3 visitor(s) total\n",
      "Room 37, 66 minute average visit, 3 visitor(s) total\n",
      "Room 16, 103 minute average visit, 3 visitor(s) total\n",
      "Room 38, 46 minute average visit, 3 visitor(s) total\n",
      "Room 29, 80 minute average visit, 3 visitor(s) total\n",
      "Room 23, 38 minute average visit, 3 visitor(s) total\n",
      "Room 20, 98 minute average visit, 2 visitor(s) total\n",
      "Room 34, 38 minute average visit, 2 visitor(s) total\n",
      "Room 22, 34 minute average visit, 2 visitor(s) total\n",
      "Room 19, 38 minute average visit, 2 visitor(s) total\n",
      "Room 14, 102 minute average visit, 2 visitor(s) total\n",
      "Room 6, 50 minute average visit, 2 visitor(s) total\n",
      "Room 7, 34 minute average visit, 2 visitor(s) total\n",
      "Room 5, 53 minute average visit, 1 visitor(s) total\n",
      "Room 13, 121 minute average visit, 1 visitor(s) total\n",
      "Room 11, 111 minute average visit, 1 visitor(s) total\n",
      "Room 26, 21 minute average visit, 1 visitor(s) total\n",
      "Room 17, 112 minute average visit, 1 visitor(s) total\n",
      "Room 10, 43 minute average visit, 1 visitor(s) total\n",
      "Room 2, 38 minute average visit, 1 visitor(s) total\n"
     ]
    }
   ],
   "source": [
    "# write\n",
    "report = open(r\"traffic_report.txt\", \"w\", encoding=\"utf8\")\n",
    "report = open(r\"traffic_report.txt\", \"a\", encoding=\"utf8\")\n",
    "\n",
    "for key_room, values in alist:\n",
    "    entry = f\"Room {key_room}, {values[0]} minute average visit, {values[1]} visitor(s) total\"\n",
    "    report.write(entry + \"\\n\")\n",
    "    print(entry)"
   ]
  },
  {
   "cell_type": "code",
   "execution_count": 165,
   "id": "c2f967a8-ff6b-42ff-ab53-dd4833c4e79d",
   "metadata": {},
   "outputs": [
    {
     "data": {
      "text/plain": [
       "['Room 15, 107 minute average visit, 6 visitor(s) total',\n",
       " 'Room 21, 70 minute average visit, 6 visitor(s) total',\n",
       " 'Room 4, 40 minute average visit, 5 visitor(s) total',\n",
       " 'Room 9, 84 minute average visit, 5 visitor(s) total',\n",
       " 'Room 25, 70 minute average visit, 5 visitor(s) total',\n",
       " 'Room 32, 62 minute average visit, 4 visitor(s) total',\n",
       " 'Room 28, 82 minute average visit, 4 visitor(s) total',\n",
       " 'Room 1, 36 minute average visit, 4 visitor(s) total',\n",
       " 'Room 30, 62 minute average visit, 4 visitor(s) total',\n",
       " 'Room 8, 67 minute average visit, 4 visitor(s) total',\n",
       " 'Room 3, 79 minute average visit, 4 visitor(s) total',\n",
       " 'Room 12, 46 minute average visit, 3 visitor(s) total',\n",
       " 'Room 35, 69 minute average visit, 3 visitor(s) total',\n",
       " 'Room 31, 90 minute average visit, 3 visitor(s) total',\n",
       " 'Room 37, 66 minute average visit, 3 visitor(s) total',\n",
       " 'Room 16, 103 minute average visit, 3 visitor(s) total',\n",
       " 'Room 38, 46 minute average visit, 3 visitor(s) total',\n",
       " 'Room 29, 80 minute average visit, 3 visitor(s) total',\n",
       " 'Room 23, 38 minute average visit, 3 visitor(s) total',\n",
       " 'Room 20, 98 minute average visit, 2 visitor(s) total',\n",
       " 'Room 34, 38 minute average visit, 2 visitor(s) total',\n",
       " 'Room 22, 34 minute average visit, 2 visitor(s) total',\n",
       " 'Room 19, 38 minute average visit, 2 visitor(s) total',\n",
       " 'Room 14, 102 minute average visit, 2 visitor(s) total',\n",
       " 'Room 6, 50 minute average visit, 2 visitor(s) total',\n",
       " 'Room 7, 34 minute average visit, 2 visitor(s) total',\n",
       " 'Room 5, 53 minute average visit, 1 visitor(s) total',\n",
       " 'Room 13, 121 minute average visit, 1 visitor(s) total',\n",
       " 'Room 11, 111 minute average visit, 1 visitor(s) total',\n",
       " 'Room 26, 21 minute average visit, 1 visitor(s) total',\n",
       " 'Room 17, 112 minute average visit, 1 visitor(s) total',\n",
       " 'Room 10, 43 minute average visit, 1 visitor(s) total',\n",
       " 'Room 2, 38 minute average visit, 1 visitor(s) total',\n",
       " '']"
      ]
     },
     "execution_count": 165,
     "metadata": {},
     "output_type": "execute_result"
    }
   ],
   "source": [
    "# read\n",
    "report = open(r\"traffic_report.txt\", \"r\", encoding=\"utf8\")\n",
    "report.read().split(\"\\n\")"
   ]
  },
  {
   "cell_type": "code",
   "execution_count": null,
   "id": "95e05dc2-c18d-4efc-8209-091b2bb336e8",
   "metadata": {},
   "outputs": [],
   "source": []
  }
 ],
 "metadata": {
  "kernelspec": {
   "display_name": "Python 3 (ipykernel)",
   "language": "python",
   "name": "python3"
  },
  "language_info": {
   "codemirror_mode": {
    "name": "ipython",
    "version": 3
   },
   "file_extension": ".py",
   "mimetype": "text/x-python",
   "name": "python",
   "nbconvert_exporter": "python",
   "pygments_lexer": "ipython3",
   "version": "3.11.5"
  }
 },
 "nbformat": 4,
 "nbformat_minor": 5
}
