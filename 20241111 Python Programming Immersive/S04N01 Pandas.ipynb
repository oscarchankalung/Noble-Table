{
 "cells": [
  {
   "cell_type": "code",
   "execution_count": 97,
   "id": "312f4818-f4c3-4c29-9f86-5704f8eb99aa",
   "metadata": {},
   "outputs": [],
   "source": [
    "# Pandas\n",
    "# Numpy\n",
    "\n",
    "# library - collection of function\n",
    "# pandas - library for manipulation of data\n",
    "\n",
    "# programming is all about Data Type and Data Structure\n",
    "# List - to iterate or manipulate homogenous data\n",
    "# Tuple - to store data\n",
    "\n",
    "# Pandas Data Strcture - Series - 1 dimensional - homogenous\n",
    "# Pandas Data Strcture - DataFram - 2 dimensional"
   ]
  },
  {
   "cell_type": "code",
   "execution_count": 99,
   "id": "cc9c405f-cf97-445a-886a-6825ebcc3211",
   "metadata": {},
   "outputs": [],
   "source": [
    "import pandas as pd"
   ]
  },
  {
   "cell_type": "code",
   "execution_count": 101,
   "id": "4541775e-c246-463c-bd61-0c48a8010048",
   "metadata": {},
   "outputs": [],
   "source": [
    "alist = [10,20,30,40,50]"
   ]
  },
  {
   "cell_type": "code",
   "execution_count": 103,
   "id": "ebc343d3-921f-4498-a2fd-d2f8275b7cfa",
   "metadata": {},
   "outputs": [],
   "source": [
    "for i in alist:\n",
    "    # list heterogenous by nature\n",
    "    # list is a slow daily car from A to B\n",
    "    # list store things randomly\n",
    "    \n",
    "    # series is a fast racecare from A to B, vectorized list\n",
    "    # series store things in the same place\n",
    "    # series with index, ie.e primary key\n",
    "    # series has 2 major attributes index and values\n",
    "    # should not use for loop in pandas, for loop is slow\n",
    "    \n",
    "    type(i)"
   ]
  },
  {
   "cell_type": "code",
   "execution_count": 105,
   "id": "abe70530-7aff-4ff8-bcc0-53a6ce70f5d8",
   "metadata": {},
   "outputs": [
    {
     "ename": "TypeError",
     "evalue": "can only concatenate list (not \"int\") to list",
     "output_type": "error",
     "traceback": [
      "\u001b[0;31m---------------------------------------------------------------------------\u001b[0m",
      "\u001b[0;31mTypeError\u001b[0m                                 Traceback (most recent call last)",
      "Cell \u001b[0;32mIn[105], line 1\u001b[0m\n\u001b[0;32m----> 1\u001b[0m alist \u001b[38;5;241m+\u001b[39m \u001b[38;5;241m5\u001b[39m\n",
      "\u001b[0;31mTypeError\u001b[0m: can only concatenate list (not \"int\") to list"
     ]
    }
   ],
   "source": [
    "alist + 5"
   ]
  },
  {
   "cell_type": "code",
   "execution_count": 107,
   "id": "0d65f587-0bfe-4972-9395-c3790ad75986",
   "metadata": {},
   "outputs": [
    {
     "data": {
      "text/plain": [
       "[10, 20, 30, 40, 50, 10, 20, 30, 40, 50]"
      ]
     },
     "execution_count": 107,
     "metadata": {},
     "output_type": "execute_result"
    }
   ],
   "source": [
    "alist + alist"
   ]
  },
  {
   "cell_type": "code",
   "execution_count": 109,
   "id": "931854ed-1f3b-47ac-a4bb-9669663a1529",
   "metadata": {},
   "outputs": [
    {
     "data": {
      "text/plain": [
       "0    10\n",
       "1    20\n",
       "2    30\n",
       "3    40\n",
       "4    50\n",
       "dtype: int64"
      ]
     },
     "execution_count": 109,
     "metadata": {},
     "output_type": "execute_result"
    }
   ],
   "source": [
    "s = pd.Series(alist)\n",
    "s"
   ]
  },
  {
   "cell_type": "code",
   "execution_count": 111,
   "id": "a3b3d805-5d4b-4c84-b3e6-68cf1782ec30",
   "metadata": {},
   "outputs": [
    {
     "data": {
      "text/plain": [
       "0     20\n",
       "1     40\n",
       "2     60\n",
       "3     80\n",
       "4    100\n",
       "dtype: int64"
      ]
     },
     "execution_count": 111,
     "metadata": {},
     "output_type": "execute_result"
    }
   ],
   "source": [
    "s + s"
   ]
  },
  {
   "cell_type": "code",
   "execution_count": 113,
   "id": "ae26a41b-a10b-432a-b692-881b5c672617",
   "metadata": {},
   "outputs": [
    {
     "data": {
      "text/plain": [
       "RangeIndex(start=0, stop=5, step=1)"
      ]
     },
     "execution_count": 113,
     "metadata": {},
     "output_type": "execute_result"
    }
   ],
   "source": [
    "s.index"
   ]
  },
  {
   "cell_type": "code",
   "execution_count": 115,
   "id": "7812b7cd-c407-46b9-a494-f1b8903a8179",
   "metadata": {},
   "outputs": [
    {
     "data": {
      "text/plain": [
       "array([10, 20, 30, 40, 50])"
      ]
     },
     "execution_count": 115,
     "metadata": {},
     "output_type": "execute_result"
    }
   ],
   "source": [
    "s.values"
   ]
  },
  {
   "cell_type": "code",
   "execution_count": 117,
   "id": "2abf6544-f448-4c08-b4cf-1e3d2b3cc0f2",
   "metadata": {},
   "outputs": [
    {
     "data": {
      "text/html": [
       "<div>\n",
       "<style scoped>\n",
       "    .dataframe tbody tr th:only-of-type {\n",
       "        vertical-align: middle;\n",
       "    }\n",
       "\n",
       "    .dataframe tbody tr th {\n",
       "        vertical-align: top;\n",
       "    }\n",
       "\n",
       "    .dataframe thead th {\n",
       "        text-align: right;\n",
       "    }\n",
       "</style>\n",
       "<table border=\"1\" class=\"dataframe\">\n",
       "  <thead>\n",
       "    <tr style=\"text-align: right;\">\n",
       "      <th></th>\n",
       "      <th>Stock</th>\n",
       "      <th>Price</th>\n",
       "    </tr>\n",
       "  </thead>\n",
       "  <tbody>\n",
       "    <tr>\n",
       "      <th>0</th>\n",
       "      <td>MSFT</td>\n",
       "      <td>260.99</td>\n",
       "    </tr>\n",
       "    <tr>\n",
       "      <th>1</th>\n",
       "      <td>AAPL</td>\n",
       "      <td>220.75</td>\n",
       "    </tr>\n",
       "    <tr>\n",
       "      <th>2</th>\n",
       "      <td>IBM</td>\n",
       "      <td>115.99</td>\n",
       "    </tr>\n",
       "    <tr>\n",
       "      <th>3</th>\n",
       "      <td>ORCL</td>\n",
       "      <td>56.99</td>\n",
       "    </tr>\n",
       "  </tbody>\n",
       "</table>\n",
       "</div>"
      ],
      "text/plain": [
       "  Stock   Price\n",
       "0  MSFT  260.99\n",
       "1  AAPL  220.75\n",
       "2   IBM  115.99\n",
       "3  ORCL   56.99"
      ]
     },
     "execution_count": 117,
     "metadata": {},
     "output_type": "execute_result"
    }
   ],
   "source": [
    "df = pd.DataFrame()\n",
    "df[\"Stock\"] = [\"MSFT\", \"AAPL\", \"IBM\", \"ORCL\"]\n",
    "df[\"Price\"] = [260.99, 220.75, 115.99, 56.99]\n",
    "df"
   ]
  },
  {
   "cell_type": "code",
   "execution_count": 119,
   "id": "83f2f51f-45bc-482f-9ab4-621473fb1348",
   "metadata": {},
   "outputs": [],
   "source": [
    "# fast, gather data source, and manipulate, \n",
    "# 3 attributes, index, columns, values (doesn't need invole)\n",
    "# N methods (need invoke)\n",
    "# attributes vs methods"
   ]
  },
  {
   "cell_type": "code",
   "execution_count": 121,
   "id": "2f2af567-491d-49af-9447-938c2b732e32",
   "metadata": {},
   "outputs": [
    {
     "data": {
      "text/plain": [
       "RangeIndex(start=0, stop=4, step=1)"
      ]
     },
     "execution_count": 121,
     "metadata": {},
     "output_type": "execute_result"
    }
   ],
   "source": [
    "df.index"
   ]
  },
  {
   "cell_type": "code",
   "execution_count": 123,
   "id": "85bc5180-1df8-4bcd-88a8-ce3a35c3e831",
   "metadata": {},
   "outputs": [
    {
     "data": {
      "text/plain": [
       "Index(['Stock', 'Price'], dtype='object')"
      ]
     },
     "execution_count": 123,
     "metadata": {},
     "output_type": "execute_result"
    }
   ],
   "source": [
    "df.columns"
   ]
  },
  {
   "cell_type": "code",
   "execution_count": 125,
   "id": "2dc71dab-f43d-4e36-a510-90e60995976b",
   "metadata": {},
   "outputs": [
    {
     "data": {
      "text/plain": [
       "array([['MSFT', 260.99],\n",
       "       ['AAPL', 220.75],\n",
       "       ['IBM', 115.99],\n",
       "       ['ORCL', 56.99]], dtype=object)"
      ]
     },
     "execution_count": 125,
     "metadata": {},
     "output_type": "execute_result"
    }
   ],
   "source": [
    "df.values"
   ]
  },
  {
   "cell_type": "code",
   "execution_count": 127,
   "id": "67c049b3-695b-4fca-978b-4f7b95872f8c",
   "metadata": {},
   "outputs": [
    {
     "data": {
      "text/html": [
       "<div>\n",
       "<style scoped>\n",
       "    .dataframe tbody tr th:only-of-type {\n",
       "        vertical-align: middle;\n",
       "    }\n",
       "\n",
       "    .dataframe tbody tr th {\n",
       "        vertical-align: top;\n",
       "    }\n",
       "\n",
       "    .dataframe thead th {\n",
       "        text-align: right;\n",
       "    }\n",
       "</style>\n",
       "<table border=\"1\" class=\"dataframe\">\n",
       "  <thead>\n",
       "    <tr style=\"text-align: right;\">\n",
       "      <th></th>\n",
       "      <th>Stock</th>\n",
       "      <th>Price</th>\n",
       "      <th>Shares</th>\n",
       "    </tr>\n",
       "  </thead>\n",
       "  <tbody>\n",
       "    <tr>\n",
       "      <th>0</th>\n",
       "      <td>MSFT</td>\n",
       "      <td>260.99</td>\n",
       "      <td>0</td>\n",
       "    </tr>\n",
       "    <tr>\n",
       "      <th>1</th>\n",
       "      <td>AAPL</td>\n",
       "      <td>220.75</td>\n",
       "      <td>0</td>\n",
       "    </tr>\n",
       "    <tr>\n",
       "      <th>2</th>\n",
       "      <td>IBM</td>\n",
       "      <td>115.99</td>\n",
       "      <td>0</td>\n",
       "    </tr>\n",
       "    <tr>\n",
       "      <th>3</th>\n",
       "      <td>ORCL</td>\n",
       "      <td>56.99</td>\n",
       "      <td>0</td>\n",
       "    </tr>\n",
       "  </tbody>\n",
       "</table>\n",
       "</div>"
      ],
      "text/plain": [
       "  Stock   Price  Shares\n",
       "0  MSFT  260.99       0\n",
       "1  AAPL  220.75       0\n",
       "2   IBM  115.99       0\n",
       "3  ORCL   56.99       0"
      ]
     },
     "execution_count": 127,
     "metadata": {},
     "output_type": "execute_result"
    }
   ],
   "source": [
    "# create empty column\n",
    "\n",
    "df[\"Shares\"] = 0\n",
    "df"
   ]
  },
  {
   "cell_type": "code",
   "execution_count": 129,
   "id": "3b21af31-7c47-43a2-94bc-790b9e8cbbcf",
   "metadata": {},
   "outputs": [
    {
     "data": {
      "text/html": [
       "<div>\n",
       "<style scoped>\n",
       "    .dataframe tbody tr th:only-of-type {\n",
       "        vertical-align: middle;\n",
       "    }\n",
       "\n",
       "    .dataframe tbody tr th {\n",
       "        vertical-align: top;\n",
       "    }\n",
       "\n",
       "    .dataframe thead th {\n",
       "        text-align: right;\n",
       "    }\n",
       "</style>\n",
       "<table border=\"1\" class=\"dataframe\">\n",
       "  <thead>\n",
       "    <tr style=\"text-align: right;\">\n",
       "      <th></th>\n",
       "      <th>Stock</th>\n",
       "      <th>Price</th>\n",
       "      <th>Shares</th>\n",
       "    </tr>\n",
       "  </thead>\n",
       "  <tbody>\n",
       "    <tr>\n",
       "      <th>0</th>\n",
       "      <td>MSFT</td>\n",
       "      <td>260.99</td>\n",
       "      <td>100</td>\n",
       "    </tr>\n",
       "    <tr>\n",
       "      <th>1</th>\n",
       "      <td>AAPL</td>\n",
       "      <td>220.75</td>\n",
       "      <td>200</td>\n",
       "    </tr>\n",
       "    <tr>\n",
       "      <th>2</th>\n",
       "      <td>IBM</td>\n",
       "      <td>115.99</td>\n",
       "      <td>300</td>\n",
       "    </tr>\n",
       "    <tr>\n",
       "      <th>3</th>\n",
       "      <td>ORCL</td>\n",
       "      <td>56.99</td>\n",
       "      <td>400</td>\n",
       "    </tr>\n",
       "  </tbody>\n",
       "</table>\n",
       "</div>"
      ],
      "text/plain": [
       "  Stock   Price  Shares\n",
       "0  MSFT  260.99     100\n",
       "1  AAPL  220.75     200\n",
       "2   IBM  115.99     300\n",
       "3  ORCL   56.99     400"
      ]
     },
     "execution_count": 129,
     "metadata": {},
     "output_type": "execute_result"
    }
   ],
   "source": [
    "# \n",
    "\n",
    "df[\"Shares\"] = [100, 200, 300, 400]\n",
    "df"
   ]
  },
  {
   "cell_type": "code",
   "execution_count": 131,
   "id": "7f656038-ff4d-4e5c-a24f-148483a7549e",
   "metadata": {},
   "outputs": [
    {
     "data": {
      "text/html": [
       "<div>\n",
       "<style scoped>\n",
       "    .dataframe tbody tr th:only-of-type {\n",
       "        vertical-align: middle;\n",
       "    }\n",
       "\n",
       "    .dataframe tbody tr th {\n",
       "        vertical-align: top;\n",
       "    }\n",
       "\n",
       "    .dataframe thead th {\n",
       "        text-align: right;\n",
       "    }\n",
       "</style>\n",
       "<table border=\"1\" class=\"dataframe\">\n",
       "  <thead>\n",
       "    <tr style=\"text-align: right;\">\n",
       "      <th></th>\n",
       "      <th>Stock</th>\n",
       "      <th>Price</th>\n",
       "      <th>Shares</th>\n",
       "      <th>Amnt</th>\n",
       "    </tr>\n",
       "  </thead>\n",
       "  <tbody>\n",
       "    <tr>\n",
       "      <th>0</th>\n",
       "      <td>MSFT</td>\n",
       "      <td>260.99</td>\n",
       "      <td>100</td>\n",
       "      <td>26099.0</td>\n",
       "    </tr>\n",
       "    <tr>\n",
       "      <th>1</th>\n",
       "      <td>AAPL</td>\n",
       "      <td>220.75</td>\n",
       "      <td>200</td>\n",
       "      <td>44150.0</td>\n",
       "    </tr>\n",
       "    <tr>\n",
       "      <th>2</th>\n",
       "      <td>IBM</td>\n",
       "      <td>115.99</td>\n",
       "      <td>300</td>\n",
       "      <td>34797.0</td>\n",
       "    </tr>\n",
       "    <tr>\n",
       "      <th>3</th>\n",
       "      <td>ORCL</td>\n",
       "      <td>56.99</td>\n",
       "      <td>400</td>\n",
       "      <td>22796.0</td>\n",
       "    </tr>\n",
       "  </tbody>\n",
       "</table>\n",
       "</div>"
      ],
      "text/plain": [
       "  Stock   Price  Shares     Amnt\n",
       "0  MSFT  260.99     100  26099.0\n",
       "1  AAPL  220.75     200  44150.0\n",
       "2   IBM  115.99     300  34797.0\n",
       "3  ORCL   56.99     400  22796.0"
      ]
     },
     "execution_count": 131,
     "metadata": {},
     "output_type": "execute_result"
    }
   ],
   "source": [
    "# 1 dismoen df is series\n",
    "\n",
    "df[\"Amnt\"] = df[\"Price\"] * df[\"Shares\"]\n",
    "df"
   ]
  },
  {
   "cell_type": "code",
   "execution_count": 133,
   "id": "629e036a-7cfa-40c2-ab6d-ae087df757de",
   "metadata": {},
   "outputs": [
    {
     "data": {
      "text/html": [
       "<div>\n",
       "<style scoped>\n",
       "    .dataframe tbody tr th:only-of-type {\n",
       "        vertical-align: middle;\n",
       "    }\n",
       "\n",
       "    .dataframe tbody tr th {\n",
       "        vertical-align: top;\n",
       "    }\n",
       "\n",
       "    .dataframe thead th {\n",
       "        text-align: right;\n",
       "    }\n",
       "</style>\n",
       "<table border=\"1\" class=\"dataframe\">\n",
       "  <thead>\n",
       "    <tr style=\"text-align: right;\">\n",
       "      <th></th>\n",
       "      <th>Stock</th>\n",
       "      <th>Price</th>\n",
       "      <th>Shares</th>\n",
       "      <th>Amnt</th>\n",
       "    </tr>\n",
       "    <tr>\n",
       "      <th>Stock</th>\n",
       "      <th></th>\n",
       "      <th></th>\n",
       "      <th></th>\n",
       "      <th></th>\n",
       "    </tr>\n",
       "  </thead>\n",
       "  <tbody>\n",
       "    <tr>\n",
       "      <th>MSFT</th>\n",
       "      <td>MSFT</td>\n",
       "      <td>260.99</td>\n",
       "      <td>100</td>\n",
       "      <td>26099.0</td>\n",
       "    </tr>\n",
       "    <tr>\n",
       "      <th>AAPL</th>\n",
       "      <td>AAPL</td>\n",
       "      <td>220.75</td>\n",
       "      <td>200</td>\n",
       "      <td>44150.0</td>\n",
       "    </tr>\n",
       "    <tr>\n",
       "      <th>IBM</th>\n",
       "      <td>IBM</td>\n",
       "      <td>115.99</td>\n",
       "      <td>300</td>\n",
       "      <td>34797.0</td>\n",
       "    </tr>\n",
       "    <tr>\n",
       "      <th>ORCL</th>\n",
       "      <td>ORCL</td>\n",
       "      <td>56.99</td>\n",
       "      <td>400</td>\n",
       "      <td>22796.0</td>\n",
       "    </tr>\n",
       "  </tbody>\n",
       "</table>\n",
       "</div>"
      ],
      "text/plain": [
       "      Stock   Price  Shares     Amnt\n",
       "Stock                               \n",
       "MSFT   MSFT  260.99     100  26099.0\n",
       "AAPL   AAPL  220.75     200  44150.0\n",
       "IBM     IBM  115.99     300  34797.0\n",
       "ORCL   ORCL   56.99     400  22796.0"
      ]
     },
     "execution_count": 133,
     "metadata": {},
     "output_type": "execute_result"
    }
   ],
   "source": [
    "# reassign index\n",
    "\n",
    "df.index = df[\"Stock\"]\n",
    "df"
   ]
  },
  {
   "cell_type": "code",
   "execution_count": 135,
   "id": "7338b8a4-56db-433a-819d-28afc12a4b83",
   "metadata": {},
   "outputs": [],
   "source": [
    "# common function\n",
    "# axis()\n",
    "# inpalce()\n",
    "\n",
    "# row: axis = 0 or \"index\"\n",
    "# col: axis = 1 or \"columns\"\n",
    "\n",
    "# help(df.drop)"
   ]
  },
  {
   "cell_type": "code",
   "execution_count": 137,
   "id": "9c2dade6-b367-4a18-a40b-3e530944195e",
   "metadata": {},
   "outputs": [
    {
     "data": {
      "text/html": [
       "<div>\n",
       "<style scoped>\n",
       "    .dataframe tbody tr th:only-of-type {\n",
       "        vertical-align: middle;\n",
       "    }\n",
       "\n",
       "    .dataframe tbody tr th {\n",
       "        vertical-align: top;\n",
       "    }\n",
       "\n",
       "    .dataframe thead th {\n",
       "        text-align: right;\n",
       "    }\n",
       "</style>\n",
       "<table border=\"1\" class=\"dataframe\">\n",
       "  <thead>\n",
       "    <tr style=\"text-align: right;\">\n",
       "      <th></th>\n",
       "      <th>Stock</th>\n",
       "      <th>Price</th>\n",
       "      <th>Shares</th>\n",
       "      <th>Amnt</th>\n",
       "    </tr>\n",
       "    <tr>\n",
       "      <th>Stock</th>\n",
       "      <th></th>\n",
       "      <th></th>\n",
       "      <th></th>\n",
       "      <th></th>\n",
       "    </tr>\n",
       "  </thead>\n",
       "  <tbody>\n",
       "    <tr>\n",
       "      <th>MSFT</th>\n",
       "      <td>MSFT</td>\n",
       "      <td>260.99</td>\n",
       "      <td>100</td>\n",
       "      <td>26099.0</td>\n",
       "    </tr>\n",
       "    <tr>\n",
       "      <th>AAPL</th>\n",
       "      <td>AAPL</td>\n",
       "      <td>220.75</td>\n",
       "      <td>200</td>\n",
       "      <td>44150.0</td>\n",
       "    </tr>\n",
       "    <tr>\n",
       "      <th>IBM</th>\n",
       "      <td>IBM</td>\n",
       "      <td>115.99</td>\n",
       "      <td>300</td>\n",
       "      <td>34797.0</td>\n",
       "    </tr>\n",
       "    <tr>\n",
       "      <th>ORCL</th>\n",
       "      <td>ORCL</td>\n",
       "      <td>56.99</td>\n",
       "      <td>400</td>\n",
       "      <td>22796.0</td>\n",
       "    </tr>\n",
       "  </tbody>\n",
       "</table>\n",
       "</div>"
      ],
      "text/plain": [
       "      Stock   Price  Shares     Amnt\n",
       "Stock                               \n",
       "MSFT   MSFT  260.99     100  26099.0\n",
       "AAPL   AAPL  220.75     200  44150.0\n",
       "IBM     IBM  115.99     300  34797.0\n",
       "ORCL   ORCL   56.99     400  22796.0"
      ]
     },
     "execution_count": 137,
     "metadata": {},
     "output_type": "execute_result"
    }
   ],
   "source": [
    "df.drop(\"Stock\", axis=1, inplace=False)\n",
    "df"
   ]
  },
  {
   "cell_type": "code",
   "execution_count": 139,
   "id": "6f193a98-b201-42c1-abec-059ed78b796b",
   "metadata": {},
   "outputs": [
    {
     "data": {
      "text/html": [
       "<div>\n",
       "<style scoped>\n",
       "    .dataframe tbody tr th:only-of-type {\n",
       "        vertical-align: middle;\n",
       "    }\n",
       "\n",
       "    .dataframe tbody tr th {\n",
       "        vertical-align: top;\n",
       "    }\n",
       "\n",
       "    .dataframe thead th {\n",
       "        text-align: right;\n",
       "    }\n",
       "</style>\n",
       "<table border=\"1\" class=\"dataframe\">\n",
       "  <thead>\n",
       "    <tr style=\"text-align: right;\">\n",
       "      <th></th>\n",
       "      <th>Price</th>\n",
       "      <th>Shares</th>\n",
       "      <th>Amnt</th>\n",
       "    </tr>\n",
       "    <tr>\n",
       "      <th>Stock</th>\n",
       "      <th></th>\n",
       "      <th></th>\n",
       "      <th></th>\n",
       "    </tr>\n",
       "  </thead>\n",
       "  <tbody>\n",
       "    <tr>\n",
       "      <th>MSFT</th>\n",
       "      <td>260.99</td>\n",
       "      <td>100</td>\n",
       "      <td>26099.0</td>\n",
       "    </tr>\n",
       "    <tr>\n",
       "      <th>AAPL</th>\n",
       "      <td>220.75</td>\n",
       "      <td>200</td>\n",
       "      <td>44150.0</td>\n",
       "    </tr>\n",
       "    <tr>\n",
       "      <th>IBM</th>\n",
       "      <td>115.99</td>\n",
       "      <td>300</td>\n",
       "      <td>34797.0</td>\n",
       "    </tr>\n",
       "    <tr>\n",
       "      <th>ORCL</th>\n",
       "      <td>56.99</td>\n",
       "      <td>400</td>\n",
       "      <td>22796.0</td>\n",
       "    </tr>\n",
       "  </tbody>\n",
       "</table>\n",
       "</div>"
      ],
      "text/plain": [
       "        Price  Shares     Amnt\n",
       "Stock                         \n",
       "MSFT   260.99     100  26099.0\n",
       "AAPL   220.75     200  44150.0\n",
       "IBM    115.99     300  34797.0\n",
       "ORCL    56.99     400  22796.0"
      ]
     },
     "execution_count": 139,
     "metadata": {},
     "output_type": "execute_result"
    }
   ],
   "source": [
    "df.drop(\"Stock\", axis=1, inplace=True)\n",
    "df"
   ]
  },
  {
   "cell_type": "code",
   "execution_count": 141,
   "id": "3fbbba8d-e36a-4187-9013-8547ba1134df",
   "metadata": {},
   "outputs": [
    {
     "data": {
      "text/html": [
       "<div>\n",
       "<style scoped>\n",
       "    .dataframe tbody tr th:only-of-type {\n",
       "        vertical-align: middle;\n",
       "    }\n",
       "\n",
       "    .dataframe tbody tr th {\n",
       "        vertical-align: top;\n",
       "    }\n",
       "\n",
       "    .dataframe thead th {\n",
       "        text-align: right;\n",
       "    }\n",
       "</style>\n",
       "<table border=\"1\" class=\"dataframe\">\n",
       "  <thead>\n",
       "    <tr style=\"text-align: right;\">\n",
       "      <th></th>\n",
       "      <th>Shares</th>\n",
       "      <th>Amnt</th>\n",
       "    </tr>\n",
       "    <tr>\n",
       "      <th>Stock</th>\n",
       "      <th></th>\n",
       "      <th></th>\n",
       "    </tr>\n",
       "  </thead>\n",
       "  <tbody>\n",
       "    <tr>\n",
       "      <th>AAPL</th>\n",
       "      <td>200</td>\n",
       "      <td>44150.0</td>\n",
       "    </tr>\n",
       "    <tr>\n",
       "      <th>IBM</th>\n",
       "      <td>300</td>\n",
       "      <td>34797.0</td>\n",
       "    </tr>\n",
       "  </tbody>\n",
       "</table>\n",
       "</div>"
      ],
      "text/plain": [
       "       Shares     Amnt\n",
       "Stock                 \n",
       "AAPL      200  44150.0\n",
       "IBM       300  34797.0"
      ]
     },
     "execution_count": 141,
     "metadata": {},
     "output_type": "execute_result"
    }
   ],
   "source": [
    "# location by label\n",
    "# splicing [start:stop, start:stop]\n",
    "# stop is inclusive\n",
    "\n",
    "df.loc[\"AAPL\":\"IBM\", \"Shares\":\"Amnt\"]"
   ]
  },
  {
   "cell_type": "code",
   "execution_count": 143,
   "id": "a8b05ea8-9d2b-489e-b8e7-9d744cfae6a0",
   "metadata": {},
   "outputs": [
    {
     "data": {
      "text/html": [
       "<div>\n",
       "<style scoped>\n",
       "    .dataframe tbody tr th:only-of-type {\n",
       "        vertical-align: middle;\n",
       "    }\n",
       "\n",
       "    .dataframe tbody tr th {\n",
       "        vertical-align: top;\n",
       "    }\n",
       "\n",
       "    .dataframe thead th {\n",
       "        text-align: right;\n",
       "    }\n",
       "</style>\n",
       "<table border=\"1\" class=\"dataframe\">\n",
       "  <thead>\n",
       "    <tr style=\"text-align: right;\">\n",
       "      <th></th>\n",
       "      <th>Shares</th>\n",
       "      <th>Amnt</th>\n",
       "    </tr>\n",
       "    <tr>\n",
       "      <th>Stock</th>\n",
       "      <th></th>\n",
       "      <th></th>\n",
       "    </tr>\n",
       "  </thead>\n",
       "  <tbody>\n",
       "    <tr>\n",
       "      <th>AAPL</th>\n",
       "      <td>200</td>\n",
       "      <td>44150.0</td>\n",
       "    </tr>\n",
       "    <tr>\n",
       "      <th>IBM</th>\n",
       "      <td>300</td>\n",
       "      <td>34797.0</td>\n",
       "    </tr>\n",
       "  </tbody>\n",
       "</table>\n",
       "</div>"
      ],
      "text/plain": [
       "       Shares     Amnt\n",
       "Stock                 \n",
       "AAPL      200  44150.0\n",
       "IBM       300  34797.0"
      ]
     },
     "execution_count": 143,
     "metadata": {},
     "output_type": "execute_result"
    }
   ],
   "source": [
    "# splicing, location by index\n",
    "# [start:stop, start:stop]\n",
    "# \n",
    "\n",
    "df.iloc[1:3, 1:3]"
   ]
  },
  {
   "cell_type": "code",
   "execution_count": 145,
   "id": "3c462519-d59e-420a-b523-211455cbb0be",
   "metadata": {},
   "outputs": [
    {
     "data": {
      "text/html": [
       "<div>\n",
       "<style scoped>\n",
       "    .dataframe tbody tr th:only-of-type {\n",
       "        vertical-align: middle;\n",
       "    }\n",
       "\n",
       "    .dataframe tbody tr th {\n",
       "        vertical-align: top;\n",
       "    }\n",
       "\n",
       "    .dataframe thead th {\n",
       "        text-align: right;\n",
       "    }\n",
       "</style>\n",
       "<table border=\"1\" class=\"dataframe\">\n",
       "  <thead>\n",
       "    <tr style=\"text-align: right;\">\n",
       "      <th></th>\n",
       "      <th>Price</th>\n",
       "      <th>Amnt</th>\n",
       "    </tr>\n",
       "    <tr>\n",
       "      <th>Stock</th>\n",
       "      <th></th>\n",
       "      <th></th>\n",
       "    </tr>\n",
       "  </thead>\n",
       "  <tbody>\n",
       "    <tr>\n",
       "      <th>AAPL</th>\n",
       "      <td>220.75</td>\n",
       "      <td>44150.0</td>\n",
       "    </tr>\n",
       "    <tr>\n",
       "      <th>IBM</th>\n",
       "      <td>115.99</td>\n",
       "      <td>34797.0</td>\n",
       "    </tr>\n",
       "  </tbody>\n",
       "</table>\n",
       "</div>"
      ],
      "text/plain": [
       "        Price     Amnt\n",
       "Stock                 \n",
       "AAPL   220.75  44150.0\n",
       "IBM    115.99  34797.0"
      ]
     },
     "execution_count": 145,
     "metadata": {},
     "output_type": "execute_result"
    }
   ],
   "source": [
    "df[[\"Price\", \"Amnt\"]].loc[\"AAPL\":\"IBM\"]"
   ]
  },
  {
   "cell_type": "code",
   "execution_count": 147,
   "id": "4a66deb2-281a-4b84-8f59-ba24ddf57406",
   "metadata": {},
   "outputs": [
    {
     "data": {
      "text/html": [
       "<div>\n",
       "<style scoped>\n",
       "    .dataframe tbody tr th:only-of-type {\n",
       "        vertical-align: middle;\n",
       "    }\n",
       "\n",
       "    .dataframe tbody tr th {\n",
       "        vertical-align: top;\n",
       "    }\n",
       "\n",
       "    .dataframe thead th {\n",
       "        text-align: right;\n",
       "    }\n",
       "</style>\n",
       "<table border=\"1\" class=\"dataframe\">\n",
       "  <thead>\n",
       "    <tr style=\"text-align: right;\">\n",
       "      <th></th>\n",
       "      <th>Price</th>\n",
       "      <th>Amnt</th>\n",
       "    </tr>\n",
       "    <tr>\n",
       "      <th>Stock</th>\n",
       "      <th></th>\n",
       "      <th></th>\n",
       "    </tr>\n",
       "  </thead>\n",
       "  <tbody>\n",
       "    <tr>\n",
       "      <th>AAPL</th>\n",
       "      <td>220.75</td>\n",
       "      <td>44150.0</td>\n",
       "    </tr>\n",
       "    <tr>\n",
       "      <th>IBM</th>\n",
       "      <td>115.99</td>\n",
       "      <td>34797.0</td>\n",
       "    </tr>\n",
       "  </tbody>\n",
       "</table>\n",
       "</div>"
      ],
      "text/plain": [
       "        Price     Amnt\n",
       "Stock                 \n",
       "AAPL   220.75  44150.0\n",
       "IBM    115.99  34797.0"
      ]
     },
     "execution_count": 147,
     "metadata": {},
     "output_type": "execute_result"
    }
   ],
   "source": [
    "df.loc[\"AAPL\":\"IBM\"][[\"Price\", \"Amnt\"]]"
   ]
  },
  {
   "cell_type": "code",
   "execution_count": 161,
   "id": "d01262d4-41e3-415b-81ef-0dcd72729056",
   "metadata": {},
   "outputs": [
    {
     "data": {
      "text/html": [
       "<div>\n",
       "<style scoped>\n",
       "    .dataframe tbody tr th:only-of-type {\n",
       "        vertical-align: middle;\n",
       "    }\n",
       "\n",
       "    .dataframe tbody tr th {\n",
       "        vertical-align: top;\n",
       "    }\n",
       "\n",
       "    .dataframe thead th {\n",
       "        text-align: right;\n",
       "    }\n",
       "</style>\n",
       "<table border=\"1\" class=\"dataframe\">\n",
       "  <thead>\n",
       "    <tr style=\"text-align: right;\">\n",
       "      <th></th>\n",
       "      <th>Stock</th>\n",
       "      <th>Price</th>\n",
       "      <th>Shares</th>\n",
       "      <th>Amnt</th>\n",
       "    </tr>\n",
       "  </thead>\n",
       "  <tbody>\n",
       "    <tr>\n",
       "      <th>0</th>\n",
       "      <td>MSFT</td>\n",
       "      <td>260.99</td>\n",
       "      <td>100</td>\n",
       "      <td>26099.0</td>\n",
       "    </tr>\n",
       "    <tr>\n",
       "      <th>1</th>\n",
       "      <td>AAPL</td>\n",
       "      <td>220.75</td>\n",
       "      <td>200</td>\n",
       "      <td>44150.0</td>\n",
       "    </tr>\n",
       "    <tr>\n",
       "      <th>2</th>\n",
       "      <td>IBM</td>\n",
       "      <td>115.99</td>\n",
       "      <td>300</td>\n",
       "      <td>34797.0</td>\n",
       "    </tr>\n",
       "    <tr>\n",
       "      <th>3</th>\n",
       "      <td>ORCL</td>\n",
       "      <td>56.99</td>\n",
       "      <td>400</td>\n",
       "      <td>22796.0</td>\n",
       "    </tr>\n",
       "  </tbody>\n",
       "</table>\n",
       "</div>"
      ],
      "text/plain": [
       "  Stock   Price  Shares     Amnt\n",
       "0  MSFT  260.99     100  26099.0\n",
       "1  AAPL  220.75     200  44150.0\n",
       "2   IBM  115.99     300  34797.0\n",
       "3  ORCL   56.99     400  22796.0"
      ]
     },
     "execution_count": 161,
     "metadata": {},
     "output_type": "execute_result"
    }
   ],
   "source": [
    "df.reset_index(inplace=True)\n",
    "df"
   ]
  },
  {
   "cell_type": "code",
   "execution_count": 173,
   "id": "af37c1e1-6ece-4e3f-aed2-0008967187d2",
   "metadata": {},
   "outputs": [
    {
     "data": {
      "text/plain": [
       "220.75"
      ]
     },
     "execution_count": 173,
     "metadata": {},
     "output_type": "execute_result"
    }
   ],
   "source": [
    "condition_aapl = df[\"Stock\"] == \"AAPL\"\n",
    "df[condition_aapl][\"Price\"].squeeze()"
   ]
  },
  {
   "cell_type": "code",
   "execution_count": 177,
   "id": "d69ca74a-43a2-4eef-a7c8-f3f8b6a2085a",
   "metadata": {},
   "outputs": [
    {
     "data": {
      "text/plain": [
       "220.75"
      ]
     },
     "execution_count": 177,
     "metadata": {},
     "output_type": "execute_result"
    }
   ],
   "source": [
    "df[condition_aapl][\"Price\"].iloc[0]"
   ]
  },
  {
   "cell_type": "code",
   "execution_count": 181,
   "id": "cc62cc8c-9ef5-4838-90b1-5eb00bc7f9c4",
   "metadata": {},
   "outputs": [
    {
     "data": {
      "text/html": [
       "<div>\n",
       "<style scoped>\n",
       "    .dataframe tbody tr th:only-of-type {\n",
       "        vertical-align: middle;\n",
       "    }\n",
       "\n",
       "    .dataframe tbody tr th {\n",
       "        vertical-align: top;\n",
       "    }\n",
       "\n",
       "    .dataframe thead th {\n",
       "        text-align: right;\n",
       "    }\n",
       "</style>\n",
       "<table border=\"1\" class=\"dataframe\">\n",
       "  <thead>\n",
       "    <tr style=\"text-align: right;\">\n",
       "      <th></th>\n",
       "      <th>Stock</th>\n",
       "      <th>Price</th>\n",
       "    </tr>\n",
       "  </thead>\n",
       "  <tbody>\n",
       "    <tr>\n",
       "      <th>3</th>\n",
       "      <td>ORCL</td>\n",
       "      <td>56.99</td>\n",
       "    </tr>\n",
       "  </tbody>\n",
       "</table>\n",
       "</div>"
      ],
      "text/plain": [
       "  Stock  Price\n",
       "3  ORCL  56.99"
      ]
     },
     "execution_count": 181,
     "metadata": {},
     "output_type": "execute_result"
    }
   ],
   "source": [
    "df[df[\"Price\"] < 100][[\"Stock\", \"Price\"]]"
   ]
  },
  {
   "cell_type": "code",
   "execution_count": 189,
   "id": "146ea763-ee42-4394-ba46-2c4d6aa80e1b",
   "metadata": {},
   "outputs": [
    {
     "data": {
      "text/html": [
       "<div>\n",
       "<style scoped>\n",
       "    .dataframe tbody tr th:only-of-type {\n",
       "        vertical-align: middle;\n",
       "    }\n",
       "\n",
       "    .dataframe tbody tr th {\n",
       "        vertical-align: top;\n",
       "    }\n",
       "\n",
       "    .dataframe thead th {\n",
       "        text-align: right;\n",
       "    }\n",
       "</style>\n",
       "<table border=\"1\" class=\"dataframe\">\n",
       "  <thead>\n",
       "    <tr style=\"text-align: right;\">\n",
       "      <th></th>\n",
       "      <th>Stock</th>\n",
       "      <th>Price</th>\n",
       "      <th>Shares</th>\n",
       "      <th>Amnt</th>\n",
       "    </tr>\n",
       "  </thead>\n",
       "  <tbody>\n",
       "    <tr>\n",
       "      <th>1</th>\n",
       "      <td>AAPL</td>\n",
       "      <td>220.75</td>\n",
       "      <td>200</td>\n",
       "      <td>44150.0</td>\n",
       "    </tr>\n",
       "  </tbody>\n",
       "</table>\n",
       "</div>"
      ],
      "text/plain": [
       "  Stock   Price  Shares     Amnt\n",
       "1  AAPL  220.75     200  44150.0"
      ]
     },
     "execution_count": 189,
     "metadata": {},
     "output_type": "execute_result"
    }
   ],
   "source": [
    "max_amnt = df[\"Amnt\"].max()\n",
    "condition_max_amnt = df[\"Amnt\"] == max_amnt\n",
    "df[condition_max_amnt]"
   ]
  }
 ],
 "metadata": {
  "kernelspec": {
   "display_name": "Python 3 (ipykernel)",
   "language": "python",
   "name": "python3"
  },
  "language_info": {
   "codemirror_mode": {
    "name": "ipython",
    "version": 3
   },
   "file_extension": ".py",
   "mimetype": "text/x-python",
   "name": "python",
   "nbconvert_exporter": "python",
   "pygments_lexer": "ipython3",
   "version": "3.11.5"
  }
 },
 "nbformat": 4,
 "nbformat_minor": 5
}
