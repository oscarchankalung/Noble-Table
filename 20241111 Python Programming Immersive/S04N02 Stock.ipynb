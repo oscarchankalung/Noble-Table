{
 "cells": [
  {
   "cell_type": "code",
   "execution_count": 1,
   "id": "361ccb1d-ef6f-49eb-a027-e996ac7cd0f1",
   "metadata": {},
   "outputs": [],
   "source": [
    "import pandas as pd\n",
    "import matplotlib.pyplot as plt"
   ]
  },
  {
   "cell_type": "code",
   "execution_count": 2,
   "id": "d545d2c5-4301-4be8-ac27-c6b1a2730cca",
   "metadata": {},
   "outputs": [
    {
     "data": {
      "text/html": [
       "<div>\n",
       "<style scoped>\n",
       "    .dataframe tbody tr th:only-of-type {\n",
       "        vertical-align: middle;\n",
       "    }\n",
       "\n",
       "    .dataframe tbody tr th {\n",
       "        vertical-align: top;\n",
       "    }\n",
       "\n",
       "    .dataframe thead th {\n",
       "        text-align: right;\n",
       "    }\n",
       "</style>\n",
       "<table border=\"1\" class=\"dataframe\">\n",
       "  <thead>\n",
       "    <tr style=\"text-align: right;\">\n",
       "      <th></th>\n",
       "      <th>Symbol</th>\n",
       "      <th>Company Name</th>\n",
       "      <th>Index Weight</th>\n",
       "      <th>Last</th>\n",
       "      <th>Change</th>\n",
       "      <th>%Change</th>\n",
       "      <th>Volume</th>\n",
       "      <th>52 Week Range</th>\n",
       "    </tr>\n",
       "  </thead>\n",
       "  <tbody>\n",
       "    <tr>\n",
       "      <th>0</th>\n",
       "      <td>BRK.b</td>\n",
       "      <td>Berkshire Hathaway B</td>\n",
       "      <td>13.76%</td>\n",
       "      <td>476.83</td>\n",
       "      <td>0.91</td>\n",
       "      <td>+0.19%</td>\n",
       "      <td>7.51 M</td>\n",
       "      <td>330.58 - 482.89</td>\n",
       "    </tr>\n",
       "    <tr>\n",
       "      <th>1</th>\n",
       "      <td>JPM</td>\n",
       "      <td>JP Morgan Chase &amp; Co</td>\n",
       "      <td>10.09%</td>\n",
       "      <td>220.30</td>\n",
       "      <td>-4.50</td>\n",
       "      <td>-2.00%</td>\n",
       "      <td>8.96 M</td>\n",
       "      <td>135.19 - 225.48</td>\n",
       "    </tr>\n",
       "    <tr>\n",
       "      <th>2</th>\n",
       "      <td>V</td>\n",
       "      <td>Visa Inc A</td>\n",
       "      <td>6.99%</td>\n",
       "      <td>278.54</td>\n",
       "      <td>2.17</td>\n",
       "      <td>+0.79%</td>\n",
       "      <td>7.28 M</td>\n",
       "      <td>227.78 - 290.96</td>\n",
       "    </tr>\n",
       "    <tr>\n",
       "      <th>3</th>\n",
       "      <td>MA</td>\n",
       "      <td>Mastercard Inc A</td>\n",
       "      <td>6.31%</td>\n",
       "      <td>482.12</td>\n",
       "      <td>-1.22</td>\n",
       "      <td>-0.25%</td>\n",
       "      <td>2.06 M</td>\n",
       "      <td>359.77 - 490.00</td>\n",
       "    </tr>\n",
       "    <tr>\n",
       "      <th>4</th>\n",
       "      <td>BAC</td>\n",
       "      <td>Bank of America Corp</td>\n",
       "      <td>4.41%</td>\n",
       "      <td>40.70</td>\n",
       "      <td>-0.05</td>\n",
       "      <td>-0.12%</td>\n",
       "      <td>48.49 M</td>\n",
       "      <td>24.96 - 44.44</td>\n",
       "    </tr>\n",
       "  </tbody>\n",
       "</table>\n",
       "</div>"
      ],
      "text/plain": [
       "  Symbol          Company Name Index Weight    Last  Change %Change   Volume  \\\n",
       "0  BRK.b  Berkshire Hathaway B       13.76%  476.83    0.91  +0.19%   7.51 M   \n",
       "1    JPM  JP Morgan Chase & Co       10.09%  220.30   -4.50  -2.00%   8.96 M   \n",
       "2      V            Visa Inc A        6.99%  278.54    2.17  +0.79%   7.28 M   \n",
       "3     MA      Mastercard Inc A        6.31%  482.12   -1.22  -0.25%   2.06 M   \n",
       "4    BAC  Bank of America Corp        4.41%   40.70   -0.05  -0.12%  48.49 M   \n",
       "\n",
       "     52 Week Range  \n",
       "0  330.58 - 482.89  \n",
       "1  135.19 - 225.48  \n",
       "2  227.78 - 290.96  \n",
       "3  359.77 - 490.00  \n",
       "4    24.96 - 44.44  "
      ]
     },
     "execution_count": 2,
     "metadata": {},
     "output_type": "execute_result"
    }
   ],
   "source": [
    "df = pd.read_csv(r\"xlf.csv\", skiprows=1, encoding=\"utf8\")\n",
    "df.head()"
   ]
  },
  {
   "cell_type": "code",
   "execution_count": 3,
   "id": "35d9cc7d-3258-4257-b451-821bb9414d2a",
   "metadata": {},
   "outputs": [
    {
     "data": {
      "text/html": [
       "<div>\n",
       "<style scoped>\n",
       "    .dataframe tbody tr th:only-of-type {\n",
       "        vertical-align: middle;\n",
       "    }\n",
       "\n",
       "    .dataframe tbody tr th {\n",
       "        vertical-align: top;\n",
       "    }\n",
       "\n",
       "    .dataframe thead th {\n",
       "        text-align: right;\n",
       "    }\n",
       "</style>\n",
       "<table border=\"1\" class=\"dataframe\">\n",
       "  <thead>\n",
       "    <tr style=\"text-align: right;\">\n",
       "      <th></th>\n",
       "      <th>Symbol</th>\n",
       "      <th>Company Name</th>\n",
       "      <th>Index Weight</th>\n",
       "      <th>Last</th>\n",
       "      <th>Change</th>\n",
       "      <th>%Change</th>\n",
       "      <th>Volume</th>\n",
       "      <th>52 Week Range</th>\n",
       "    </tr>\n",
       "  </thead>\n",
       "  <tbody>\n",
       "    <tr>\n",
       "      <th>69</th>\n",
       "      <td>IVZ</td>\n",
       "      <td>Invesco Ltd</td>\n",
       "      <td>0.12%</td>\n",
       "      <td>16.52</td>\n",
       "      <td>-0.57</td>\n",
       "      <td>-3.34%</td>\n",
       "      <td>3.87 M</td>\n",
       "      <td>12.48 - 18.28</td>\n",
       "    </tr>\n",
       "    <tr>\n",
       "      <th>70</th>\n",
       "      <td>BEN</td>\n",
       "      <td>Franklin Resources Inc</td>\n",
       "      <td>0.10%</td>\n",
       "      <td>20.18</td>\n",
       "      <td>-0.06</td>\n",
       "      <td>-0.30%</td>\n",
       "      <td>6.19 M</td>\n",
       "      <td>19.50 - 30.32</td>\n",
       "    </tr>\n",
       "  </tbody>\n",
       "</table>\n",
       "</div>"
      ],
      "text/plain": [
       "   Symbol            Company Name Index Weight   Last  Change %Change  Volume  \\\n",
       "69    IVZ             Invesco Ltd        0.12%  16.52   -0.57  -3.34%  3.87 M   \n",
       "70    BEN  Franklin Resources Inc        0.10%  20.18   -0.06  -0.30%  6.19 M   \n",
       "\n",
       "    52 Week Range  \n",
       "69  12.48 - 18.28  \n",
       "70  19.50 - 30.32  "
      ]
     },
     "execution_count": 3,
     "metadata": {},
     "output_type": "execute_result"
    }
   ],
   "source": [
    "df.tail(2)"
   ]
  },
  {
   "cell_type": "code",
   "execution_count": 4,
   "id": "de27c7ce-5b54-41d3-a675-454c96439620",
   "metadata": {},
   "outputs": [
    {
     "name": "stdout",
     "output_type": "stream",
     "text": [
      "<class 'pandas.core.frame.DataFrame'>\n",
      "RangeIndex: 71 entries, 0 to 70\n",
      "Data columns (total 8 columns):\n",
      " #   Column         Non-Null Count  Dtype  \n",
      "---  ------         --------------  -----  \n",
      " 0   Symbol         71 non-null     object \n",
      " 1   Company Name   71 non-null     object \n",
      " 2   Index Weight   71 non-null     object \n",
      " 3   Last           71 non-null     float64\n",
      " 4   Change         71 non-null     float64\n",
      " 5   %Change        71 non-null     object \n",
      " 6   Volume         71 non-null     object \n",
      " 7   52 Week Range  71 non-null     object \n",
      "dtypes: float64(2), object(6)\n",
      "memory usage: 4.6+ KB\n"
     ]
    }
   ],
   "source": [
    "# Dtype object usually means str\n",
    "\n",
    "df.info()"
   ]
  },
  {
   "cell_type": "code",
   "execution_count": 5,
   "id": "b8f03235-cce5-4fc2-822f-b0eb33bfcadc",
   "metadata": {},
   "outputs": [
    {
     "name": "stdout",
     "output_type": "stream",
     "text": [
      "<class 'pandas.core.frame.DataFrame'>\n",
      "RangeIndex: 71 entries, 0 to 70\n",
      "Data columns (total 9 columns):\n",
      " #   Column         Non-Null Count  Dtype  \n",
      "---  ------         --------------  -----  \n",
      " 0   Symbol         71 non-null     object \n",
      " 1   Company Name   71 non-null     object \n",
      " 2   Index Weight   71 non-null     object \n",
      " 3   Last           71 non-null     float64\n",
      " 4   Change         71 non-null     float64\n",
      " 5   %Change        71 non-null     object \n",
      " 6   Volume         71 non-null     object \n",
      " 7   52 Week Range  71 non-null     object \n",
      " 8   IW             71 non-null     float64\n",
      "dtypes: float64(3), object(6)\n",
      "memory usage: 5.1+ KB\n"
     ]
    }
   ],
   "source": [
    "# apply is the only right way to use for loop in pandas\n",
    "\n",
    "df[\"IW\"] = df[\"Index Weight\"].apply(lambda x : float(x.strip(\"%\")))\n",
    "df.info()"
   ]
  },
  {
   "cell_type": "code",
   "execution_count": 6,
   "id": "28d5e1d4-49cb-40c6-893e-6cda74e19be7",
   "metadata": {},
   "outputs": [],
   "source": [
    "# What is the sum of volume"
   ]
  },
  {
   "cell_type": "code",
   "execution_count": 7,
   "id": "319193a7-ca67-4950-abf0-2efc7d69c772",
   "metadata": {},
   "outputs": [
    {
     "data": {
      "text/plain": [
       "271.71"
      ]
     },
     "execution_count": 7,
     "metadata": {},
     "output_type": "execute_result"
    }
   ],
   "source": [
    "vol_sum = df[\"Volume\"].apply(lambda x : float(x.strip(\"M\"))).sum()\n",
    "vol_sum = round(vol_sum, 2)\n",
    "vol_sum"
   ]
  },
  {
   "cell_type": "code",
   "execution_count": 8,
   "id": "ecf8e4b8-665b-4df6-9605-bdc93e557d7a",
   "metadata": {},
   "outputs": [],
   "source": [
    "# What is the last price of company with Symbol C"
   ]
  },
  {
   "cell_type": "code",
   "execution_count": 9,
   "id": "302d25b3-4398-4470-a0d2-67e852b55897",
   "metadata": {},
   "outputs": [
    {
     "data": {
      "text/plain": [
       "61.46"
      ]
     },
     "execution_count": 9,
     "metadata": {},
     "output_type": "execute_result"
    }
   ],
   "source": [
    "df[df[\"Symbol\"] == \"C\"][\"Last\"].squeeze()"
   ]
  },
  {
   "cell_type": "code",
   "execution_count": 10,
   "id": "1784445a-22bd-4c0c-b88b-f7e68d50c076",
   "metadata": {},
   "outputs": [],
   "source": [
    "# Get stock with the largest Volume"
   ]
  },
  {
   "cell_type": "code",
   "execution_count": 11,
   "id": "76bb7845-e068-4b44-b432-f88eb5908ac0",
   "metadata": {},
   "outputs": [
    {
     "data": {
      "text/html": [
       "<div>\n",
       "<style scoped>\n",
       "    .dataframe tbody tr th:only-of-type {\n",
       "        vertical-align: middle;\n",
       "    }\n",
       "\n",
       "    .dataframe tbody tr th {\n",
       "        vertical-align: top;\n",
       "    }\n",
       "\n",
       "    .dataframe thead th {\n",
       "        text-align: right;\n",
       "    }\n",
       "</style>\n",
       "<table border=\"1\" class=\"dataframe\">\n",
       "  <thead>\n",
       "    <tr style=\"text-align: right;\">\n",
       "      <th></th>\n",
       "      <th>Symbol</th>\n",
       "      <th>Company Name</th>\n",
       "      <th>Index Weight</th>\n",
       "      <th>Last</th>\n",
       "      <th>Change</th>\n",
       "      <th>%Change</th>\n",
       "      <th>Volume</th>\n",
       "      <th>52 Week Range</th>\n",
       "      <th>IW</th>\n",
       "    </tr>\n",
       "  </thead>\n",
       "  <tbody>\n",
       "    <tr>\n",
       "      <th>4</th>\n",
       "      <td>BAC</td>\n",
       "      <td>Bank of America Corp</td>\n",
       "      <td>4.41%</td>\n",
       "      <td>40.7</td>\n",
       "      <td>-0.05</td>\n",
       "      <td>-0.12%</td>\n",
       "      <td>48.49 M</td>\n",
       "      <td>24.96 - 44.44</td>\n",
       "      <td>4.41</td>\n",
       "    </tr>\n",
       "  </tbody>\n",
       "</table>\n",
       "</div>"
      ],
      "text/plain": [
       "  Symbol          Company Name Index Weight  Last  Change %Change   Volume  \\\n",
       "4    BAC  Bank of America Corp        4.41%  40.7   -0.05  -0.12%  48.49 M   \n",
       "\n",
       "   52 Week Range    IW  \n",
       "4  24.96 - 44.44  4.41  "
      ]
     },
     "execution_count": 11,
     "metadata": {},
     "output_type": "execute_result"
    }
   ],
   "source": [
    "# answer\n",
    "\n",
    "largest_vol = df[\"Volume\"].apply(lambda x : float(x.strip(\"M\"))).max()\n",
    "df[df[\"Volume\"] == f\"{largest_vol} M\"]"
   ]
  },
  {
   "cell_type": "code",
   "execution_count": 12,
   "id": "d6b61d24-3097-495b-8f1e-c0d01e00ad6e",
   "metadata": {},
   "outputs": [
    {
     "data": {
      "text/html": [
       "<div>\n",
       "<style scoped>\n",
       "    .dataframe tbody tr th:only-of-type {\n",
       "        vertical-align: middle;\n",
       "    }\n",
       "\n",
       "    .dataframe tbody tr th {\n",
       "        vertical-align: top;\n",
       "    }\n",
       "\n",
       "    .dataframe thead th {\n",
       "        text-align: right;\n",
       "    }\n",
       "</style>\n",
       "<table border=\"1\" class=\"dataframe\">\n",
       "  <thead>\n",
       "    <tr style=\"text-align: right;\">\n",
       "      <th></th>\n",
       "      <th>Symbol</th>\n",
       "      <th>Company Name</th>\n",
       "      <th>Index Weight</th>\n",
       "      <th>Last</th>\n",
       "      <th>Change</th>\n",
       "      <th>%Change</th>\n",
       "      <th>Volume</th>\n",
       "      <th>52 Week Range</th>\n",
       "      <th>IW</th>\n",
       "      <th>Volume (M)</th>\n",
       "    </tr>\n",
       "  </thead>\n",
       "  <tbody>\n",
       "    <tr>\n",
       "      <th>4</th>\n",
       "      <td>BAC</td>\n",
       "      <td>Bank of America Corp</td>\n",
       "      <td>4.41%</td>\n",
       "      <td>40.7</td>\n",
       "      <td>-0.05</td>\n",
       "      <td>-0.12%</td>\n",
       "      <td>48.49 M</td>\n",
       "      <td>24.96 - 44.44</td>\n",
       "      <td>4.41</td>\n",
       "      <td>48.49</td>\n",
       "    </tr>\n",
       "  </tbody>\n",
       "</table>\n",
       "</div>"
      ],
      "text/plain": [
       "  Symbol          Company Name Index Weight  Last  Change %Change   Volume  \\\n",
       "4    BAC  Bank of America Corp        4.41%  40.7   -0.05  -0.12%  48.49 M   \n",
       "\n",
       "   52 Week Range    IW  Volume (M)  \n",
       "4  24.96 - 44.44  4.41       48.49  "
      ]
     },
     "execution_count": 12,
     "metadata": {},
     "output_type": "execute_result"
    }
   ],
   "source": [
    "# solution\n",
    "\n",
    "df[\"Volume (M)\"] = df[\"Volume\"].apply(lambda x : float(x.strip(\"M\")))\n",
    "df[df[\"Volume (M)\"] == df[\"Volume (M)\"].max()]"
   ]
  },
  {
   "cell_type": "code",
   "execution_count": 13,
   "id": "a7f7225b-6112-4340-b260-ce440e9d4938",
   "metadata": {},
   "outputs": [
    {
     "data": {
      "text/html": [
       "<div>\n",
       "<style scoped>\n",
       "    .dataframe tbody tr th:only-of-type {\n",
       "        vertical-align: middle;\n",
       "    }\n",
       "\n",
       "    .dataframe tbody tr th {\n",
       "        vertical-align: top;\n",
       "    }\n",
       "\n",
       "    .dataframe thead th {\n",
       "        text-align: right;\n",
       "    }\n",
       "</style>\n",
       "<table border=\"1\" class=\"dataframe\">\n",
       "  <thead>\n",
       "    <tr style=\"text-align: right;\">\n",
       "      <th></th>\n",
       "      <th>Symbol</th>\n",
       "      <th>Company Name</th>\n",
       "      <th>Index Weight</th>\n",
       "      <th>Last</th>\n",
       "      <th>Change</th>\n",
       "      <th>%Change</th>\n",
       "      <th>Volume</th>\n",
       "      <th>52 Week Range</th>\n",
       "      <th>IW</th>\n",
       "      <th>Volume (M)</th>\n",
       "    </tr>\n",
       "  </thead>\n",
       "  <tbody>\n",
       "    <tr>\n",
       "      <th>4</th>\n",
       "      <td>BAC</td>\n",
       "      <td>Bank of America Corp</td>\n",
       "      <td>4.41%</td>\n",
       "      <td>40.70</td>\n",
       "      <td>-0.05</td>\n",
       "      <td>-0.12%</td>\n",
       "      <td>48.49 M</td>\n",
       "      <td>24.96 - 44.44</td>\n",
       "      <td>4.41</td>\n",
       "      <td>48.49</td>\n",
       "    </tr>\n",
       "    <tr>\n",
       "      <th>5</th>\n",
       "      <td>WFC</td>\n",
       "      <td>Wells Fargo &amp; Co</td>\n",
       "      <td>3.24%</td>\n",
       "      <td>58.37</td>\n",
       "      <td>-0.10</td>\n",
       "      <td>-0.17%</td>\n",
       "      <td>15.93 M</td>\n",
       "      <td>38.39 - 62.55</td>\n",
       "      <td>3.24</td>\n",
       "      <td>15.93</td>\n",
       "    </tr>\n",
       "    <tr>\n",
       "      <th>63</th>\n",
       "      <td>KEY</td>\n",
       "      <td>KeyCorp</td>\n",
       "      <td>0.25%</td>\n",
       "      <td>16.73</td>\n",
       "      <td>-0.33</td>\n",
       "      <td>-1.93%</td>\n",
       "      <td>15.73 M</td>\n",
       "      <td>9.50 - 17.20</td>\n",
       "      <td>0.25</td>\n",
       "      <td>15.73</td>\n",
       "    </tr>\n",
       "  </tbody>\n",
       "</table>\n",
       "</div>"
      ],
      "text/plain": [
       "   Symbol          Company Name Index Weight   Last  Change %Change   Volume  \\\n",
       "4     BAC  Bank of America Corp        4.41%  40.70   -0.05  -0.12%  48.49 M   \n",
       "5     WFC      Wells Fargo & Co        3.24%  58.37   -0.10  -0.17%  15.93 M   \n",
       "63    KEY               KeyCorp        0.25%  16.73   -0.33  -1.93%  15.73 M   \n",
       "\n",
       "    52 Week Range    IW  Volume (M)  \n",
       "4   24.96 - 44.44  4.41       48.49  \n",
       "5   38.39 - 62.55  3.24       15.93  \n",
       "63   9.50 - 17.20  0.25       15.73  "
      ]
     },
     "execution_count": 13,
     "metadata": {},
     "output_type": "execute_result"
    }
   ],
   "source": [
    "df.nlargest(3, \"Volume (M)\")"
   ]
  },
  {
   "cell_type": "code",
   "execution_count": 14,
   "id": "ba105836-b092-4d38-95bf-63462fdd1a4c",
   "metadata": {},
   "outputs": [
    {
     "data": {
      "text/plain": [
       "18"
      ]
     },
     "execution_count": 14,
     "metadata": {},
     "output_type": "execute_result"
    }
   ],
   "source": [
    "df[df[\"Company Name\"].str.contains(\"corp\", case=False)].count().iloc[0]"
   ]
  },
  {
   "cell_type": "code",
   "execution_count": 15,
   "id": "2daba6b0-8b4d-4445-aac9-bcc7de70981d",
   "metadata": {},
   "outputs": [],
   "source": [
    "# How many company got Group in the name"
   ]
  },
  {
   "cell_type": "code",
   "execution_count": 16,
   "id": "11421571-1ca8-41af-9f05-f398e95403ef",
   "metadata": {},
   "outputs": [
    {
     "data": {
      "text/plain": [
       "11"
      ]
     },
     "execution_count": 16,
     "metadata": {},
     "output_type": "execute_result"
    }
   ],
   "source": [
    "df[df[\"Company Name\"].str.contains(\"group\", case=False)].count().iloc[0]"
   ]
  },
  {
   "cell_type": "code",
   "execution_count": 17,
   "id": "d2d8466a-2288-4bc7-89af-6cc998b4fc81",
   "metadata": {},
   "outputs": [
    {
     "data": {
      "text/html": [
       "<div>\n",
       "<style scoped>\n",
       "    .dataframe tbody tr th:only-of-type {\n",
       "        vertical-align: middle;\n",
       "    }\n",
       "\n",
       "    .dataframe tbody tr th {\n",
       "        vertical-align: top;\n",
       "    }\n",
       "\n",
       "    .dataframe thead th {\n",
       "        text-align: right;\n",
       "    }\n",
       "</style>\n",
       "<table border=\"1\" class=\"dataframe\">\n",
       "  <thead>\n",
       "    <tr style=\"text-align: right;\">\n",
       "      <th></th>\n",
       "      <th>count</th>\n",
       "      <th>mean</th>\n",
       "      <th>std</th>\n",
       "      <th>min</th>\n",
       "      <th>25%</th>\n",
       "      <th>50%</th>\n",
       "      <th>75%</th>\n",
       "      <th>max</th>\n",
       "    </tr>\n",
       "  </thead>\n",
       "  <tbody>\n",
       "    <tr>\n",
       "      <th>Last</th>\n",
       "      <td>71.0</td>\n",
       "      <td>186.546056</td>\n",
       "      <td>163.751354</td>\n",
       "      <td>14.78</td>\n",
       "      <td>74.015</td>\n",
       "      <td>120.70</td>\n",
       "      <td>246.735</td>\n",
       "      <td>886.43</td>\n",
       "    </tr>\n",
       "    <tr>\n",
       "      <th>Change</th>\n",
       "      <td>71.0</td>\n",
       "      <td>-1.154930</td>\n",
       "      <td>3.867138</td>\n",
       "      <td>-22.79</td>\n",
       "      <td>-1.205</td>\n",
       "      <td>-0.33</td>\n",
       "      <td>0.125</td>\n",
       "      <td>7.44</td>\n",
       "    </tr>\n",
       "    <tr>\n",
       "      <th>IW</th>\n",
       "      <td>71.0</td>\n",
       "      <td>1.408310</td>\n",
       "      <td>2.215411</td>\n",
       "      <td>0.10</td>\n",
       "      <td>0.345</td>\n",
       "      <td>0.73</td>\n",
       "      <td>1.510</td>\n",
       "      <td>13.76</td>\n",
       "    </tr>\n",
       "    <tr>\n",
       "      <th>Volume (M)</th>\n",
       "      <td>71.0</td>\n",
       "      <td>3.826901</td>\n",
       "      <td>6.336898</td>\n",
       "      <td>0.34</td>\n",
       "      <td>1.040</td>\n",
       "      <td>1.97</td>\n",
       "      <td>3.850</td>\n",
       "      <td>48.49</td>\n",
       "    </tr>\n",
       "  </tbody>\n",
       "</table>\n",
       "</div>"
      ],
      "text/plain": [
       "            count        mean         std    min     25%     50%      75%  \\\n",
       "Last         71.0  186.546056  163.751354  14.78  74.015  120.70  246.735   \n",
       "Change       71.0   -1.154930    3.867138 -22.79  -1.205   -0.33    0.125   \n",
       "IW           71.0    1.408310    2.215411   0.10   0.345    0.73    1.510   \n",
       "Volume (M)   71.0    3.826901    6.336898   0.34   1.040    1.97    3.850   \n",
       "\n",
       "               max  \n",
       "Last        886.43  \n",
       "Change        7.44  \n",
       "IW           13.76  \n",
       "Volume (M)   48.49  "
      ]
     },
     "execution_count": 17,
     "metadata": {},
     "output_type": "execute_result"
    }
   ],
   "source": [
    "df.describe().T"
   ]
  },
  {
   "cell_type": "code",
   "execution_count": 18,
   "id": "d4004546-7f15-4f73-8f9c-58a6a36e40e1",
   "metadata": {},
   "outputs": [],
   "source": [
    "# Get the company with the largest/highest last price"
   ]
  },
  {
   "cell_type": "code",
   "execution_count": 19,
   "id": "0a5e2e1f-0fa4-42d6-aef5-24a5a4b36c15",
   "metadata": {},
   "outputs": [
    {
     "data": {
      "text/html": [
       "<div>\n",
       "<style scoped>\n",
       "    .dataframe tbody tr th:only-of-type {\n",
       "        vertical-align: middle;\n",
       "    }\n",
       "\n",
       "    .dataframe tbody tr th {\n",
       "        vertical-align: top;\n",
       "    }\n",
       "\n",
       "    .dataframe thead th {\n",
       "        text-align: right;\n",
       "    }\n",
       "</style>\n",
       "<table border=\"1\" class=\"dataframe\">\n",
       "  <thead>\n",
       "    <tr style=\"text-align: right;\">\n",
       "      <th></th>\n",
       "      <th>Symbol</th>\n",
       "      <th>Company Name</th>\n",
       "      <th>Index Weight</th>\n",
       "      <th>Last</th>\n",
       "      <th>Change</th>\n",
       "      <th>%Change</th>\n",
       "      <th>Volume</th>\n",
       "      <th>52 Week Range</th>\n",
       "      <th>IW</th>\n",
       "      <th>Volume (M)</th>\n",
       "    </tr>\n",
       "  </thead>\n",
       "  <tbody>\n",
       "    <tr>\n",
       "      <th>11</th>\n",
       "      <td>BLK</td>\n",
       "      <td>BlackRock Inc</td>\n",
       "      <td>1.97%</td>\n",
       "      <td>886.43</td>\n",
       "      <td>-15.38</td>\n",
       "      <td>-1.71%</td>\n",
       "      <td>0.43 M</td>\n",
       "      <td>596.18 - 903.46</td>\n",
       "      <td>1.97</td>\n",
       "      <td>0.43</td>\n",
       "    </tr>\n",
       "  </tbody>\n",
       "</table>\n",
       "</div>"
      ],
      "text/plain": [
       "   Symbol   Company Name Index Weight    Last  Change %Change  Volume  \\\n",
       "11    BLK  BlackRock Inc        1.97%  886.43  -15.38  -1.71%  0.43 M   \n",
       "\n",
       "      52 Week Range    IW  Volume (M)  \n",
       "11  596.18 - 903.46  1.97        0.43  "
      ]
     },
     "execution_count": 19,
     "metadata": {},
     "output_type": "execute_result"
    }
   ],
   "source": [
    "df[df[\"Last\"] == df.describe().T[\"max\"][\"Last\"]]"
   ]
  },
  {
   "cell_type": "code",
   "execution_count": 20,
   "id": "bbb6f5db-eeab-42f4-bc87-9b49214f3dd7",
   "metadata": {},
   "outputs": [],
   "source": [
    "# plot as a pie chart 5 top companies by Volume"
   ]
  },
  {
   "cell_type": "code",
   "execution_count": 21,
   "id": "f26f5384-7f8b-4c01-9c35-7ab002db5b69",
   "metadata": {},
   "outputs": [
    {
     "name": "stdout",
     "output_type": "stream",
     "text": [
      "<class 'pandas.core.frame.DataFrame'>\n",
      "RangeIndex: 71 entries, 0 to 70\n",
      "Data columns (total 10 columns):\n",
      " #   Column         Non-Null Count  Dtype  \n",
      "---  ------         --------------  -----  \n",
      " 0   Symbol         71 non-null     object \n",
      " 1   Company Name   71 non-null     object \n",
      " 2   Index Weight   71 non-null     object \n",
      " 3   Last           71 non-null     float64\n",
      " 4   Change         71 non-null     float64\n",
      " 5   %Change        71 non-null     object \n",
      " 6   Volume         71 non-null     object \n",
      " 7   52 Week Range  71 non-null     object \n",
      " 8   IW             71 non-null     float64\n",
      " 9   Volume (M)     71 non-null     float64\n",
      "dtypes: float64(4), object(6)\n",
      "memory usage: 5.7+ KB\n"
     ]
    }
   ],
   "source": [
    "df.info()"
   ]
  },
  {
   "cell_type": "code",
   "execution_count": 22,
   "id": "03cb00d2-08e5-4a7d-b743-2ab2f4ad4714",
   "metadata": {},
   "outputs": [
    {
     "data": {
      "text/html": [
       "<div>\n",
       "<style scoped>\n",
       "    .dataframe tbody tr th:only-of-type {\n",
       "        vertical-align: middle;\n",
       "    }\n",
       "\n",
       "    .dataframe tbody tr th {\n",
       "        vertical-align: top;\n",
       "    }\n",
       "\n",
       "    .dataframe thead th {\n",
       "        text-align: right;\n",
       "    }\n",
       "</style>\n",
       "<table border=\"1\" class=\"dataframe\">\n",
       "  <thead>\n",
       "    <tr style=\"text-align: right;\">\n",
       "      <th></th>\n",
       "      <th>Symbol</th>\n",
       "      <th>Company Name</th>\n",
       "      <th>Index Weight</th>\n",
       "      <th>Last</th>\n",
       "      <th>Change</th>\n",
       "      <th>%Change</th>\n",
       "      <th>Volume</th>\n",
       "      <th>52 Week Range</th>\n",
       "      <th>IW</th>\n",
       "      <th>Volume (M)</th>\n",
       "    </tr>\n",
       "  </thead>\n",
       "  <tbody>\n",
       "    <tr>\n",
       "      <th>4</th>\n",
       "      <td>BAC</td>\n",
       "      <td>Bank of America Corp</td>\n",
       "      <td>4.41%</td>\n",
       "      <td>40.70</td>\n",
       "      <td>-0.05</td>\n",
       "      <td>-0.12%</td>\n",
       "      <td>48.49 M</td>\n",
       "      <td>24.96 - 44.44</td>\n",
       "      <td>4.41</td>\n",
       "      <td>48.49</td>\n",
       "    </tr>\n",
       "    <tr>\n",
       "      <th>5</th>\n",
       "      <td>WFC</td>\n",
       "      <td>Wells Fargo &amp; Co</td>\n",
       "      <td>3.24%</td>\n",
       "      <td>58.37</td>\n",
       "      <td>-0.10</td>\n",
       "      <td>-0.17%</td>\n",
       "      <td>15.93 M</td>\n",
       "      <td>38.39 - 62.55</td>\n",
       "      <td>3.24</td>\n",
       "      <td>15.93</td>\n",
       "    </tr>\n",
       "    <tr>\n",
       "      <th>63</th>\n",
       "      <td>KEY</td>\n",
       "      <td>KeyCorp</td>\n",
       "      <td>0.25%</td>\n",
       "      <td>16.73</td>\n",
       "      <td>-0.33</td>\n",
       "      <td>-1.93%</td>\n",
       "      <td>15.73 M</td>\n",
       "      <td>9.50 - 17.20</td>\n",
       "      <td>0.25</td>\n",
       "      <td>15.73</td>\n",
       "    </tr>\n",
       "    <tr>\n",
       "      <th>12</th>\n",
       "      <td>C</td>\n",
       "      <td>Citigroup Inc</td>\n",
       "      <td>1.87%</td>\n",
       "      <td>61.46</td>\n",
       "      <td>-1.18</td>\n",
       "      <td>-1.88%</td>\n",
       "      <td>11.06 M</td>\n",
       "      <td>38.17 - 67.81</td>\n",
       "      <td>1.87</td>\n",
       "      <td>11.06</td>\n",
       "    </tr>\n",
       "    <tr>\n",
       "      <th>54</th>\n",
       "      <td>HBAN</td>\n",
       "      <td>Huntington Bancshares (OH)</td>\n",
       "      <td>0.34%</td>\n",
       "      <td>14.78</td>\n",
       "      <td>-0.19</td>\n",
       "      <td>-1.27%</td>\n",
       "      <td>9.45 M</td>\n",
       "      <td>9.25 - 15.25</td>\n",
       "      <td>0.34</td>\n",
       "      <td>9.45</td>\n",
       "    </tr>\n",
       "  </tbody>\n",
       "</table>\n",
       "</div>"
      ],
      "text/plain": [
       "   Symbol                Company Name Index Weight   Last  Change %Change  \\\n",
       "4     BAC        Bank of America Corp        4.41%  40.70   -0.05  -0.12%   \n",
       "5     WFC            Wells Fargo & Co        3.24%  58.37   -0.10  -0.17%   \n",
       "63    KEY                     KeyCorp        0.25%  16.73   -0.33  -1.93%   \n",
       "12      C               Citigroup Inc        1.87%  61.46   -1.18  -1.88%   \n",
       "54   HBAN  Huntington Bancshares (OH)        0.34%  14.78   -0.19  -1.27%   \n",
       "\n",
       "     Volume  52 Week Range    IW  Volume (M)  \n",
       "4   48.49 M  24.96 - 44.44  4.41       48.49  \n",
       "5   15.93 M  38.39 - 62.55  3.24       15.93  \n",
       "63  15.73 M   9.50 - 17.20  0.25       15.73  \n",
       "12  11.06 M  38.17 - 67.81  1.87       11.06  \n",
       "54   9.45 M   9.25 - 15.25  0.34        9.45  "
      ]
     },
     "execution_count": 22,
     "metadata": {},
     "output_type": "execute_result"
    }
   ],
   "source": [
    "top_5 = df.nlargest(5, \"Volume (M)\")\n",
    "top_5"
   ]
  },
  {
   "cell_type": "code",
   "execution_count": 72,
   "id": "9c0adf6a-9473-4598-bf7f-1b771de6d2a0",
   "metadata": {},
   "outputs": [
    {
     "data": {
      "image/png": "[encoded data removed]",
      "text/plain": [
       "<Figure size 640x480 with 1 Axes>"
      ]
     },
     "metadata": {},
     "output_type": "display_data"
    }
   ],
   "source": [
    "plt.pie(x = top_5[\"Volume (M)\"], labels = top_5[\"Company Name\"], autopct = \"%1.1f%%\")\n",
    "plt.title(\"Top 5 Companies by Volume\")\n",
    "plt.show()"
   ]
  },
  {
   "cell_type": "code",
   "execution_count": 64,
   "id": "7ca4dfdf-135c-41a9-94a7-2b0b069f3cd5",
   "metadata": {},
   "outputs": [
    {
     "data": {
      "image/png": "[encoded data removed]",
      "text/plain": [
       "<Figure size 640x480 with 1 Axes>"
      ]
     },
     "metadata": {},
     "output_type": "display_data"
    }
   ],
   "source": [
    "plt.bar(top_5[\"Company Name\"], top_5[\"Volume\"], color=[\"#DFFF00\",\"#FFBF00\",\"#FF7F50\",\"#DE3163\",\"#9FE2BF\"])\n",
    "plt.xticks(rotation=45)\n",
    "plt.xlabel(\"Volume\")\n",
    "plt.ylabel(\"Company Name\")\n",
    "plt.title(\"Top 5 Companies by Volume\")\n",
    "plt.show()"
   ]
  },
  {
   "cell_type": "code",
   "execution_count": null,
   "id": "3050671b-dff0-4401-a327-51a9bf2353de",
   "metadata": {},
   "outputs": [],
   "source": []
  }
 ],
 "metadata": {
  "kernelspec": {
   "display_name": "Python 3 (ipykernel)",
   "language": "python",
   "name": "python3"
  },
  "language_info": {
   "codemirror_mode": {
    "name": "ipython",
    "version": 3
   },
   "file_extension": ".py",
   "mimetype": "text/x-python",
   "name": "python",
   "nbconvert_exporter": "python",
   "pygments_lexer": "ipython3",
   "version": "3.12.7"
  }
 },
 "nbformat": 4,
 "nbformat_minor": 5
}
