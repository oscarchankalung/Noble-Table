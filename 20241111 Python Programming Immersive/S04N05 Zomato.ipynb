{
 "cells": [
  {
   "cell_type": "code",
   "execution_count": 3,
   "id": "4101ae66-320d-4707-8167-6abd6547e18f",
   "metadata": {},
   "outputs": [],
   "source": [
    "import pandas as pd\n",
    "import matplotlib.pyplot as plt"
   ]
  },
  {
   "cell_type": "code",
   "execution_count": 4,
   "id": "9e0cfc49-cd92-49dd-92e9-95ed9378a076",
   "metadata": {},
   "outputs": [
    {
     "name": "stdout",
     "output_type": "stream",
     "text": [
      "<class 'pandas.core.frame.DataFrame'>\n",
      "RangeIndex: 9551 entries, 0 to 9550\n",
      "Data columns (total 21 columns):\n",
      " #   Column                Non-Null Count  Dtype  \n",
      "---  ------                --------------  -----  \n",
      " 0   Restaurant ID         9551 non-null   int64  \n",
      " 1   Restaurant Name       9551 non-null   object \n",
      " 2   Country Code          9551 non-null   int64  \n",
      " 3   City                  9551 non-null   object \n",
      " 4   Address               9551 non-null   object \n",
      " 5   Locality              9551 non-null   object \n",
      " 6   Locality Verbose      9551 non-null   object \n",
      " 7   Longitude             9551 non-null   float64\n",
      " 8   Latitude              9551 non-null   float64\n",
      " 9   Cuisines              9542 non-null   object \n",
      " 10  Average Cost for two  9551 non-null   int64  \n",
      " 11  Currency              9551 non-null   object \n",
      " 12  Has Table booking     9551 non-null   object \n",
      " 13  Has Online delivery   9551 non-null   object \n",
      " 14  Is delivering now     9551 non-null   object \n",
      " 15  Switch to order menu  9551 non-null   object \n",
      " 16  Price range           9551 non-null   int64  \n",
      " 17  Aggregate rating      9551 non-null   float64\n",
      " 18  Rating color          9551 non-null   object \n",
      " 19  Rating text           9551 non-null   object \n",
      " 20  Votes                 9551 non-null   int64  \n",
      "dtypes: float64(3), int64(5), object(13)\n",
      "memory usage: 1.5+ MB\n"
     ]
    }
   ],
   "source": [
    "df = pd.read_csv(r\"zomato.csv\", encoding='Latin1')\n",
    "df.info()"
   ]
  },
  {
   "cell_type": "code",
   "execution_count": 5,
   "id": "d7f0c217-1466-4c0f-a327-a87ed1725561",
   "metadata": {},
   "outputs": [],
   "source": [
    "# check NaN data using isna()\n",
    "# drop NaN data using dropna()\n",
    "\n",
    "df.isna().sum()\n",
    "df.dropna(inplace=True)"
   ]
  },
  {
   "cell_type": "code",
   "execution_count": 6,
   "id": "6dd4d0b0-deb6-442d-b73d-513dc778210b",
   "metadata": {},
   "outputs": [
    {
     "data": {
      "text/plain": [
       "61"
      ]
     },
     "execution_count": 6,
     "metadata": {},
     "output_type": "execute_result"
    }
   ],
   "source": [
    "# answer 1\n",
    "\n",
    "max_rating = df[\"Aggregate rating\"].max()\n",
    "condition = df[\"Aggregate rating\"] == max_rating\n",
    "df[condition].count().iloc[0]"
   ]
  },
  {
   "cell_type": "code",
   "execution_count": 7,
   "id": "5ea62ef6-2df3-4263-9cf0-0c43aab53836",
   "metadata": {},
   "outputs": [
    {
     "data": {
      "text/plain": [
       "61"
      ]
     },
     "execution_count": 7,
     "metadata": {},
     "output_type": "execute_result"
    }
   ],
   "source": [
    "# answer 2\n",
    "\n",
    "rest_by_rating = df.groupby(\"Aggregate rating\")[[\"Aggregate rating\"]].count()\n",
    "rest_by_rating.tail(1).squeeze()"
   ]
  },
  {
   "cell_type": "code",
   "execution_count": 8,
   "id": "2b4d4493-591b-4ed7-9fde-fc38a6cfe386",
   "metadata": {},
   "outputs": [
    {
     "data": {
      "text/plain": [
       "Restaurant Name    61\n",
       "Name: 4.9, dtype: int64"
      ]
     },
     "execution_count": 8,
     "metadata": {},
     "output_type": "execute_result"
    }
   ],
   "source": [
    "# solution 2\n",
    "\n",
    "rest_by_rating = df.groupby(\"Aggregate rating\")[[\"Restaurant Name\"]].count()\n",
    "max_rating_index = rest_by_rating.index.max()\n",
    "rest_by_rating.loc[max_rating_index]"
   ]
  },
  {
   "cell_type": "code",
   "execution_count": 9,
   "id": "2e9d1bf6-873e-41dd-bf76-d8a0c561a12f",
   "metadata": {},
   "outputs": [
    {
     "data": {
      "text/plain": [
       "61"
      ]
     },
     "execution_count": 9,
     "metadata": {},
     "output_type": "execute_result"
    }
   ],
   "source": [
    "# solution 3\n",
    "# count number of unique values with value_counts()\n",
    "# use either groupby() or \n",
    "\n",
    "rating_count = df[\"Aggregate rating\"].value_counts()\n",
    "max_rating_index = rating_count.index.max()\n",
    "rating_count.loc[max_rating_index]"
   ]
  },
  {
   "cell_type": "code",
   "execution_count": 10,
   "id": "74797240-26d5-4c4e-9373-0774e0fc79cc",
   "metadata": {},
   "outputs": [],
   "source": [
    "# How many unique cities are in the data set?\n",
    "# How many rest are in Abu Dha"
   ]
  },
  {
   "cell_type": "code",
   "execution_count": 11,
   "id": "c609dc5c-f415-4dd6-83a8-7dfa7f7a87c8",
   "metadata": {},
   "outputs": [
    {
     "data": {
      "text/plain": [
       "140"
      ]
     },
     "execution_count": 11,
     "metadata": {},
     "output_type": "execute_result"
    }
   ],
   "source": [
    "# solution\n",
    "\n",
    "unique_cities = df[\"City\"].nunique()\n",
    "unique_cities"
   ]
  },
  {
   "cell_type": "code",
   "execution_count": 12,
   "id": "e6d12704-e706-4649-b3fb-260c176881a9",
   "metadata": {},
   "outputs": [
    {
     "data": {
      "text/plain": [
       "20"
      ]
     },
     "execution_count": 12,
     "metadata": {},
     "output_type": "execute_result"
    }
   ],
   "source": [
    "# solution\n",
    "\n",
    "cities = df[\"City\"].value_counts()\n",
    "cities[\"Abu Dhabi\"]"
   ]
  },
  {
   "cell_type": "code",
   "execution_count": 13,
   "id": "01e91802-bff4-4408-af81-ed94aa02515e",
   "metadata": {},
   "outputs": [],
   "source": [
    "# Get the restaurant with the highest rating in New Delhi"
   ]
  },
  {
   "cell_type": "code",
   "execution_count": 14,
   "id": "0266749f-86c0-418b-af4e-f581cba14aa3",
   "metadata": {},
   "outputs": [
    {
     "data": {
      "text/html": [
       "<div>\n",
       "<style scoped>\n",
       "    .dataframe tbody tr th:only-of-type {\n",
       "        vertical-align: middle;\n",
       "    }\n",
       "\n",
       "    .dataframe tbody tr th {\n",
       "        vertical-align: top;\n",
       "    }\n",
       "\n",
       "    .dataframe thead th {\n",
       "        text-align: right;\n",
       "    }\n",
       "</style>\n",
       "<table border=\"1\" class=\"dataframe\">\n",
       "  <thead>\n",
       "    <tr style=\"text-align: right;\">\n",
       "      <th></th>\n",
       "      <th>Restaurant Name</th>\n",
       "      <th>Aggregate rating</th>\n",
       "    </tr>\n",
       "  </thead>\n",
       "  <tbody>\n",
       "    <tr>\n",
       "      <th>3013</th>\n",
       "      <td>Naturals Ice Cream</td>\n",
       "      <td>4.9</td>\n",
       "    </tr>\n",
       "    <tr>\n",
       "      <th>3601</th>\n",
       "      <td>Indian Accent - The Manor</td>\n",
       "      <td>4.9</td>\n",
       "    </tr>\n",
       "    <tr>\n",
       "      <th>4298</th>\n",
       "      <td>Masala Library</td>\n",
       "      <td>4.9</td>\n",
       "    </tr>\n",
       "  </tbody>\n",
       "</table>\n",
       "</div>"
      ],
      "text/plain": [
       "                Restaurant Name  Aggregate rating\n",
       "3013         Naturals Ice Cream               4.9\n",
       "3601  Indian Accent - The Manor               4.9\n",
       "4298             Masala Library               4.9"
      ]
     },
     "execution_count": 14,
     "metadata": {},
     "output_type": "execute_result"
    }
   ],
   "source": [
    "# solution\n",
    "\n",
    "condition_city = df[\"City\"] == \"New Delhi\"\n",
    "condition_rating = df[\"Aggregate rating\"] == df[condition_city][\"Aggregate rating\"].max()\n",
    "\n",
    "df[condition_city & condition_rating][[\"Restaurant Name\", \"Aggregate rating\"]]"
   ]
  },
  {
   "cell_type": "code",
   "execution_count": 15,
   "id": "2ca8b61f-b2c9-4153-85b7-8a292efbc980",
   "metadata": {},
   "outputs": [],
   "source": [
    "# Which cousine is more popular, Chinese or American?"
   ]
  },
  {
   "cell_type": "code",
   "execution_count": 16,
   "id": "b63b7408-0b56-46c3-b74d-d6165f49e2e7",
   "metadata": {},
   "outputs": [
    {
     "name": "stdout",
     "output_type": "stream",
     "text": [
      "<class 'pandas.core.frame.DataFrame'>\n",
      "Index: 9542 entries, 0 to 9550\n",
      "Data columns (total 21 columns):\n",
      " #   Column                Non-Null Count  Dtype  \n",
      "---  ------                --------------  -----  \n",
      " 0   Restaurant ID         9542 non-null   int64  \n",
      " 1   Restaurant Name       9542 non-null   object \n",
      " 2   Country Code          9542 non-null   int64  \n",
      " 3   City                  9542 non-null   object \n",
      " 4   Address               9542 non-null   object \n",
      " 5   Locality              9542 non-null   object \n",
      " 6   Locality Verbose      9542 non-null   object \n",
      " 7   Longitude             9542 non-null   float64\n",
      " 8   Latitude              9542 non-null   float64\n",
      " 9   Cuisines              9542 non-null   object \n",
      " 10  Average Cost for two  9542 non-null   int64  \n",
      " 11  Currency              9542 non-null   object \n",
      " 12  Has Table booking     9542 non-null   object \n",
      " 13  Has Online delivery   9542 non-null   object \n",
      " 14  Is delivering now     9542 non-null   object \n",
      " 15  Switch to order menu  9542 non-null   object \n",
      " 16  Price range           9542 non-null   int64  \n",
      " 17  Aggregate rating      9542 non-null   float64\n",
      " 18  Rating color          9542 non-null   object \n",
      " 19  Rating text           9542 non-null   object \n",
      " 20  Votes                 9542 non-null   int64  \n",
      "dtypes: float64(3), int64(5), object(13)\n",
      "memory usage: 1.6+ MB\n"
     ]
    }
   ],
   "source": [
    "df.info()"
   ]
  },
  {
   "cell_type": "code",
   "execution_count": 48,
   "id": "2ed8f82f-1703-4e5f-8545-369ca48ccbfb",
   "metadata": {},
   "outputs": [
    {
     "name": "stdout",
     "output_type": "stream",
     "text": [
      "2733 vs 405\n"
     ]
    }
   ],
   "source": [
    "# solution\n",
    "\n",
    "def count_by_cuisine(cuisine):\n",
    "    return df[df[\"Cuisines\"].str.contains(cuisine, case=False)].count().iloc[0]\n",
    "\n",
    "chinese_cuisine = count_by_cuisine(\"Chinese\")\n",
    "american_cuisine = count_by_cuisine(\"American\")\n",
    "\n",
    "print(f\"{chinese_cuisine} vs {american_cuisine}\")"
   ]
  },
  {
   "cell_type": "code",
   "execution_count": 50,
   "id": "c2c39dc2-f3e8-441f-8ae3-d0bfc215cab9",
   "metadata": {},
   "outputs": [],
   "source": [
    "# What is the name and rating of the most expenseive restaurant for two ('Average Cost for two')?"
   ]
  },
  {
   "cell_type": "code",
   "execution_count": 52,
   "id": "cd105bc5-b320-4975-a3a9-d83c69f192d7",
   "metadata": {},
   "outputs": [
    {
     "data": {
      "text/html": [
       "<div>\n",
       "<style scoped>\n",
       "    .dataframe tbody tr th:only-of-type {\n",
       "        vertical-align: middle;\n",
       "    }\n",
       "\n",
       "    .dataframe tbody tr th {\n",
       "        vertical-align: top;\n",
       "    }\n",
       "\n",
       "    .dataframe thead th {\n",
       "        text-align: right;\n",
       "    }\n",
       "</style>\n",
       "<table border=\"1\" class=\"dataframe\">\n",
       "  <thead>\n",
       "    <tr style=\"text-align: right;\">\n",
       "      <th></th>\n",
       "      <th>Restaurant Name</th>\n",
       "      <th>Aggregate rating</th>\n",
       "      <th>Average Cost for two</th>\n",
       "    </tr>\n",
       "  </thead>\n",
       "  <tbody>\n",
       "    <tr>\n",
       "      <th>9283</th>\n",
       "      <td>Skye</td>\n",
       "      <td>4.1</td>\n",
       "      <td>800000</td>\n",
       "    </tr>\n",
       "    <tr>\n",
       "      <th>9284</th>\n",
       "      <td>Satoo - Hotel Shangri-La</td>\n",
       "      <td>4.6</td>\n",
       "      <td>800000</td>\n",
       "    </tr>\n",
       "  </tbody>\n",
       "</table>\n",
       "</div>"
      ],
      "text/plain": [
       "               Restaurant Name  Aggregate rating  Average Cost for two\n",
       "9283                      Skye               4.1                800000\n",
       "9284  Satoo - Hotel Shangri-La               4.6                800000"
      ]
     },
     "execution_count": 52,
     "metadata": {},
     "output_type": "execute_result"
    }
   ],
   "source": [
    "# solution\n",
    "\n",
    "condition_cost = df[\"Average Cost for two\"] == df[\"Average Cost for two\"].max()\n",
    "df[condition_cost][[\"Restaurant Name\", \"Aggregate rating\", \"Average Cost for two\"]]"
   ]
  },
  {
   "cell_type": "code",
   "execution_count": 54,
   "id": "7c8f2c33-8038-4e42-894c-77ff5ccc98c8",
   "metadata": {},
   "outputs": [],
   "source": [
    "# find the most expensive Chinese restaurant New Delhi\n",
    "# in US Dollars 1 Indian Rupee is 0.013 United States Dollar"
   ]
  },
  {
   "cell_type": "code",
   "execution_count": 56,
   "id": "566d5ec5-cb3d-4666-93f9-f4e001853c03",
   "metadata": {},
   "outputs": [
    {
     "data": {
      "text/html": [
       "<div>\n",
       "<style scoped>\n",
       "    .dataframe tbody tr th:only-of-type {\n",
       "        vertical-align: middle;\n",
       "    }\n",
       "\n",
       "    .dataframe tbody tr th {\n",
       "        vertical-align: top;\n",
       "    }\n",
       "\n",
       "    .dataframe thead th {\n",
       "        text-align: right;\n",
       "    }\n",
       "</style>\n",
       "<table border=\"1\" class=\"dataframe\">\n",
       "  <thead>\n",
       "    <tr style=\"text-align: right;\">\n",
       "      <th></th>\n",
       "      <th>Restaurant Name</th>\n",
       "      <th>City</th>\n",
       "      <th>Cuisines</th>\n",
       "      <th>USD</th>\n",
       "    </tr>\n",
       "  </thead>\n",
       "  <tbody>\n",
       "    <tr>\n",
       "      <th>4088</th>\n",
       "      <td>Tian - Asian Cuisine Studio - ITC Maurya</td>\n",
       "      <td>New Delhi</td>\n",
       "      <td>Asian, Japanese, Korean, Thai, Chinese</td>\n",
       "      <td>91.0</td>\n",
       "    </tr>\n",
       "  </tbody>\n",
       "</table>\n",
       "</div>"
      ],
      "text/plain": [
       "                               Restaurant Name       City  \\\n",
       "4088  Tian - Asian Cuisine Studio - ITC Maurya  New Delhi   \n",
       "\n",
       "                                    Cuisines   USD  \n",
       "4088  Asian, Japanese, Korean, Thai, Chinese  91.0  "
      ]
     },
     "execution_count": 56,
     "metadata": {},
     "output_type": "execute_result"
    }
   ],
   "source": [
    "condition_city = df[\"City\"] == \"New Delhi\"\n",
    "condition_cuisine = df[\"Cuisines\"].str.contains(\"Chinese\", case=False)\n",
    "\n",
    "nd_chi = df[condition_city & condition_cuisine].copy()\n",
    "nd_chi[\"USD\"] = nd_chi[\"Average Cost for two\"] * 0.013\n",
    "\n",
    "most_exp = nd_chi[nd_chi[\"USD\"] == nd_chi[\"USD\"].max()]\n",
    "most_exp[[\"Restaurant Name\", \"City\", \"Cuisines\", \"USD\"]]"
   ]
  },
  {
   "cell_type": "code",
   "execution_count": 60,
   "id": "321cbc29-cc1e-42d1-b13b-94dd202be038",
   "metadata": {},
   "outputs": [],
   "source": [
    "# Plot 5 top cities by number of restaurants"
   ]
  },
  {
   "cell_type": "code",
   "execution_count": 62,
   "id": "c45ab709-8e3d-4b7c-b0d0-71d9f3fcc225",
   "metadata": {},
   "outputs": [
    {
     "data": {
      "text/plain": [
       "City\n",
       "New Delhi    5473\n",
       "Gurgaon      1118\n",
       "Noida        1080\n",
       "Faridabad     251\n",
       "Ghaziabad      25\n",
       "Name: count, dtype: int64"
      ]
     },
     "execution_count": 62,
     "metadata": {},
     "output_type": "execute_result"
    }
   ],
   "source": [
    "top_5 = df[\"City\"].value_counts().nlargest(5)\n",
    "top_5"
   ]
  },
  {
   "cell_type": "code",
   "execution_count": 64,
   "id": "cb8f9944-2d67-43db-a93c-803aefec4b43",
   "metadata": {},
   "outputs": [
    {
     "data": {
      "image/png": "[encoded data removed]",
      "text/plain": [
       "<Figure size 640x480 with 1 Axes>"
      ]
     },
     "metadata": {},
     "output_type": "display_data"
    }
   ],
   "source": [
    "plt.barh(top_5.index, top_5.values)\n",
    "plt.title('Top 5 Cities by Number of Restaurants')\n",
    "plt.xlabel('Number of Restaurants')\n",
    "plt.ylabel('City')\n",
    "plt.gca().invert_yaxis()\n",
    "plt.show()"
   ]
  },
  {
   "cell_type": "code",
   "execution_count": null,
   "id": "e3503ad0-b430-4b97-ab81-2dd46fa29513",
   "metadata": {},
   "outputs": [],
   "source": []
  }
 ],
 "metadata": {
  "kernelspec": {
   "display_name": "Python 3 (ipykernel)",
   "language": "python",
   "name": "python3"
  },
  "language_info": {
   "codemirror_mode": {
    "name": "ipython",
    "version": 3
   },
   "file_extension": ".py",
   "mimetype": "text/x-python",
   "name": "python",
   "nbconvert_exporter": "python",
   "pygments_lexer": "ipython3",
   "version": "3.12.7"
  }
 },
 "nbformat": 4,
 "nbformat_minor": 5
}
