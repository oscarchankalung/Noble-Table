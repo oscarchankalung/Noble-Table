{
 "cells": [
  {
   "cell_type": "code",
   "execution_count": 1,
   "id": "29be22df-e467-4479-8628-4f80b825b7b6",
   "metadata": {},
   "outputs": [],
   "source": [
    "# Class\n",
    "\n",
    "# blueprint to create object\n",
    "# create object that shares attributes\n",
    "# car: make, model, color\n",
    "\n",
    "# feature of method\n",
    "# has indentation\n",
    "# start with double underscore\n",
    "# first argument is always self\n",
    "\n",
    "# init an object with attributes\n",
    "# allow extended child to inherit attributes\n",
    "\n",
    "# __init__ is similar to constructor() in JavaScript\n",
    "# self is similar to this in JavaScript\n",
    "# self refers to instances of the class\n",
    "# availabe to all instances"
   ]
  },
  {
   "cell_type": "code",
   "execution_count": 3,
   "id": "55a17880-ac07-4deb-8618-d2f69ec30426",
   "metadata": {},
   "outputs": [],
   "source": [
    "class Car:\n",
    "    def __init__(self, make, model, color=\"White\"):\n",
    "        self.make = make\n",
    "        self.model = model\n",
    "        self.color = color"
   ]
  },
  {
   "cell_type": "code",
   "execution_count": 9,
   "id": "f20097cc-c3b2-4086-8717-f65f43cc10cb",
   "metadata": {},
   "outputs": [
    {
     "data": {
      "text/plain": [
       "'Ford'"
      ]
     },
     "execution_count": 9,
     "metadata": {},
     "output_type": "execute_result"
    }
   ],
   "source": [
    "a = Car(\"Ford\", \"Mach1\", \"Yellow\")\n",
    "a.make"
   ]
  },
  {
   "cell_type": "code",
   "execution_count": 11,
   "id": "a285274c-1176-4154-973b-f4c7f98afebc",
   "metadata": {},
   "outputs": [
    {
     "data": {
      "text/plain": [
       "'White'"
      ]
     },
     "execution_count": 11,
     "metadata": {},
     "output_type": "execute_result"
    }
   ],
   "source": [
    "b = Car(\"Honda\", \"CR-V\")\n",
    "b.color"
   ]
  },
  {
   "cell_type": "code",
   "execution_count": 17,
   "id": "96e032d7-39e1-4cb4-9859-48d747d288bb",
   "metadata": {},
   "outputs": [],
   "source": [
    "class Customer:\n",
    "    def __init__(self, name, balance = 0.0):\n",
    "        self.name = name\n",
    "        self.balance = balance\n",
    "\n",
    "    def withdraw(self, amount):\n",
    "        if amount > self.balance:\n",
    "            raise RuntimeError(\"Amount is greater than balance.\")\n",
    "        else:\n",
    "            self.balance -= amount\n",
    "            return self.balance\n",
    "\n",
    "    def deposit(self, amount):\n",
    "        self.balance += amount\n",
    "        return self.balance"
   ]
  },
  {
   "cell_type": "code",
   "execution_count": 19,
   "id": "5f985f64-959a-4b3b-98cd-ea112f7b608d",
   "metadata": {},
   "outputs": [
    {
     "data": {
      "text/plain": [
       "1000"
      ]
     },
     "execution_count": 19,
     "metadata": {},
     "output_type": "execute_result"
    }
   ],
   "source": [
    "j = Customer(\"John\", 1000)\n",
    "j.balance"
   ]
  },
  {
   "cell_type": "code",
   "execution_count": 21,
   "id": "022ff341-8823-4c4d-b4ec-96638d3df97f",
   "metadata": {},
   "outputs": [
    {
     "data": {
      "text/plain": [
       "900"
      ]
     },
     "execution_count": 21,
     "metadata": {},
     "output_type": "execute_result"
    }
   ],
   "source": [
    "j.withdraw(100)"
   ]
  },
  {
   "cell_type": "code",
   "execution_count": 23,
   "id": "5b18ee9d-dd18-459e-a690-8ee99ac4a385",
   "metadata": {},
   "outputs": [
    {
     "data": {
      "text/plain": [
       "1900"
      ]
     },
     "execution_count": 23,
     "metadata": {},
     "output_type": "execute_result"
    }
   ],
   "source": [
    "j.deposit(1000)"
   ]
  },
  {
   "cell_type": "code",
   "execution_count": 29,
   "id": "d3f20741-5f19-4998-9e53-689448c50e6c",
   "metadata": {},
   "outputs": [],
   "source": [
    "# j.withdraw(2000)\n",
    "# return RuntimeError"
   ]
  },
  {
   "cell_type": "code",
   "execution_count": null,
   "id": "d9681c93-5279-4f43-b261-d9e28e67154e",
   "metadata": {},
   "outputs": [],
   "source": []
  }
 ],
 "metadata": {
  "kernelspec": {
   "display_name": "Python 3 (ipykernel)",
   "language": "python",
   "name": "python3"
  },
  "language_info": {
   "codemirror_mode": {
    "name": "ipython",
    "version": 3
   },
   "file_extension": ".py",
   "mimetype": "text/x-python",
   "name": "python",
   "nbconvert_exporter": "python",
   "pygments_lexer": "ipython3",
   "version": "3.11.5"
  }
 },
 "nbformat": 4,
 "nbformat_minor": 5
}
