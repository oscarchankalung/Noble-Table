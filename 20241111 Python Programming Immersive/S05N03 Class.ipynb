{
 "cells": [
  {
   "cell_type": "code",
   "execution_count": 1,
   "id": "29be22df-e467-4479-8628-4f80b825b7b6",
   "metadata": {},
   "outputs": [],
   "source": [
    "# Class\n",
    "\n",
    "# blueprint to create object\n",
    "# create object that shares attributes\n",
    "# car: make, model, color\n",
    "\n",
    "# feature of method\n",
    "# has indentation\n",
    "# start with double underscore\n",
    "# first argument is always self\n",
    "\n",
    "# init an object with attributes\n",
    "# allow extended child to inherit attributes\n",
    "\n",
    "# __init__ is similar to constructor() in JavaScript\n",
    "# self is similar to this in JavaScript\n",
    "# self refers to instances of the class\n",
    "# availabe to all instances"
   ]
  },
  {
   "cell_type": "code",
   "execution_count": 3,
   "id": "55a17880-ac07-4deb-8618-d2f69ec30426",
   "metadata": {},
   "outputs": [],
   "source": [
    "class Car:\n",
    "    def __init__(self, make, model, color=\"White\"):\n",
    "        self.make = make\n",
    "        self.model = model\n",
    "        self.color = color"
   ]
  },
  {
   "cell_type": "code",
   "execution_count": 9,
   "id": "f20097cc-c3b2-4086-8717-f65f43cc10cb",
   "metadata": {},
   "outputs": [
    {
     "data": {
      "text/plain": [
       "'Ford'"
      ]
     },
     "execution_count": 9,
     "metadata": {},
     "output_type": "execute_result"
    }
   ],
   "source": [
    "a = Car(\"Ford\", \"Mach1\", \"Yellow\")\n",
    "a.make"
   ]
  },
  {
   "cell_type": "code",
   "execution_count": 11,
   "id": "a285274c-1176-4154-973b-f4c7f98afebc",
   "metadata": {},
   "outputs": [
    {
     "data": {
      "text/plain": [
       "'White'"
      ]
     },
     "execution_count": 11,
     "metadata": {},
     "output_type": "execute_result"
    }
   ],
   "source": [
    "b = Car(\"Honda\", \"CR-V\")\n",
    "b.color"
   ]
  },
  {
   "cell_type": "code",
   "execution_count": 17,
   "id": "96e032d7-39e1-4cb4-9859-48d747d288bb",
   "metadata": {},
   "outputs": [],
   "source": [
    "class Customer:\n",
    "    def __init__(self, name, balance = 0.0):\n",
    "        self.name = name\n",
    "        self.balance = balance\n",
    "\n",
    "    def withdraw(self, amount):\n",
    "        if amount > self.balance:\n",
    "            raise RuntimeError(\"Amount is greater than balance.\")\n",
    "        else:\n",
    "            self.balance -= amount\n",
    "            return self.balance\n",
    "\n",
    "    def deposit(self, amount):\n",
    "        self.balance += amount\n",
    "        return self.balance"
   ]
  },
  {
   "cell_type": "code",
   "execution_count": 19,
   "id": "5f985f64-959a-4b3b-98cd-ea112f7b608d",
   "metadata": {},
   "outputs": [
    {
     "data": {
      "text/plain": [
       "1000"
      ]
     },
     "execution_count": 19,
     "metadata": {},
     "output_type": "execute_result"
    }
   ],
   "source": [
    "j = Customer(\"John\", 1000)\n",
    "j.balance"
   ]
  },
  {
   "cell_type": "code",
   "execution_count": 21,
   "id": "022ff341-8823-4c4d-b4ec-96638d3df97f",
   "metadata": {},
   "outputs": [
    {
     "data": {
      "text/plain": [
       "900"
      ]
     },
     "execution_count": 21,
     "metadata": {},
     "output_type": "execute_result"
    }
   ],
   "source": [
    "j.withdraw(100)"
   ]
  },
  {
   "cell_type": "code",
   "execution_count": 23,
   "id": "5b18ee9d-dd18-459e-a690-8ee99ac4a385",
   "metadata": {},
   "outputs": [
    {
     "data": {
      "text/plain": [
       "1900"
      ]
     },
     "execution_count": 23,
     "metadata": {},
     "output_type": "execute_result"
    }
   ],
   "source": [
    "j.deposit(1000)"
   ]
  },
  {
   "cell_type": "code",
   "execution_count": 29,
   "id": "d3f20741-5f19-4998-9e53-689448c50e6c",
   "metadata": {},
   "outputs": [],
   "source": [
    "# j.withdraw(2000)\n",
    "# return RuntimeError"
   ]
  },
  {
   "cell_type": "code",
   "execution_count": 63,
   "id": "cfa5e8a7-a25e-4273-b69b-84717bf2d8ad",
   "metadata": {},
   "outputs": [],
   "source": [
    "# create class that takes width and length, with method that return area"
   ]
  },
  {
   "cell_type": "code",
   "execution_count": 65,
   "id": "828b4ee9-20ac-46dc-a1ae-dc62a8fbfa58",
   "metadata": {},
   "outputs": [],
   "source": [
    "class Classroom:\n",
    "    def __init__(self, width = 0.0, length = 0.0):\n",
    "        self.width = width\n",
    "        self.length = length\n",
    "        self.area = self.area()\n",
    "\n",
    "    def area(self):\n",
    "        return self.width * self.length"
   ]
  },
  {
   "cell_type": "code",
   "execution_count": 67,
   "id": "bb2c8f2a-4a1a-4781-a60e-63d2834fa068",
   "metadata": {},
   "outputs": [
    {
     "data": {
      "text/plain": [
       "200"
      ]
     },
     "execution_count": 67,
     "metadata": {},
     "output_type": "execute_result"
    }
   ],
   "source": [
    "room_1 = Classroom(10, 20)\n",
    "room_1.area"
   ]
  },
  {
   "cell_type": "code",
   "execution_count": 69,
   "id": "b6cfb104-d3b7-4b5e-9510-994f19a9015b",
   "metadata": {},
   "outputs": [],
   "source": [
    "# create class CardValidator"
   ]
  },
  {
   "cell_type": "code",
   "execution_count": null,
   "id": "cb3ff02e-1369-4dd6-9bbe-790380b3e28c",
   "metadata": {},
   "outputs": [],
   "source": [
    "def lenght_card(card):\n",
    "    if len(card)==15 or len(card)==16:\n",
    "        return True\n",
    "    else:\n",
    "        return False\n",
    "    \n",
    "def type_card(card):\n",
    "    if lenght_card(card):\n",
    "        if card[0] == \"4\":\n",
    "            return True,\"VISA\"\n",
    "        elif card[0:2] in [\"51\", \"52\", \"53\", \"54\", \"55\"]:\n",
    "            return True,\"MASTERCARD\"\n",
    "        elif card[0:2] in [\"34\", \"37\"]:\n",
    "            return True,\"AMEX\"\n",
    "        elif card[0:2] == \"60\":\n",
    "            return True,\"DISCOVER\"\n",
    "        else:\n",
    "            return False,\"INVALID\"\n",
    "    else:\n",
    "        return False,\"INVALID\"\n",
    "    \n",
    "def validate(card):\n",
    "    if type_card(card)[0]:\n",
    "        first_step = [int(n)*2 for n in card[-2::-2]]\n",
    "        second_step = sum([sum(divmod(n,10)) if n > 9 else n for n in first_step])\n",
    "        thired_step = sum([int(n) for n in card[-1::-2]])\n",
    "        result = (second_step+thired_step)%10\n",
    "        if result == 0:\n",
    "            return True\n",
    "        else:\n",
    "            return False\n",
    "    else:\n",
    "        return False"
   ]
  }
 ],
 "metadata": {
  "kernelspec": {
   "display_name": "Python 3 (ipykernel)",
   "language": "python",
   "name": "python3"
  },
  "language_info": {
   "codemirror_mode": {
    "name": "ipython",
    "version": 3
   },
   "file_extension": ".py",
   "mimetype": "text/x-python",
   "name": "python",
   "nbconvert_exporter": "python",
   "pygments_lexer": "ipython3",
   "version": "3.11.5"
  }
 },
 "nbformat": 4,
 "nbformat_minor": 5
}
