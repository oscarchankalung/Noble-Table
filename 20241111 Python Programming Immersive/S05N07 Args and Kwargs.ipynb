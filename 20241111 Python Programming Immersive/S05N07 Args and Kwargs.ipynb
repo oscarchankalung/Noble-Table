{
 "cells": [
  {
   "cell_type": "code",
   "execution_count": 31,
   "id": "2c5229bd-2538-45cc-953e-720194778bde",
   "metadata": {},
   "outputs": [],
   "source": [
    "def add(word, *args, **kwargs):\n",
    "    total = sum(args)\n",
    "    return word, list(kwargs.values()), total"
   ]
  },
  {
   "cell_type": "code",
   "execution_count": 33,
   "id": "e4ad003a-03a8-4d44-a0ac-a028b618b6d0",
   "metadata": {},
   "outputs": [
    {
     "data": {
      "text/plain": [
       "('Hello', ['World'], 15)"
      ]
     },
     "execution_count": 33,
     "metadata": {},
     "output_type": "execute_result"
    }
   ],
   "source": [
    "add(\"Hello\", 1, 2, 3, 4, 5, word2=\"World\")"
   ]
  },
  {
   "cell_type": "code",
   "execution_count": 35,
   "id": "22e893eb-91a5-4460-ba81-081c918a9d37",
   "metadata": {},
   "outputs": [],
   "source": [
    "def keyword_arguments(**kwargs):\n",
    "    print(kwargs)"
   ]
  },
  {
   "cell_type": "code",
   "execution_count": 37,
   "id": "4c1af182-ecd1-431f-8733-e61e72a7da13",
   "metadata": {},
   "outputs": [
    {
     "name": "stdout",
     "output_type": "stream",
     "text": [
      "{'word': 'Hello'}\n"
     ]
    }
   ],
   "source": [
    "keyword_arguments(word=\"Hello\")"
   ]
  }
 ],
 "metadata": {
  "kernelspec": {
   "display_name": "Python 3 (ipykernel)",
   "language": "python",
   "name": "python3"
  },
  "language_info": {
   "codemirror_mode": {
    "name": "ipython",
    "version": 3
   },
   "file_extension": ".py",
   "mimetype": "text/x-python",
   "name": "python",
   "nbconvert_exporter": "python",
   "pygments_lexer": "ipython3",
   "version": "3.11.5"
  }
 },
 "nbformat": 4,
 "nbformat_minor": 5
}
