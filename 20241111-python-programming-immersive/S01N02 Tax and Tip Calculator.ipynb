{
 "cells": [
  {
   "cell_type": "markdown",
   "id": "562545f6",
   "metadata": {},
   "source": [
    "check is $50\n",
    "tax rate is 8\n",
    "tip rate is 20"
   ]
  },
  {
   "cell_type": "code",
   "execution_count": null,
   "id": "ff358b5e",
   "metadata": {},
   "outputs": [],
   "source": [
    "# 1. Define vars\n",
    "# 2. Get tax $ amnt - check multiply by tax rate\n",
    "# 3. Get tip $ amnt - check multiply by tip rate\n",
    "# 4. Get total = add check to tax to tip"
   ]
  },
  {
   "cell_type": "code",
   "execution_count": 2,
   "id": "11e12874",
   "metadata": {},
   "outputs": [
    {
     "name": "stdout",
     "output_type": "stream",
     "text": [
      "Your total is 64.0\n"
     ]
    }
   ],
   "source": [
    "check = 50\n",
    "tax_rate = 0.08\n",
    "tip_rate = 0.2\n",
    "\n",
    "tax = check * tax_rate\n",
    "tip = check * tip_rate\n",
    "total = check + tax + tip\n",
    "print(\"Your total is\", total)"
   ]
  },
  {
   "cell_type": "code",
   "execution_count": 1,
   "id": "64251be9",
   "metadata": {},
   "outputs": [
    {
     "name": "stdout",
     "output_type": "stream",
     "text": [
      "50 <class 'str'>\n",
      "Your total is 64.0\n"
     ]
    }
   ],
   "source": [
    "# input() makes a cell session become [*]\n",
    "# kernel needs to be restarted to refresh the input\n",
    "\n",
    "# input() return variable as str\n",
    "# use float() to convert check into check_float\n",
    "\n",
    "check = input(\"How much is your meal?\")\n",
    "print(check, type(check))\n",
    "check_float = float(check)\n",
    "tax_rate = 0.08\n",
    "tip_rate = 0.2\n",
    "\n",
    "tax = check_float * tax_rate\n",
    "tip = check_float * tip_rate\n",
    "total = check_float + tax + tip\n",
    "print(\"Your total is\", total)"
   ]
  }
 ],
 "metadata": {
  "kernelspec": {
   "display_name": "Python 3",
   "language": "python",
   "name": "python3"
  },
  "language_info": {
   "codemirror_mode": {
    "name": "ipython",
    "version": 3
   },
   "file_extension": ".py",
   "mimetype": "text/x-python",
   "name": "python",
   "nbconvert_exporter": "python",
   "pygments_lexer": "ipython3",
   "version": "3.10.2"
  }
 },
 "nbformat": 4,
 "nbformat_minor": 5
}
