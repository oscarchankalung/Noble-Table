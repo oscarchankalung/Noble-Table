{
 "cells": [
  {
   "cell_type": "code",
   "execution_count": 9,
   "id": "0c13320c",
   "metadata": {},
   "outputs": [
    {
     "name": "stdout",
     "output_type": "stream",
     "text": [
      "Hello, my friend = John!\n",
      "Hello, my friend = Mary!\n",
      "Hello, my friend = Mark!\n"
     ]
    }
   ],
   "source": [
    "friends = [\"John\", \"Mary\", \"Mark\"]\n",
    "\n",
    "for friend in friends:\n",
    "    print(f\"Hello, my friend = {friend}!\")"
   ]
  },
  {
   "cell_type": "code",
   "execution_count": 22,
   "id": "a940fa5d",
   "metadata": {},
   "outputs": [
    {
     "name": "stdout",
     "output_type": "stream",
     "text": [
      "What else should I get? beer\n",
      "Don't forget to buy apples!\n",
      "Don't forget to buy bannas!\n",
      "Don't forget to buy mangos!\n",
      "How old are you? 1\n",
      "No beer today\n",
      "Thank you customer\n"
     ]
    }
   ],
   "source": [
    "# Answer\n",
    "\n",
    "shopping_list = [\"apples\", \"bannas\", \"mangos\"]\n",
    "\n",
    "items = input(\"What else should I get? \")\n",
    "items = items.split(\",\")\n",
    "shopping_list = shopping_list + items\n",
    "\n",
    "for item in shopping_list:\n",
    "    if item.lower() == \"beer\":\n",
    "        age = input(\"How old are you? \")\n",
    "        age = int(age)\n",
    "        \n",
    "        if age > 0 and age < 21:\n",
    "            print(\"No beer today\")\n",
    "            break\n",
    "    \n",
    "    print(f\"Don't forget to buy {item}!\")\n",
    "\n",
    "print(\"Thank you customer\")"
   ]
  },
  {
   "cell_type": "code",
   "execution_count": null,
   "id": "bb33e938",
   "metadata": {},
   "outputs": [],
   "source": []
  }
 ],
 "metadata": {
  "kernelspec": {
   "display_name": "Python 3 (ipykernel)",
   "language": "python",
   "name": "python3"
  },
  "language_info": {
   "codemirror_mode": {
    "name": "ipython",
    "version": 3
   },
   "file_extension": ".py",
   "mimetype": "text/x-python",
   "name": "python",
   "nbconvert_exporter": "python",
   "pygments_lexer": "ipython3",
   "version": "3.11.5"
  }
 },
 "nbformat": 4,
 "nbformat_minor": 5
}
