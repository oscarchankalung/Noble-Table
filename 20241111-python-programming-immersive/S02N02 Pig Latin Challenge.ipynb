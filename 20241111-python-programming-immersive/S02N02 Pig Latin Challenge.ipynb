{
 "cells": [
  {
   "cell_type": "markdown",
   "id": "99637b0a-ae36-46b7-8ffc-67f0c9baad33",
   "metadata": {},
   "source": [
    "```\n",
    "Pig Latin challenge:\n",
    "\n",
    "Pig Latin (also known as Dog Latin) is a language game in which words are altered according to certain rules. To make the pig latin form of an English word, the initial consonant sound is transposed to the end of the word, and an \"ay\" is affixed. Specifically, there are two rules:\n",
    "\n",
    "If a word begins with a vowel, append \"yay\" to the end of the word. If a word begins with a consonant, remove all the consonants from the beginning up to the first vowel and append them to the end of the word. Finally, append \"ay\" to the end of the word.\n",
    "\n",
    "For example:\n",
    "\n",
    "dog => ogday\n",
    "python => onpythay\n",
    "scratch => atchscray\n",
    "is => isyay\n",
    "apple => appleyay\n",
    "```"
   ]
  },
  {
   "cell_type": "code",
   "execution_count": 19,
   "id": "df51e802-6a84-4fec-bb8a-d1cbb634376e",
   "metadata": {},
   "outputs": [],
   "source": [
    "# case 1 - begins with a vowel, e.g. is, apple\n",
    "# case 2 - begins with a consonant, e.g. dog, python, scratch\n",
    "\n",
    "# 1. create helper function - is_vowel()\n",
    "# 2. determine case 1 or case 2 with is_vowel()\n",
    "# 3. case 1, append \"yay\" to the end of the word\n",
    "# 4. case 2, find the index of first vowel\n",
    "# 5. case 2, remove all the consonants from the beginning\n",
    "# 6. case 2, append them to the end of the word\n",
    "# 7. case 2, append \"ay\" to the end of the word\n",
    "\n",
    "# Answer\n",
    "\n",
    "# inputs = [\"dog\", \"python\", \"scratch\", \"is\", \"apple\", \"mmmsss\", \"i\", \"m\"]\n",
    "\n",
    "# def is_vowel(letter):\n",
    "#     vowels = (\"a\", \"e\", \"i\", \"o\", \"u\")\n",
    "#     return letter in vowels\n",
    "\n",
    "# def get_pig_latin(word):\n",
    "#     first_letter = word[0]\n",
    "\n",
    "#     if is_vowel(first_letter):\n",
    "#         append = \"yay\"\n",
    "#         word = word + \"yay\"\n",
    "\n",
    "#     else:\n",
    "#         vowel_index = len(word) + 1\n",
    "#         for i in range(len(word)):\n",
    "#             if is_vowel(word[i]):\n",
    "#                 vowel_index = i\n",
    "#                 break\n",
    "            \n",
    "#         first_half = word[0:i]\n",
    "#         second_half = word[i:]\n",
    "#         append = \"ay\"\n",
    "#         print(f\"vowel_index: {vowel_index}, first_half: {first_half}, second_half: {second_half}\")\n",
    "#         word = second_half + first_half + append\n",
    "\n",
    "#     return word\n",
    "\n",
    "# outputs = []\n",
    "\n",
    "# for input in inputs:\n",
    "#     outputs.append(get_pig_latin(input))\n",
    "\n",
    "# print(inputs)\n",
    "# print(outputs)"
   ]
  },
  {
   "cell_type": "code",
   "execution_count": 21,
   "id": "73ade0be-2f5a-4127-9abb-a7d80c0b9728",
   "metadata": {},
   "outputs": [],
   "source": [
    "# Solution"
   ]
  },
  {
   "cell_type": "code",
   "execution_count": 23,
   "id": "5225def1-3a4a-4663-a748-af079e849f64",
   "metadata": {},
   "outputs": [],
   "source": [
    "def is_vowel(letter):\n",
    "    vowels = (\"a\", \"e\", \"i\", \"o\", \"u\")\n",
    "    return letter in vowels"
   ]
  },
  {
   "cell_type": "code",
   "execution_count": 25,
   "id": "233905ee-4bd4-4a54-908f-4e8b28cee9b4",
   "metadata": {},
   "outputs": [],
   "source": [
    "def game(word):\n",
    "    \"\"\"\n",
    "    Return Pig Latin word\n",
    "    \"\"\"\n",
    "    if is_vowel(word[0]):\n",
    "        result = word + \"yay\"\n",
    "    else:\n",
    "        for index in range(len(word)):\n",
    "            if is_vowel(word[index]):\n",
    "                first_half = word[:index]\n",
    "                second_half = word[index:]\n",
    "                result = second_half + first_half + \"ay\"\n",
    "                break\n",
    "            else:\n",
    "                result = word + \"ay\"\n",
    "    return result"
   ]
  },
  {
   "cell_type": "code",
   "execution_count": 27,
   "id": "b71b93f0-1e5f-454b-af6f-f88fb6b1bc5e",
   "metadata": {},
   "outputs": [
    {
     "name": "stdout",
     "output_type": "stream",
     "text": [
      "Help on function game in module __main__:\n",
      "\n",
      "game(word)\n",
      "    Return Pig Latin word\n",
      "\n"
     ]
    },
    {
     "data": {
      "text/plain": [
       "'\\n    Return Pig Latin word\\n    '"
      ]
     },
     "execution_count": 27,
     "metadata": {},
     "output_type": "execute_result"
    }
   ],
   "source": [
    "help(game)\n",
    "game.__doc__"
   ]
  },
  {
   "cell_type": "code",
   "execution_count": 29,
   "id": "f49e3eb4-152e-416c-9212-f48979880807",
   "metadata": {},
   "outputs": [],
   "source": [
    "def main():\n",
    "    word = input(\"Give me a word \")\n",
    "    if word.isalpha() and len(word)>1:\n",
    "        result = game(word)\n",
    "    else:\n",
    "        result = \"Nota valid input\"\n",
    "    return result"
   ]
  },
  {
   "cell_type": "code",
   "execution_count": 31,
   "id": "1bbdd8dd-28bb-484e-8210-ce263cdcf7f6",
   "metadata": {},
   "outputs": [
    {
     "ename": "TypeError",
     "evalue": "'str' object is not callable",
     "output_type": "error",
     "traceback": [
      "\u001b[0;31m---------------------------------------------------------------------------\u001b[0m",
      "\u001b[0;31mTypeError\u001b[0m                                 Traceback (most recent call last)",
      "Cell \u001b[0;32mIn[31], line 1\u001b[0m\n\u001b[0;32m----> 1\u001b[0m main()\n",
      "Cell \u001b[0;32mIn[29], line 2\u001b[0m, in \u001b[0;36mmain\u001b[0;34m()\u001b[0m\n\u001b[1;32m      1\u001b[0m \u001b[38;5;28;01mdef\u001b[39;00m \u001b[38;5;21mmain\u001b[39m():\n\u001b[0;32m----> 2\u001b[0m     word \u001b[38;5;241m=\u001b[39m \u001b[38;5;28minput\u001b[39m(\u001b[38;5;124m\"\u001b[39m\u001b[38;5;124mGive me a word \u001b[39m\u001b[38;5;124m\"\u001b[39m)\n\u001b[1;32m      3\u001b[0m     \u001b[38;5;28;01mif\u001b[39;00m word\u001b[38;5;241m.\u001b[39misalpha() \u001b[38;5;129;01mand\u001b[39;00m \u001b[38;5;28mlen\u001b[39m(word)\u001b[38;5;241m>\u001b[39m\u001b[38;5;241m1\u001b[39m:\n\u001b[1;32m      4\u001b[0m         result \u001b[38;5;241m=\u001b[39m game(word)\n",
      "\u001b[0;31mTypeError\u001b[0m: 'str' object is not callable"
     ]
    }
   ],
   "source": [
    "main()"
   ]
  },
  {
   "cell_type": "code",
   "execution_count": null,
   "id": "41a4d545-91f3-4cbc-84ee-1efdcecaf21c",
   "metadata": {},
   "outputs": [],
   "source": []
  }
 ],
 "metadata": {
  "kernelspec": {
   "display_name": "Python 3 (ipykernel)",
   "language": "python",
   "name": "python3"
  },
  "language_info": {
   "codemirror_mode": {
    "name": "ipython",
    "version": 3
   },
   "file_extension": ".py",
   "mimetype": "text/x-python",
   "name": "python",
   "nbconvert_exporter": "python",
   "pygments_lexer": "ipython3",
   "version": "3.11.5"
  }
 },
 "nbformat": 4,
 "nbformat_minor": 5
}
