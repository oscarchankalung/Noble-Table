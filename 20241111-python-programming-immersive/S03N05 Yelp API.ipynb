{
 "cells": [
  {
   "cell_type": "code",
   "execution_count": 165,
   "id": "ccf069d7-19da-45d9-a779-c6311a80791d",
   "metadata": {},
   "outputs": [],
   "source": [
    "import requests\n",
    "import matplotlib.pyplot as plt\n",
    "import csv"
   ]
  },
  {
   "cell_type": "code",
   "execution_count": 28,
   "id": "db7c2453-8b8a-4740-89b2-5e93757e0bb5",
   "metadata": {},
   "outputs": [],
   "source": [
    "CLIENT_ID = \"pbsgH6VeG-y6wIH1g5pKCQ\"\n",
    "API_KEY = \"XvjYqbn8DC8HN_eYPfE_w9vI-YBeuYN80lDtUtM1pFWrD4Ty3tG4mAodP_qOB3Noc4heAO4t-QAD8tb6y8IPctgTV8C1QJuvn_QathZzFcsLDz2jB6Q7YGCtNxI1Z3Yx\""
   ]
  },
  {
   "cell_type": "code",
   "execution_count": 30,
   "id": "89b2f7e5-0dd8-4d5f-82be-bd31f5bb9639",
   "metadata": {},
   "outputs": [],
   "source": [
    "# https://docs.developer.yelp.com/reference/v3_business_search"
   ]
  },
  {
   "cell_type": "code",
   "execution_count": 44,
   "id": "0a78944b-ed2e-414d-aa7c-f285f38106a4",
   "metadata": {},
   "outputs": [],
   "source": [
    "url = \"https://api.yelp.com/v3/businesses/search\""
   ]
  },
  {
   "cell_type": "code",
   "execution_count": 46,
   "id": "e7e14928-f526-40d2-85cc-fabb0535b7a7",
   "metadata": {},
   "outputs": [],
   "source": [
    "headers = {\"Authorization\": f\"Bearer {API_KEY}\"}"
   ]
  },
  {
   "cell_type": "code",
   "execution_count": 48,
   "id": "9ff695f2-d975-4372-ac66-3bb623a0e98d",
   "metadata": {},
   "outputs": [],
   "source": [
    "params = {\"term\": \"restaurants\", \"location\": \"New York City\", \"limit\": 50}"
   ]
  },
  {
   "cell_type": "code",
   "execution_count": 50,
   "id": "fec43877-18b5-41d3-960c-54033c327a9e",
   "metadata": {},
   "outputs": [],
   "source": [
    "response = requests.get(url, headers=headers, params=params)"
   ]
  },
  {
   "cell_type": "code",
   "execution_count": 163,
   "id": "761a6252-82ff-4f5c-b6a4-3825e853a18f",
   "metadata": {},
   "outputs": [],
   "source": [
    "data = response.json()"
   ]
  },
  {
   "cell_type": "code",
   "execution_count": 56,
   "id": "7ad3c34f-5cc3-4943-855a-9b034e5a3a56",
   "metadata": {},
   "outputs": [],
   "source": [
    "# get restaurant name, rating and price"
   ]
  },
  {
   "cell_type": "code",
   "execution_count": 82,
   "id": "1c02b513-2b3e-449a-9e7c-0c9d53c61e7b",
   "metadata": {},
   "outputs": [
    {
     "data": {
      "text/plain": [
       "dict_keys(['businesses', 'total', 'region'])"
      ]
     },
     "execution_count": 82,
     "metadata": {},
     "output_type": "execute_result"
    }
   ],
   "source": [
    "data.keys()"
   ]
  },
  {
   "cell_type": "code",
   "execution_count": 84,
   "id": "dd168575-a5c7-4edb-ba1b-859fbe10ecee",
   "metadata": {},
   "outputs": [
    {
     "data": {
      "text/plain": [
       "dict_keys(['id', 'alias', 'name', 'image_url', 'is_closed', 'url', 'review_count', 'categories', 'rating', 'coordinates', 'transactions', 'price', 'location', 'phone', 'display_phone', 'distance', 'business_hours', 'attributes', '16ZnHpuaaBt92XWeJHCC5A'])"
      ]
     },
     "execution_count": 84,
     "metadata": {},
     "output_type": "execute_result"
    }
   ],
   "source": [
    "data[\"businesses\"][0].keys()"
   ]
  },
  {
   "cell_type": "code",
   "execution_count": 153,
   "id": "3f848b64-7b10-4a2c-86da-353679add636",
   "metadata": {},
   "outputs": [
    {
     "name": "stdout",
     "output_type": "stream",
     "text": [
      "N/A length: 0\n",
      "N/A length: 0\n",
      "N/A length: 0\n",
      "N/A length: 0\n",
      "N/A length: 0\n",
      "N/A length: 0\n",
      "N/A length: 0\n",
      "N/A length: 0\n",
      "N/A length: 0\n",
      "N/A length: 0\n",
      "N/A length: 0\n",
      "N/A length: 0\n",
      "N/A length: 0\n",
      "N/A length: 0\n",
      "N/A length: 0\n",
      "N/A length: 0\n",
      "N/A length: 0\n",
      "N/A length: 0\n",
      "N/A length: 0\n",
      "N/A length: 0\n",
      "N/A length: 0\n"
     ]
    },
    {
     "data": {
      "text/plain": [
       "[('Olio e Più', (4.5, '$$')),\n",
       " (\"Juliana's\", (4.4, '$$')),\n",
       " ('Soothr', (4.5, '$$')),\n",
       " ('LoveMama', (4.4, '$$')),\n",
       " ('Cafe Mogador', (4.4, '$$$')),\n",
       " ('Fishmarket Restaurant', (4.3, '$$')),\n",
       " ('Zou Zou’s', (4.2, '$$$')),\n",
       " ('Gurumé', (4.8, 'N/A')),\n",
       " ('Thursday Kitchen', (4.4, '$$')),\n",
       " ('Bar 56', (4.8, 'N/A'))]"
      ]
     },
     "execution_count": 153,
     "metadata": {},
     "output_type": "execute_result"
    }
   ],
   "source": [
    "restaurants = {}\n",
    "\n",
    "for business in data[\"businesses\"]:\n",
    "    name = business.get(\"name\")\n",
    "    rating = business.get(\"rating\")\n",
    "    price = business.get(\"price\", \"N/A\")\n",
    "    restaurants[name] = (rating, price)\n",
    "\n",
    "    try:\n",
    "        price_len = len(business[\"price\"])\n",
    "    except:\n",
    "        price_len = 0\n",
    "\n",
    "    if price_len == 0:\n",
    "        print(f\"{price} length: {price_len}\")\n",
    "    \n",
    "list(restaurants.items())[:10]"
   ]
  },
  {
   "cell_type": "code",
   "execution_count": 157,
   "id": "971f58be-2c9c-4775-9806-44697d50d8e4",
   "metadata": {},
   "outputs": [
    {
     "data": {
      "text/plain": [
       "[('Gair', (5.0, 'N/A')),\n",
       " ('Yakiniku Futago Soho', (5.0, 'N/A')),\n",
       " ('Gurumé', (4.8, 'N/A')),\n",
       " ('Bar 56', (4.8, 'N/A')),\n",
       " ('Alessa Cucina & Bar', (4.7, 'N/A')),\n",
       " ('Los Tacos No.1', (4.7, '$$')),\n",
       " ('Little Maven', (4.7, 'N/A')),\n",
       " ('Capoeira Restaurant', (4.7, 'N/A')),\n",
       " ('Antidote', (4.6, '$$')),\n",
       " ('Forma Pasta Factory', (4.6, '$$'))]"
      ]
     },
     "execution_count": 157,
     "metadata": {},
     "output_type": "execute_result"
    }
   ],
   "source": [
    "sorted_restaurants = list(restaurants.items())\n",
    "sorted_restaurants.sort(key = lambda t : t[1][0], reverse = True)\n",
    "sorted_restaurants[:10]"
   ]
  },
  {
   "cell_type": "code",
   "execution_count": 181,
   "id": "1f1a9a9f-a8b0-4c65-84cc-14c0651f6da0",
   "metadata": {},
   "outputs": [
    {
     "name": "stdout",
     "output_type": "stream",
     "text": [
      "['Gair', 5.0, 'N/A']\n",
      "['Yakiniku Futago Soho', 5.0, 'N/A']\n",
      "['Gurumé', 4.8, 'N/A']\n",
      "['Bar 56', 4.8, 'N/A']\n",
      "['Alessa Cucina & Bar', 4.7, 'N/A']\n",
      "['Los Tacos No.1', 4.7, '$$']\n",
      "['Little Maven', 4.7, 'N/A']\n",
      "['Capoeira Restaurant', 4.7, 'N/A']\n",
      "['Antidote', 4.6, '$$']\n",
      "['Forma Pasta Factory', 4.6, '$$']\n",
      "['Zhego NYC', 4.6, 'N/A']\n",
      "['Mikado', 4.6, 'N/A']\n",
      "['Olio e Più', 4.5, '$$']\n",
      "['Soothr', 4.5, '$$']\n",
      "['Don Angie', 4.5, '$$$']\n",
      "['Mama Lee - Williamsburg', 4.5, 'N/A']\n",
      "['Nubiani', 4.5, 'N/A']\n",
      "['The Little Pig', 4.5, 'N/A']\n",
      "[\"Bee's Knees & Honey Lounge\", 4.5, 'N/A']\n",
      "['Dutch Freds', 4.5, '$$']\n",
      "['Kimura', 4.5, '$$$']\n",
      "['Lula Mae', 4.5, 'N/A']\n",
      "[\"Juliana's\", 4.4, '$$']\n",
      "['LoveMama', 4.4, '$$']\n",
      "['Cafe Mogador', 4.4, '$$$']\n",
      "['Thursday Kitchen', 4.4, '$$']\n",
      "['ARIARI', 4.4, 'N/A']\n",
      "['Thai Villa', 4.4, '$$']\n",
      "['Very Fresh Noodles', 4.4, '$$']\n",
      "['Izakaya Fuku', 4.4, '$$']\n",
      "['Laser Wolf', 4.4, '$$$$']\n",
      "['The Mayfly', 4.4, 'N/A']\n",
      "['Al Badawi', 4.4, '$$']\n",
      "['Chama Mama - Brooklyn Heights', 4.4, 'N/A']\n",
      "[\"Jacob's Pickles Time Out Market\", 4.4, '$$']\n",
      "['Piccola Cucina Uptown', 4.4, '$$$']\n",
      "['Gramercy Tavern', 4.4, '$$$$']\n",
      "['Fishmarket Restaurant', 4.3, '$$']\n",
      "['Gulp', 4.3, 'N/A']\n",
      "['Hav & Mar', 4.3, '$$$']\n",
      "['Rice Thief', 4.3, 'N/A']\n",
      "['Popina', 4.3, '$$']\n",
      "['Zou Zou’s', 4.2, '$$$']\n",
      "['Alligator Pear', 4.2, 'N/A']\n",
      "['The Cabin NYC', 4.1, '$$']\n",
      "['Red Hook Tavern', 4.1, '$$$']\n",
      "['Hometown Bar-B-Que', 4.0, '$$']\n",
      "['Noodle Pudding', 4.0, '$$']\n",
      "[\"Joe's Shanghai\", 3.8, '$$']\n"
     ]
    }
   ],
   "source": [
    "with open (\"restaurants_sorted_by_rating.csv\", \"w\") as csvfile:\n",
    "    writer = csv.writer(csvfile)\n",
    "\n",
    "    for restaurant in sorted_restaurants:\n",
    "        name = restaurant[0]\n",
    "        rating = restaurant[1][0]\n",
    "        price = restaurant[1][1]\n",
    "        row = [name, rating, price]\n",
    "        print(row)\n",
    "        writer.writerow(row)"
   ]
  },
  {
   "cell_type": "code",
   "execution_count": null,
   "id": "b901a29b-f958-477b-b500-9ddcaed0e589",
   "metadata": {},
   "outputs": [],
   "source": []
  }
 ],
 "metadata": {
  "kernelspec": {
   "display_name": "Python 3 (ipykernel)",
   "language": "python",
   "name": "python3"
  },
  "language_info": {
   "codemirror_mode": {
    "name": "ipython",
    "version": 3
   },
   "file_extension": ".py",
   "mimetype": "text/x-python",
   "name": "python",
   "nbconvert_exporter": "python",
   "pygments_lexer": "ipython3",
   "version": "3.11.5"
  }
 },
 "nbformat": 4,
 "nbformat_minor": 5
}
