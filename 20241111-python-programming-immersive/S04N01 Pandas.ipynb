{
 "cells": [
  {
   "cell_type": "code",
   "execution_count": 1,
   "id": "312f4818-f4c3-4c29-9f86-5704f8eb99aa",
   "metadata": {},
   "outputs": [],
   "source": [
    "# Pandas\n",
    "# Numpy\n",
    "\n",
    "# library - collection of function\n",
    "# pandas - library for manipulation of data\n",
    "\n",
    "# programming is all about Data Type and Data Structure\n",
    "# List - to iterate or manipulate homogenous data\n",
    "# Tuple - to store data\n",
    "\n",
    "# Pandas Data Strcture - Series - 1 dimensional - homogenous\n",
    "# Pandas Data Strcture - DataFram - 2 dimensional - index + Series"
   ]
  },
  {
   "cell_type": "code",
   "execution_count": null,
   "id": "92e7b6d6-97e2-400b-bd7d-aa17400f3665",
   "metadata": {},
   "outputs": [],
   "source": [
    "# Summary\n",
    "\n",
    "# DataType: numpy.array, pd.Series, pd.DataFrame\n",
    "# Attribute: index, columns, values\n",
    "# Behavior: vectorized operation"
   ]
  },
  {
   "cell_type": "code",
   "execution_count": 2,
   "id": "cc9c405f-cf97-445a-886a-6825ebcc3211",
   "metadata": {},
   "outputs": [],
   "source": [
    "import pandas as pd"
   ]
  },
  {
   "cell_type": "code",
   "execution_count": 3,
   "id": "4541775e-c246-463c-bd61-0c48a8010048",
   "metadata": {},
   "outputs": [],
   "source": [
    "alist = [10,20,30,40,50]"
   ]
  },
  {
   "cell_type": "code",
   "execution_count": 4,
   "id": "ebc343d3-921f-4498-a2fd-d2f8275b7cfa",
   "metadata": {},
   "outputs": [],
   "source": [
    "for i in alist:\n",
    "    # list is heterogenous by nature\n",
    "    # list should be kept homogenous for efficiency\n",
    "    # list is a slow car from A to B, simple list\n",
    "    # list store things randomly\n",
    "    \n",
    "    # series is a fast racecar from A to B, vectorized list\n",
    "    # series store things in the same place\n",
    "    # series has index, i.e. primary key\n",
    "    # series has 2 major attributes: s.index and s.values\n",
    "\n",
    "    # dataframe has 3 major attributes: df.index, df.columns and df.values\n",
    "    \n",
    "    # should not use for loop in pandas, for loop is slow\n",
    "    type(i)"
   ]
  },
  {
   "cell_type": "code",
   "execution_count": 5,
   "id": "abe70530-7aff-4ff8-bcc0-53a6ce70f5d8",
   "metadata": {},
   "outputs": [
    {
     "ename": "TypeError",
     "evalue": "can only concatenate list (not \"int\") to list",
     "output_type": "error",
     "traceback": [
      "\u001b[0;31m---------------------------------------------------------------------------\u001b[0m",
      "\u001b[0;31mTypeError\u001b[0m                                 Traceback (most recent call last)",
      "Cell \u001b[0;32mIn[5], line 1\u001b[0m\n\u001b[0;32m----> 1\u001b[0m alist \u001b[38;5;241m+\u001b[39m \u001b[38;5;241m5\u001b[39m\n",
      "\u001b[0;31mTypeError\u001b[0m: can only concatenate list (not \"int\") to list"
     ]
    }
   ],
   "source": [
    "alist + 5"
   ]
  },
  {
   "cell_type": "code",
   "execution_count": 19,
   "id": "0d65f587-0bfe-4972-9395-c3790ad75986",
   "metadata": {},
   "outputs": [
    {
     "data": {
      "text/plain": [
       "[10, 20, 30, 40, 50, 10, 20, 30, 40, 50]"
      ]
     },
     "execution_count": 19,
     "metadata": {},
     "output_type": "execute_result"
    }
   ],
   "source": [
    "alist + alist"
   ]
  },
  {
   "cell_type": "code",
   "execution_count": 21,
   "id": "931854ed-1f3b-47ac-a4bb-9669663a1529",
   "metadata": {},
   "outputs": [
    {
     "data": {
      "text/plain": [
       "0    10\n",
       "1    20\n",
       "2    30\n",
       "3    40\n",
       "4    50\n",
       "dtype: int64"
      ]
     },
     "execution_count": 21,
     "metadata": {},
     "output_type": "execute_result"
    }
   ],
   "source": [
    "s = pd.Series(alist)\n",
    "s"
   ]
  },
  {
   "cell_type": "code",
   "execution_count": 23,
   "id": "a3b3d805-5d4b-4c84-b3e6-68cf1782ec30",
   "metadata": {},
   "outputs": [
    {
     "data": {
      "text/plain": [
       "0     20\n",
       "1     40\n",
       "2     60\n",
       "3     80\n",
       "4    100\n",
       "dtype: int64"
      ]
     },
     "execution_count": 23,
     "metadata": {},
     "output_type": "execute_result"
    }
   ],
   "source": [
    "s + s"
   ]
  },
  {
   "cell_type": "code",
   "execution_count": 25,
   "id": "ae26a41b-a10b-432a-b692-881b5c672617",
   "metadata": {},
   "outputs": [
    {
     "data": {
      "text/plain": [
       "RangeIndex(start=0, stop=5, step=1)"
      ]
     },
     "execution_count": 25,
     "metadata": {},
     "output_type": "execute_result"
    }
   ],
   "source": [
    "s.index"
   ]
  },
  {
   "cell_type": "code",
   "execution_count": 27,
   "id": "7812b7cd-c407-46b9-a494-f1b8903a8179",
   "metadata": {},
   "outputs": [
    {
     "data": {
      "text/plain": [
       "array([10, 20, 30, 40, 50])"
      ]
     },
     "execution_count": 27,
     "metadata": {},
     "output_type": "execute_result"
    }
   ],
   "source": [
    "s.values"
   ]
  },
  {
   "cell_type": "code",
   "execution_count": 29,
   "id": "2abf6544-f448-4c08-b4cf-1e3d2b3cc0f2",
   "metadata": {},
   "outputs": [
    {
     "data": {
      "text/html": [
       "<div>\n",
       "<style scoped>\n",
       "    .dataframe tbody tr th:only-of-type {\n",
       "        vertical-align: middle;\n",
       "    }\n",
       "\n",
       "    .dataframe tbody tr th {\n",
       "        vertical-align: top;\n",
       "    }\n",
       "\n",
       "    .dataframe thead th {\n",
       "        text-align: right;\n",
       "    }\n",
       "</style>\n",
       "<table border=\"1\" class=\"dataframe\">\n",
       "  <thead>\n",
       "    <tr style=\"text-align: right;\">\n",
       "      <th></th>\n",
       "      <th>Stock</th>\n",
       "      <th>Price</th>\n",
       "    </tr>\n",
       "  </thead>\n",
       "  <tbody>\n",
       "    <tr>\n",
       "      <th>0</th>\n",
       "      <td>MSFT</td>\n",
       "      <td>260.99</td>\n",
       "    </tr>\n",
       "    <tr>\n",
       "      <th>1</th>\n",
       "      <td>AAPL</td>\n",
       "      <td>220.75</td>\n",
       "    </tr>\n",
       "    <tr>\n",
       "      <th>2</th>\n",
       "      <td>IBM</td>\n",
       "      <td>115.99</td>\n",
       "    </tr>\n",
       "    <tr>\n",
       "      <th>3</th>\n",
       "      <td>ORCL</td>\n",
       "      <td>56.99</td>\n",
       "    </tr>\n",
       "  </tbody>\n",
       "</table>\n",
       "</div>"
      ],
      "text/plain": [
       "  Stock   Price\n",
       "0  MSFT  260.99\n",
       "1  AAPL  220.75\n",
       "2   IBM  115.99\n",
       "3  ORCL   56.99"
      ]
     },
     "execution_count": 29,
     "metadata": {},
     "output_type": "execute_result"
    }
   ],
   "source": [
    "df = pd.DataFrame()\n",
    "df[\"Stock\"] = [\"MSFT\", \"AAPL\", \"IBM\", \"ORCL\"]\n",
    "df[\"Price\"] = [260.99, 220.75, 115.99, 56.99]\n",
    "df"
   ]
  },
  {
   "cell_type": "code",
   "execution_count": 31,
   "id": "83f2f51f-45bc-482f-9ab4-621473fb1348",
   "metadata": {},
   "outputs": [],
   "source": [
    "# fast, gather data source, and manipulate, \n",
    "# 3 attributes, index, columns, values (doesn't need invoke)\n",
    "# N methods (need invoke)\n",
    "# attributes vs methods"
   ]
  },
  {
   "cell_type": "code",
   "execution_count": 33,
   "id": "2f2af567-491d-49af-9447-938c2b732e32",
   "metadata": {},
   "outputs": [
    {
     "data": {
      "text/plain": [
       "RangeIndex(start=0, stop=4, step=1)"
      ]
     },
     "execution_count": 33,
     "metadata": {},
     "output_type": "execute_result"
    }
   ],
   "source": [
    "df.index"
   ]
  },
  {
   "cell_type": "code",
   "execution_count": 35,
   "id": "85bc5180-1df8-4bcd-88a8-ce3a35c3e831",
   "metadata": {},
   "outputs": [
    {
     "data": {
      "text/plain": [
       "Index(['Stock', 'Price'], dtype='object')"
      ]
     },
     "execution_count": 35,
     "metadata": {},
     "output_type": "execute_result"
    }
   ],
   "source": [
    "df.columns"
   ]
  },
  {
   "cell_type": "code",
   "execution_count": 37,
   "id": "2dc71dab-f43d-4e36-a510-90e60995976b",
   "metadata": {},
   "outputs": [
    {
     "data": {
      "text/plain": [
       "array([['MSFT', 260.99],\n",
       "       ['AAPL', 220.75],\n",
       "       ['IBM', 115.99],\n",
       "       ['ORCL', 56.99]], dtype=object)"
      ]
     },
     "execution_count": 37,
     "metadata": {},
     "output_type": "execute_result"
    }
   ],
   "source": [
    "df.values"
   ]
  },
  {
   "cell_type": "code",
   "execution_count": 39,
   "id": "67c049b3-695b-4fca-978b-4f7b95872f8c",
   "metadata": {},
   "outputs": [
    {
     "data": {
      "text/html": [
       "<div>\n",
       "<style scoped>\n",
       "    .dataframe tbody tr th:only-of-type {\n",
       "        vertical-align: middle;\n",
       "    }\n",
       "\n",
       "    .dataframe tbody tr th {\n",
       "        vertical-align: top;\n",
       "    }\n",
       "\n",
       "    .dataframe thead th {\n",
       "        text-align: right;\n",
       "    }\n",
       "</style>\n",
       "<table border=\"1\" class=\"dataframe\">\n",
       "  <thead>\n",
       "    <tr style=\"text-align: right;\">\n",
       "      <th></th>\n",
       "      <th>Stock</th>\n",
       "      <th>Price</th>\n",
       "      <th>Shares</th>\n",
       "    </tr>\n",
       "  </thead>\n",
       "  <tbody>\n",
       "    <tr>\n",
       "      <th>0</th>\n",
       "      <td>MSFT</td>\n",
       "      <td>260.99</td>\n",
       "      <td>0</td>\n",
       "    </tr>\n",
       "    <tr>\n",
       "      <th>1</th>\n",
       "      <td>AAPL</td>\n",
       "      <td>220.75</td>\n",
       "      <td>0</td>\n",
       "    </tr>\n",
       "    <tr>\n",
       "      <th>2</th>\n",
       "      <td>IBM</td>\n",
       "      <td>115.99</td>\n",
       "      <td>0</td>\n",
       "    </tr>\n",
       "    <tr>\n",
       "      <th>3</th>\n",
       "      <td>ORCL</td>\n",
       "      <td>56.99</td>\n",
       "      <td>0</td>\n",
       "    </tr>\n",
       "  </tbody>\n",
       "</table>\n",
       "</div>"
      ],
      "text/plain": [
       "  Stock   Price  Shares\n",
       "0  MSFT  260.99       0\n",
       "1  AAPL  220.75       0\n",
       "2   IBM  115.99       0\n",
       "3  ORCL   56.99       0"
      ]
     },
     "execution_count": 39,
     "metadata": {},
     "output_type": "execute_result"
    }
   ],
   "source": [
    "# create empty column\n",
    "\n",
    "df[\"Shares\"] = 0\n",
    "df"
   ]
  },
  {
   "cell_type": "code",
   "execution_count": 41,
   "id": "3b21af31-7c47-43a2-94bc-790b9e8cbbcf",
   "metadata": {},
   "outputs": [
    {
     "data": {
      "text/html": [
       "<div>\n",
       "<style scoped>\n",
       "    .dataframe tbody tr th:only-of-type {\n",
       "        vertical-align: middle;\n",
       "    }\n",
       "\n",
       "    .dataframe tbody tr th {\n",
       "        vertical-align: top;\n",
       "    }\n",
       "\n",
       "    .dataframe thead th {\n",
       "        text-align: right;\n",
       "    }\n",
       "</style>\n",
       "<table border=\"1\" class=\"dataframe\">\n",
       "  <thead>\n",
       "    <tr style=\"text-align: right;\">\n",
       "      <th></th>\n",
       "      <th>Stock</th>\n",
       "      <th>Price</th>\n",
       "      <th>Shares</th>\n",
       "    </tr>\n",
       "  </thead>\n",
       "  <tbody>\n",
       "    <tr>\n",
       "      <th>0</th>\n",
       "      <td>MSFT</td>\n",
       "      <td>260.99</td>\n",
       "      <td>100</td>\n",
       "    </tr>\n",
       "    <tr>\n",
       "      <th>1</th>\n",
       "      <td>AAPL</td>\n",
       "      <td>220.75</td>\n",
       "      <td>200</td>\n",
       "    </tr>\n",
       "    <tr>\n",
       "      <th>2</th>\n",
       "      <td>IBM</td>\n",
       "      <td>115.99</td>\n",
       "      <td>300</td>\n",
       "    </tr>\n",
       "    <tr>\n",
       "      <th>3</th>\n",
       "      <td>ORCL</td>\n",
       "      <td>56.99</td>\n",
       "      <td>400</td>\n",
       "    </tr>\n",
       "  </tbody>\n",
       "</table>\n",
       "</div>"
      ],
      "text/plain": [
       "  Stock   Price  Shares\n",
       "0  MSFT  260.99     100\n",
       "1  AAPL  220.75     200\n",
       "2   IBM  115.99     300\n",
       "3  ORCL   56.99     400"
      ]
     },
     "execution_count": 41,
     "metadata": {},
     "output_type": "execute_result"
    }
   ],
   "source": [
    "# create new column\n",
    "\n",
    "df[\"Shares\"] = [100, 200, 300, 400]\n",
    "df"
   ]
  },
  {
   "cell_type": "code",
   "execution_count": 43,
   "id": "7f656038-ff4d-4e5c-a24f-148483a7549e",
   "metadata": {},
   "outputs": [
    {
     "data": {
      "text/html": [
       "<div>\n",
       "<style scoped>\n",
       "    .dataframe tbody tr th:only-of-type {\n",
       "        vertical-align: middle;\n",
       "    }\n",
       "\n",
       "    .dataframe tbody tr th {\n",
       "        vertical-align: top;\n",
       "    }\n",
       "\n",
       "    .dataframe thead th {\n",
       "        text-align: right;\n",
       "    }\n",
       "</style>\n",
       "<table border=\"1\" class=\"dataframe\">\n",
       "  <thead>\n",
       "    <tr style=\"text-align: right;\">\n",
       "      <th></th>\n",
       "      <th>Stock</th>\n",
       "      <th>Price</th>\n",
       "      <th>Shares</th>\n",
       "      <th>Amnt</th>\n",
       "    </tr>\n",
       "  </thead>\n",
       "  <tbody>\n",
       "    <tr>\n",
       "      <th>0</th>\n",
       "      <td>MSFT</td>\n",
       "      <td>260.99</td>\n",
       "      <td>100</td>\n",
       "      <td>26099.0</td>\n",
       "    </tr>\n",
       "    <tr>\n",
       "      <th>1</th>\n",
       "      <td>AAPL</td>\n",
       "      <td>220.75</td>\n",
       "      <td>200</td>\n",
       "      <td>44150.0</td>\n",
       "    </tr>\n",
       "    <tr>\n",
       "      <th>2</th>\n",
       "      <td>IBM</td>\n",
       "      <td>115.99</td>\n",
       "      <td>300</td>\n",
       "      <td>34797.0</td>\n",
       "    </tr>\n",
       "    <tr>\n",
       "      <th>3</th>\n",
       "      <td>ORCL</td>\n",
       "      <td>56.99</td>\n",
       "      <td>400</td>\n",
       "      <td>22796.0</td>\n",
       "    </tr>\n",
       "  </tbody>\n",
       "</table>\n",
       "</div>"
      ],
      "text/plain": [
       "  Stock   Price  Shares     Amnt\n",
       "0  MSFT  260.99     100  26099.0\n",
       "1  AAPL  220.75     200  44150.0\n",
       "2   IBM  115.99     300  34797.0\n",
       "3  ORCL   56.99     400  22796.0"
      ]
     },
     "execution_count": 43,
     "metadata": {},
     "output_type": "execute_result"
    }
   ],
   "source": [
    "# 1 dismoen df is series\n",
    "\n",
    "df[\"Amnt\"] = df[\"Price\"] * df[\"Shares\"]\n",
    "df"
   ]
  },
  {
   "cell_type": "code",
   "execution_count": 45,
   "id": "629e036a-7cfa-40c2-ab6d-ae087df757de",
   "metadata": {},
   "outputs": [
    {
     "data": {
      "text/html": [
       "<div>\n",
       "<style scoped>\n",
       "    .dataframe tbody tr th:only-of-type {\n",
       "        vertical-align: middle;\n",
       "    }\n",
       "\n",
       "    .dataframe tbody tr th {\n",
       "        vertical-align: top;\n",
       "    }\n",
       "\n",
       "    .dataframe thead th {\n",
       "        text-align: right;\n",
       "    }\n",
       "</style>\n",
       "<table border=\"1\" class=\"dataframe\">\n",
       "  <thead>\n",
       "    <tr style=\"text-align: right;\">\n",
       "      <th></th>\n",
       "      <th>Stock</th>\n",
       "      <th>Price</th>\n",
       "      <th>Shares</th>\n",
       "      <th>Amnt</th>\n",
       "    </tr>\n",
       "    <tr>\n",
       "      <th>Stock</th>\n",
       "      <th></th>\n",
       "      <th></th>\n",
       "      <th></th>\n",
       "      <th></th>\n",
       "    </tr>\n",
       "  </thead>\n",
       "  <tbody>\n",
       "    <tr>\n",
       "      <th>MSFT</th>\n",
       "      <td>MSFT</td>\n",
       "      <td>260.99</td>\n",
       "      <td>100</td>\n",
       "      <td>26099.0</td>\n",
       "    </tr>\n",
       "    <tr>\n",
       "      <th>AAPL</th>\n",
       "      <td>AAPL</td>\n",
       "      <td>220.75</td>\n",
       "      <td>200</td>\n",
       "      <td>44150.0</td>\n",
       "    </tr>\n",
       "    <tr>\n",
       "      <th>IBM</th>\n",
       "      <td>IBM</td>\n",
       "      <td>115.99</td>\n",
       "      <td>300</td>\n",
       "      <td>34797.0</td>\n",
       "    </tr>\n",
       "    <tr>\n",
       "      <th>ORCL</th>\n",
       "      <td>ORCL</td>\n",
       "      <td>56.99</td>\n",
       "      <td>400</td>\n",
       "      <td>22796.0</td>\n",
       "    </tr>\n",
       "  </tbody>\n",
       "</table>\n",
       "</div>"
      ],
      "text/plain": [
       "      Stock   Price  Shares     Amnt\n",
       "Stock                               \n",
       "MSFT   MSFT  260.99     100  26099.0\n",
       "AAPL   AAPL  220.75     200  44150.0\n",
       "IBM     IBM  115.99     300  34797.0\n",
       "ORCL   ORCL   56.99     400  22796.0"
      ]
     },
     "execution_count": 45,
     "metadata": {},
     "output_type": "execute_result"
    }
   ],
   "source": [
    "# assign column as index\n",
    "\n",
    "df.index = df[\"Stock\"]\n",
    "df"
   ]
  },
  {
   "cell_type": "code",
   "execution_count": 49,
   "id": "7338b8a4-56db-433a-819d-28afc12a4b83",
   "metadata": {},
   "outputs": [],
   "source": [
    "# common parameters of Python function\n",
    "# axis : {0 or 'index', 1 or 'columns'}, default 0\n",
    "# inpalce : bool, default False\n",
    "\n",
    "# row: axis = 0 or \"index\"\n",
    "# col: axis = 1 or \"columns\"\n",
    "\n",
    "# help(df.drop)"
   ]
  },
  {
   "cell_type": "code",
   "execution_count": 51,
   "id": "9c2dade6-b367-4a18-a40b-3e530944195e",
   "metadata": {},
   "outputs": [
    {
     "data": {
      "text/html": [
       "<div>\n",
       "<style scoped>\n",
       "    .dataframe tbody tr th:only-of-type {\n",
       "        vertical-align: middle;\n",
       "    }\n",
       "\n",
       "    .dataframe tbody tr th {\n",
       "        vertical-align: top;\n",
       "    }\n",
       "\n",
       "    .dataframe thead th {\n",
       "        text-align: right;\n",
       "    }\n",
       "</style>\n",
       "<table border=\"1\" class=\"dataframe\">\n",
       "  <thead>\n",
       "    <tr style=\"text-align: right;\">\n",
       "      <th></th>\n",
       "      <th>Stock</th>\n",
       "      <th>Price</th>\n",
       "      <th>Shares</th>\n",
       "      <th>Amnt</th>\n",
       "    </tr>\n",
       "    <tr>\n",
       "      <th>Stock</th>\n",
       "      <th></th>\n",
       "      <th></th>\n",
       "      <th></th>\n",
       "      <th></th>\n",
       "    </tr>\n",
       "  </thead>\n",
       "  <tbody>\n",
       "    <tr>\n",
       "      <th>MSFT</th>\n",
       "      <td>MSFT</td>\n",
       "      <td>260.99</td>\n",
       "      <td>100</td>\n",
       "      <td>26099.0</td>\n",
       "    </tr>\n",
       "    <tr>\n",
       "      <th>AAPL</th>\n",
       "      <td>AAPL</td>\n",
       "      <td>220.75</td>\n",
       "      <td>200</td>\n",
       "      <td>44150.0</td>\n",
       "    </tr>\n",
       "    <tr>\n",
       "      <th>IBM</th>\n",
       "      <td>IBM</td>\n",
       "      <td>115.99</td>\n",
       "      <td>300</td>\n",
       "      <td>34797.0</td>\n",
       "    </tr>\n",
       "    <tr>\n",
       "      <th>ORCL</th>\n",
       "      <td>ORCL</td>\n",
       "      <td>56.99</td>\n",
       "      <td>400</td>\n",
       "      <td>22796.0</td>\n",
       "    </tr>\n",
       "  </tbody>\n",
       "</table>\n",
       "</div>"
      ],
      "text/plain": [
       "      Stock   Price  Shares     Amnt\n",
       "Stock                               \n",
       "MSFT   MSFT  260.99     100  26099.0\n",
       "AAPL   AAPL  220.75     200  44150.0\n",
       "IBM     IBM  115.99     300  34797.0\n",
       "ORCL   ORCL   56.99     400  22796.0"
      ]
     },
     "execution_count": 51,
     "metadata": {},
     "output_type": "execute_result"
    }
   ],
   "source": [
    "df.drop(\"Stock\", axis=1, inplace=False)\n",
    "df"
   ]
  },
  {
   "cell_type": "code",
   "execution_count": 53,
   "id": "6f193a98-b201-42c1-abec-059ed78b796b",
   "metadata": {},
   "outputs": [
    {
     "data": {
      "text/html": [
       "<div>\n",
       "<style scoped>\n",
       "    .dataframe tbody tr th:only-of-type {\n",
       "        vertical-align: middle;\n",
       "    }\n",
       "\n",
       "    .dataframe tbody tr th {\n",
       "        vertical-align: top;\n",
       "    }\n",
       "\n",
       "    .dataframe thead th {\n",
       "        text-align: right;\n",
       "    }\n",
       "</style>\n",
       "<table border=\"1\" class=\"dataframe\">\n",
       "  <thead>\n",
       "    <tr style=\"text-align: right;\">\n",
       "      <th></th>\n",
       "      <th>Price</th>\n",
       "      <th>Shares</th>\n",
       "      <th>Amnt</th>\n",
       "    </tr>\n",
       "    <tr>\n",
       "      <th>Stock</th>\n",
       "      <th></th>\n",
       "      <th></th>\n",
       "      <th></th>\n",
       "    </tr>\n",
       "  </thead>\n",
       "  <tbody>\n",
       "    <tr>\n",
       "      <th>MSFT</th>\n",
       "      <td>260.99</td>\n",
       "      <td>100</td>\n",
       "      <td>26099.0</td>\n",
       "    </tr>\n",
       "    <tr>\n",
       "      <th>AAPL</th>\n",
       "      <td>220.75</td>\n",
       "      <td>200</td>\n",
       "      <td>44150.0</td>\n",
       "    </tr>\n",
       "    <tr>\n",
       "      <th>IBM</th>\n",
       "      <td>115.99</td>\n",
       "      <td>300</td>\n",
       "      <td>34797.0</td>\n",
       "    </tr>\n",
       "    <tr>\n",
       "      <th>ORCL</th>\n",
       "      <td>56.99</td>\n",
       "      <td>400</td>\n",
       "      <td>22796.0</td>\n",
       "    </tr>\n",
       "  </tbody>\n",
       "</table>\n",
       "</div>"
      ],
      "text/plain": [
       "        Price  Shares     Amnt\n",
       "Stock                         \n",
       "MSFT   260.99     100  26099.0\n",
       "AAPL   220.75     200  44150.0\n",
       "IBM    115.99     300  34797.0\n",
       "ORCL    56.99     400  22796.0"
      ]
     },
     "execution_count": 53,
     "metadata": {},
     "output_type": "execute_result"
    }
   ],
   "source": [
    "df.drop(\"Stock\", axis=1, inplace=True)\n",
    "df"
   ]
  },
  {
   "cell_type": "code",
   "execution_count": 55,
   "id": "3fbbba8d-e36a-4187-9013-8547ba1134df",
   "metadata": {},
   "outputs": [
    {
     "data": {
      "text/html": [
       "<div>\n",
       "<style scoped>\n",
       "    .dataframe tbody tr th:only-of-type {\n",
       "        vertical-align: middle;\n",
       "    }\n",
       "\n",
       "    .dataframe tbody tr th {\n",
       "        vertical-align: top;\n",
       "    }\n",
       "\n",
       "    .dataframe thead th {\n",
       "        text-align: right;\n",
       "    }\n",
       "</style>\n",
       "<table border=\"1\" class=\"dataframe\">\n",
       "  <thead>\n",
       "    <tr style=\"text-align: right;\">\n",
       "      <th></th>\n",
       "      <th>Shares</th>\n",
       "      <th>Amnt</th>\n",
       "    </tr>\n",
       "    <tr>\n",
       "      <th>Stock</th>\n",
       "      <th></th>\n",
       "      <th></th>\n",
       "    </tr>\n",
       "  </thead>\n",
       "  <tbody>\n",
       "    <tr>\n",
       "      <th>AAPL</th>\n",
       "      <td>200</td>\n",
       "      <td>44150.0</td>\n",
       "    </tr>\n",
       "    <tr>\n",
       "      <th>IBM</th>\n",
       "      <td>300</td>\n",
       "      <td>34797.0</td>\n",
       "    </tr>\n",
       "  </tbody>\n",
       "</table>\n",
       "</div>"
      ],
      "text/plain": [
       "       Shares     Amnt\n",
       "Stock                 \n",
       "AAPL      200  44150.0\n",
       "IBM       300  34797.0"
      ]
     },
     "execution_count": 55,
     "metadata": {},
     "output_type": "execute_result"
    }
   ],
   "source": [
    "# location by label\n",
    "# splicing [start:stop, start:stop]\n",
    "# stop is inclusive\n",
    "\n",
    "df.loc[\"AAPL\":\"IBM\", \"Shares\":\"Amnt\"]"
   ]
  },
  {
   "cell_type": "code",
   "execution_count": 71,
   "id": "93127dc8-90bf-4bc6-a62f-7e2d762641b1",
   "metadata": {},
   "outputs": [
    {
     "name": "stdout",
     "output_type": "stream",
     "text": [
      "Help on _iLocIndexer in module pandas.core.indexing object:\n",
      "\n",
      "class _iLocIndexer(_LocationIndexer)\n",
      " |  Purely integer-location based indexing for selection by position.\n",
      " |  \n",
      " |  ``.iloc[]`` is primarily integer position based (from ``0`` to\n",
      " |  ``length-1`` of the axis), but may also be used with a boolean\n",
      " |  array.\n",
      " |  \n",
      " |  Allowed inputs are:\n",
      " |  \n",
      " |  - An integer, e.g. ``5``.\n",
      " |  - A list or array of integers, e.g. ``[4, 3, 0]``.\n",
      " |  - A slice object with ints, e.g. ``1:7``.\n",
      " |  - A boolean array.\n",
      " |  - A ``callable`` function with one argument (the calling Series or\n",
      " |    DataFrame) and that returns valid output for indexing (one of the above).\n",
      " |    This is useful in method chains, when you don't have a reference to the\n",
      " |    calling object, but would like to base your selection on some value.\n",
      " |  - A tuple of row and column indexes. The tuple elements consist of one of the\n",
      " |    above inputs, e.g. ``(0, 1)``.\n",
      " |  \n",
      " |  ``.iloc`` will raise ``IndexError`` if a requested indexer is\n",
      " |  out-of-bounds, except *slice* indexers which allow out-of-bounds\n",
      " |  indexing (this conforms with python/numpy *slice* semantics).\n",
      " |  \n",
      " |  See more at :ref:`Selection by Position <indexing.integer>`.\n",
      " |  \n",
      " |  See Also\n",
      " |  --------\n",
      " |  DataFrame.iat : Fast integer location scalar accessor.\n",
      " |  DataFrame.loc : Purely label-location based indexer for selection by label.\n",
      " |  Series.iloc : Purely integer-location based indexing for\n",
      " |                 selection by position.\n",
      " |  \n",
      " |  Examples\n",
      " |  --------\n",
      " |  >>> mydict = [{'a': 1, 'b': 2, 'c': 3, 'd': 4},\n",
      " |  ...           {'a': 100, 'b': 200, 'c': 300, 'd': 400},\n",
      " |  ...           {'a': 1000, 'b': 2000, 'c': 3000, 'd': 4000 }]\n",
      " |  >>> df = pd.DataFrame(mydict)\n",
      " |  >>> df\n",
      " |        a     b     c     d\n",
      " |  0     1     2     3     4\n",
      " |  1   100   200   300   400\n",
      " |  2  1000  2000  3000  4000\n",
      " |  \n",
      " |  **Indexing just the rows**\n",
      " |  \n",
      " |  With a scalar integer.\n",
      " |  \n",
      " |  >>> type(df.iloc[0])\n",
      " |  <class 'pandas.core.series.Series'>\n",
      " |  >>> df.iloc[0]\n",
      " |  a    1\n",
      " |  b    2\n",
      " |  c    3\n",
      " |  d    4\n",
      " |  Name: 0, dtype: int64\n",
      " |  \n",
      " |  With a list of integers.\n",
      " |  \n",
      " |  >>> df.iloc[[0]]\n",
      " |     a  b  c  d\n",
      " |  0  1  2  3  4\n",
      " |  >>> type(df.iloc[[0]])\n",
      " |  <class 'pandas.core.frame.DataFrame'>\n",
      " |  \n",
      " |  >>> df.iloc[[0, 1]]\n",
      " |       a    b    c    d\n",
      " |  0    1    2    3    4\n",
      " |  1  100  200  300  400\n",
      " |  \n",
      " |  With a `slice` object.\n",
      " |  \n",
      " |  >>> df.iloc[:3]\n",
      " |        a     b     c     d\n",
      " |  0     1     2     3     4\n",
      " |  1   100   200   300   400\n",
      " |  2  1000  2000  3000  4000\n",
      " |  \n",
      " |  With a boolean mask the same length as the index.\n",
      " |  \n",
      " |  >>> df.iloc[[True, False, True]]\n",
      " |        a     b     c     d\n",
      " |  0     1     2     3     4\n",
      " |  2  1000  2000  3000  4000\n",
      " |  \n",
      " |  With a callable, useful in method chains. The `x` passed\n",
      " |  to the ``lambda`` is the DataFrame being sliced. This selects\n",
      " |  the rows whose index label even.\n",
      " |  \n",
      " |  >>> df.iloc[lambda x: x.index % 2 == 0]\n",
      " |        a     b     c     d\n",
      " |  0     1     2     3     4\n",
      " |  2  1000  2000  3000  4000\n",
      " |  \n",
      " |  **Indexing both axes**\n",
      " |  \n",
      " |  You can mix the indexer types for the index and columns. Use ``:`` to\n",
      " |  select the entire axis.\n",
      " |  \n",
      " |  With scalar integers.\n",
      " |  \n",
      " |  >>> df.iloc[0, 1]\n",
      " |  2\n",
      " |  \n",
      " |  With lists of integers.\n",
      " |  \n",
      " |  >>> df.iloc[[0, 2], [1, 3]]\n",
      " |        b     d\n",
      " |  0     2     4\n",
      " |  2  2000  4000\n",
      " |  \n",
      " |  With `slice` objects.\n",
      " |  \n",
      " |  >>> df.iloc[1:3, 0:3]\n",
      " |        a     b     c\n",
      " |  1   100   200   300\n",
      " |  2  1000  2000  3000\n",
      " |  \n",
      " |  With a boolean array whose length matches the columns.\n",
      " |  \n",
      " |  >>> df.iloc[:, [True, False, True, False]]\n",
      " |        a     c\n",
      " |  0     1     3\n",
      " |  1   100   300\n",
      " |  2  1000  3000\n",
      " |  \n",
      " |  With a callable function that expects the Series or DataFrame.\n",
      " |  \n",
      " |  >>> df.iloc[:, lambda df: [0, 2]]\n",
      " |        a     c\n",
      " |  0     1     3\n",
      " |  1   100   300\n",
      " |  2  1000  3000\n",
      " |  \n",
      " |  Method resolution order:\n",
      " |      _iLocIndexer\n",
      " |      _LocationIndexer\n",
      " |      pandas._libs.indexing.NDFrameIndexerBase\n",
      " |      builtins.object\n",
      " |  \n",
      " |  Data and other attributes defined here:\n",
      " |  \n",
      " |  __annotations__ = {}\n",
      " |  \n",
      " |  ----------------------------------------------------------------------\n",
      " |  Methods inherited from _LocationIndexer:\n",
      " |  \n",
      " |  __call__(self: '_LocationIndexerT', axis: 'Axis | None' = None) -> '_LocationIndexerT'\n",
      " |      Call self as a function.\n",
      " |  \n",
      " |  __getitem__(self, key)\n",
      " |  \n",
      " |  __setitem__(self, key, value) -> 'None'\n",
      " |  \n",
      " |  ----------------------------------------------------------------------\n",
      " |  Data descriptors inherited from _LocationIndexer:\n",
      " |  \n",
      " |  __dict__\n",
      " |      dictionary for instance variables (if defined)\n",
      " |  \n",
      " |  __weakref__\n",
      " |      list of weak references to the object (if defined)\n",
      " |  \n",
      " |  ----------------------------------------------------------------------\n",
      " |  Data and other attributes inherited from _LocationIndexer:\n",
      " |  \n",
      " |  axis = None\n",
      " |  \n",
      " |  ----------------------------------------------------------------------\n",
      " |  Methods inherited from pandas._libs.indexing.NDFrameIndexerBase:\n",
      " |  \n",
      " |  __init__(self, /, *args, **kwargs)\n",
      " |      Initialize self.  See help(type(self)) for accurate signature.\n",
      " |  \n",
      " |  __reduce__ = __reduce_cython__(...)\n",
      " |  \n",
      " |  __setstate__ = __setstate_cython__(...)\n",
      " |  \n",
      " |  ----------------------------------------------------------------------\n",
      " |  Static methods inherited from pandas._libs.indexing.NDFrameIndexerBase:\n",
      " |  \n",
      " |  __new__(*args, **kwargs) from builtins.type\n",
      " |      Create and return a new object.  See help(type) for accurate signature.\n",
      " |  \n",
      " |  ----------------------------------------------------------------------\n",
      " |  Data descriptors inherited from pandas._libs.indexing.NDFrameIndexerBase:\n",
      " |  \n",
      " |  name\n",
      " |  \n",
      " |  ndim\n",
      " |  \n",
      " |  obj\n",
      "\n"
     ]
    }
   ],
   "source": [
    "help(df.iloc)"
   ]
  },
  {
   "cell_type": "code",
   "execution_count": null,
   "id": "c4888561-4fd2-4692-8d77-b112af6a45e9",
   "metadata": {},
   "outputs": [],
   "source": []
  },
  {
   "cell_type": "code",
   "execution_count": 57,
   "id": "a8b05ea8-9d2b-489e-b8e7-9d744cfae6a0",
   "metadata": {},
   "outputs": [
    {
     "data": {
      "text/html": [
       "<div>\n",
       "<style scoped>\n",
       "    .dataframe tbody tr th:only-of-type {\n",
       "        vertical-align: middle;\n",
       "    }\n",
       "\n",
       "    .dataframe tbody tr th {\n",
       "        vertical-align: top;\n",
       "    }\n",
       "\n",
       "    .dataframe thead th {\n",
       "        text-align: right;\n",
       "    }\n",
       "</style>\n",
       "<table border=\"1\" class=\"dataframe\">\n",
       "  <thead>\n",
       "    <tr style=\"text-align: right;\">\n",
       "      <th></th>\n",
       "      <th>Shares</th>\n",
       "      <th>Amnt</th>\n",
       "    </tr>\n",
       "    <tr>\n",
       "      <th>Stock</th>\n",
       "      <th></th>\n",
       "      <th></th>\n",
       "    </tr>\n",
       "  </thead>\n",
       "  <tbody>\n",
       "    <tr>\n",
       "      <th>AAPL</th>\n",
       "      <td>200</td>\n",
       "      <td>44150.0</td>\n",
       "    </tr>\n",
       "    <tr>\n",
       "      <th>IBM</th>\n",
       "      <td>300</td>\n",
       "      <td>34797.0</td>\n",
       "    </tr>\n",
       "  </tbody>\n",
       "</table>\n",
       "</div>"
      ],
      "text/plain": [
       "       Shares     Amnt\n",
       "Stock                 \n",
       "AAPL      200  44150.0\n",
       "IBM       300  34797.0"
      ]
     },
     "execution_count": 57,
     "metadata": {},
     "output_type": "execute_result"
    }
   ],
   "source": [
    "# slicing, location by index\n",
    "# [row: {start:stop}, col: {start:stop}]\n",
    "\n",
    "df.iloc[1:3, 1:3]"
   ]
  },
  {
   "cell_type": "code",
   "execution_count": null,
   "id": "3c462519-d59e-420a-b523-211455cbb0be",
   "metadata": {},
   "outputs": [],
   "source": [
    "df[[\"Price\", \"Amnt\"]].loc[\"AAPL\":\"IBM\"]"
   ]
  },
  {
   "cell_type": "code",
   "execution_count": null,
   "id": "4a66deb2-281a-4b84-8f59-ba24ddf57406",
   "metadata": {},
   "outputs": [],
   "source": [
    "df.loc[\"AAPL\":\"IBM\"][[\"Price\", \"Amnt\"]]"
   ]
  },
  {
   "cell_type": "code",
   "execution_count": null,
   "id": "d01262d4-41e3-415b-81ef-0dcd72729056",
   "metadata": {},
   "outputs": [],
   "source": [
    "df.reset_index(inplace=True)\n",
    "df"
   ]
  },
  {
   "cell_type": "code",
   "execution_count": null,
   "id": "af37c1e1-6ece-4e3f-aed2-0008967187d2",
   "metadata": {},
   "outputs": [],
   "source": [
    "condition_aapl = df[\"Stock\"] == \"AAPL\"\n",
    "df[condition_aapl][\"Price\"].squeeze()"
   ]
  },
  {
   "cell_type": "code",
   "execution_count": null,
   "id": "d69ca74a-43a2-4eef-a7c8-f3f8b6a2085a",
   "metadata": {},
   "outputs": [],
   "source": [
    "df[condition_aapl][\"Price\"].iloc[0]"
   ]
  },
  {
   "cell_type": "code",
   "execution_count": null,
   "id": "cc62cc8c-9ef5-4838-90b1-5eb00bc7f9c4",
   "metadata": {},
   "outputs": [],
   "source": [
    "df[df[\"Price\"] < 100][[\"Stock\", \"Price\"]]"
   ]
  },
  {
   "cell_type": "code",
   "execution_count": null,
   "id": "146ea763-ee42-4394-ba46-2c4d6aa80e1b",
   "metadata": {},
   "outputs": [],
   "source": [
    "max_amnt = df[\"Amnt\"].max()\n",
    "condition_max_amnt = df[\"Amnt\"] == max_amnt\n",
    "df[condition_max_amnt]"
   ]
  }
 ],
 "metadata": {
  "kernelspec": {
   "display_name": "Python 3 (ipykernel)",
   "language": "python",
   "name": "python3"
  },
  "language_info": {
   "codemirror_mode": {
    "name": "ipython",
    "version": 3
   },
   "file_extension": ".py",
   "mimetype": "text/x-python",
   "name": "python",
   "nbconvert_exporter": "python",
   "pygments_lexer": "ipython3",
   "version": "3.11.5"
  }
 },
 "nbformat": 4,
 "nbformat_minor": 5
}
