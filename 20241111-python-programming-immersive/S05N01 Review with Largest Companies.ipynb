{
 "cells": [
  {
   "cell_type": "code",
   "execution_count": 1,
   "id": "0a277c60-1cf2-4f9f-90d4-f0faf537d6d2",
   "metadata": {},
   "outputs": [],
   "source": [
    "import pandas as pd\n",
    "import matplotlib.pyplot as plt"
   ]
  },
  {
   "cell_type": "code",
   "execution_count": 2,
   "id": "1169e969-6c3e-40bc-8b7d-24646890c6ff",
   "metadata": {},
   "outputs": [
    {
     "data": {
      "text/html": [
       "<div>\n",
       "<style scoped>\n",
       "    .dataframe tbody tr th:only-of-type {\n",
       "        vertical-align: middle;\n",
       "    }\n",
       "\n",
       "    .dataframe tbody tr th {\n",
       "        vertical-align: top;\n",
       "    }\n",
       "\n",
       "    .dataframe thead th {\n",
       "        text-align: right;\n",
       "    }\n",
       "</style>\n",
       "<table border=\"1\" class=\"dataframe\">\n",
       "  <thead>\n",
       "    <tr style=\"text-align: right;\">\n",
       "      <th></th>\n",
       "      <th>Rank</th>\n",
       "      <th>Name</th>\n",
       "      <th>Symbol</th>\n",
       "      <th>marketcap</th>\n",
       "      <th>price (USD)</th>\n",
       "      <th>country</th>\n",
       "    </tr>\n",
       "  </thead>\n",
       "  <tbody>\n",
       "    <tr>\n",
       "      <th>0</th>\n",
       "      <td>1</td>\n",
       "      <td>Apple</td>\n",
       "      <td>AAPL</td>\n",
       "      <td>2801388224512</td>\n",
       "      <td>171.66</td>\n",
       "      <td>United States</td>\n",
       "    </tr>\n",
       "    <tr>\n",
       "      <th>1</th>\n",
       "      <td>2</td>\n",
       "      <td>Microsoft</td>\n",
       "      <td>MSFT</td>\n",
       "      <td>2256182968320</td>\n",
       "      <td>300.95</td>\n",
       "      <td>United States</td>\n",
       "    </tr>\n",
       "    <tr>\n",
       "      <th>2</th>\n",
       "      <td>3</td>\n",
       "      <td>Saudi Aramco</td>\n",
       "      <td>2222.SR</td>\n",
       "      <td>1973864961187</td>\n",
       "      <td>9.88</td>\n",
       "      <td>Saudi Arabia</td>\n",
       "    </tr>\n",
       "    <tr>\n",
       "      <th>3</th>\n",
       "      <td>4</td>\n",
       "      <td>Alphabet (Google)</td>\n",
       "      <td>GOOG</td>\n",
       "      <td>1838538817536</td>\n",
       "      <td>2778.76</td>\n",
       "      <td>United States</td>\n",
       "    </tr>\n",
       "    <tr>\n",
       "      <th>4</th>\n",
       "      <td>5</td>\n",
       "      <td>Amazon</td>\n",
       "      <td>AMZN</td>\n",
       "      <td>1607290585088</td>\n",
       "      <td>3158.71</td>\n",
       "      <td>United States</td>\n",
       "    </tr>\n",
       "  </tbody>\n",
       "</table>\n",
       "</div>"
      ],
      "text/plain": [
       "   Rank               Name   Symbol      marketcap  price (USD)        country\n",
       "0     1              Apple     AAPL  2801388224512       171.66  United States\n",
       "1     2          Microsoft     MSFT  2256182968320       300.95  United States\n",
       "2     3       Saudi Aramco  2222.SR  1973864961187         9.88   Saudi Arabia\n",
       "3     4  Alphabet (Google)     GOOG  1838538817536      2778.76  United States\n",
       "4     5             Amazon     AMZN  1607290585088      3158.71  United States"
      ]
     },
     "execution_count": 2,
     "metadata": {},
     "output_type": "execute_result"
    }
   ],
   "source": [
    "df = pd.read_csv(r\"largest_companies.csv\", encoding='utf8')\n",
    "df.head()"
   ]
  },
  {
   "cell_type": "code",
   "execution_count": 3,
   "id": "437f9f30-81de-4269-a023-fdff7def9b42",
   "metadata": {},
   "outputs": [],
   "source": [
    "# How many countries are in this list?\n",
    "# How many companies located in United Kingdom?"
   ]
  },
  {
   "cell_type": "code",
   "execution_count": 4,
   "id": "55ae59b7-9f21-4ff7-b7dc-030fd9586906",
   "metadata": {},
   "outputs": [
    {
     "data": {
      "text/plain": [
       "68"
      ]
     },
     "execution_count": 4,
     "metadata": {},
     "output_type": "execute_result"
    }
   ],
   "source": [
    "# answer\n",
    "\n",
    "df.value_counts(\"country\").count()"
   ]
  },
  {
   "cell_type": "code",
   "execution_count": 5,
   "id": "73ecbbe1-472b-49dc-9f3f-4e10f15b04f9",
   "metadata": {},
   "outputs": [
    {
     "data": {
      "text/plain": [
       "68"
      ]
     },
     "execution_count": 5,
     "metadata": {},
     "output_type": "execute_result"
    }
   ],
   "source": [
    "# solution\n",
    "\n",
    "df[\"country\"].nunique()"
   ]
  },
  {
   "cell_type": "code",
   "execution_count": 6,
   "id": "5a562e0a-26e3-483d-b9ba-a24cc0a927a5",
   "metadata": {},
   "outputs": [
    {
     "data": {
      "text/plain": [
       "108"
      ]
     },
     "execution_count": 6,
     "metadata": {},
     "output_type": "execute_result"
    }
   ],
   "source": [
    "# answer \n",
    "\n",
    "counties = df.value_counts(\"country\")\n",
    "counties[\"United Kingdom\"]"
   ]
  },
  {
   "cell_type": "code",
   "execution_count": 7,
   "id": "1999d0b2-f5a2-40d1-ac8e-95f1e12969de",
   "metadata": {},
   "outputs": [
    {
     "data": {
      "text/plain": [
       "108"
      ]
     },
     "execution_count": 7,
     "metadata": {},
     "output_type": "execute_result"
    }
   ],
   "source": [
    "# solution 1 - groupby\n",
    "\n",
    "df.groupby(\"country\")[\"Name\"].count()[\"United Kingdom\"]"
   ]
  },
  {
   "cell_type": "code",
   "execution_count": 8,
   "id": "499c5f60-bc35-46f6-8c08-e4a4a9c6a2d9",
   "metadata": {},
   "outputs": [
    {
     "data": {
      "text/plain": [
       "108"
      ]
     },
     "execution_count": 8,
     "metadata": {},
     "output_type": "execute_result"
    }
   ],
   "source": [
    "# solution 2 - conditional statement\n",
    "\n",
    "df[df[\"country\"]==\"United Kingdom\"].count().iloc[0]"
   ]
  },
  {
   "cell_type": "code",
   "execution_count": 9,
   "id": "61f13bf4-a763-43e7-8fd4-ec358476813c",
   "metadata": {},
   "outputs": [
    {
     "data": {
      "text/plain": [
       "108"
      ]
     },
     "execution_count": 9,
     "metadata": {},
     "output_type": "execute_result"
    }
   ],
   "source": [
    "# query with @\n",
    "\n",
    "c = \"United Kingdom\"\n",
    "df.query (\"country in @c\"). count().iloc[0]"
   ]
  },
  {
   "cell_type": "code",
   "execution_count": 10,
   "id": "da77bfaa-64d1-446a-b5f1-ebd89337ecab",
   "metadata": {},
   "outputs": [
    {
     "data": {
      "text/plain": [
       "108"
      ]
     },
     "execution_count": 10,
     "metadata": {},
     "output_type": "execute_result"
    }
   ],
   "source": [
    "# query with ''\n",
    "\n",
    "df.query(\"country in 'United Kingdom'\").count().iloc[0]"
   ]
  },
  {
   "cell_type": "code",
   "execution_count": 11,
   "id": "b8bd905c-67b1-41cc-92e7-36b830b007e7",
   "metadata": {},
   "outputs": [
    {
     "data": {
      "text/plain": [
       "332"
      ]
     },
     "execution_count": 11,
     "metadata": {},
     "output_type": "execute_result"
    }
   ],
   "source": [
    "# query with list\n",
    "\n",
    "countries_list = [\"United Kingdom\", \"Japan\"]\n",
    "df.query(\"country in @countries_list\").count().iloc[0]"
   ]
  },
  {
   "cell_type": "code",
   "execution_count": 12,
   "id": "92e6eacd-26dc-4cf2-af54-68b53fd4db01",
   "metadata": {},
   "outputs": [],
   "source": [
    "# What is the market cap of all companies in UK"
   ]
  },
  {
   "cell_type": "code",
   "execution_count": 13,
   "id": "217e7a7a-cac8-46e2-a07d-671512cf2431",
   "metadata": {},
   "outputs": [],
   "source": [
    "df[\"marketcap\"] = df[\"marketcap\"]/1000000000000\n",
    "df[\"marketcap\"] = df[\"marketcap\"].round(2)"
   ]
  },
  {
   "cell_type": "code",
   "execution_count": 14,
   "id": "0aeac68e-35a4-4dae-b206-6d0e9fa9e2a5",
   "metadata": {},
   "outputs": [
    {
     "data": {
      "text/plain": [
       "2.5100000000000002"
      ]
     },
     "execution_count": 14,
     "metadata": {},
     "output_type": "execute_result"
    }
   ],
   "source": [
    "# answer 1 - conditional statement\n",
    "\n",
    "df[df[\"country\"]==\"United Kingdom\"][\"marketcap\"].sum()"
   ]
  },
  {
   "cell_type": "code",
   "execution_count": 16,
   "id": "68f9ba0b-5094-4540-a599-dcbd71c3ef9c",
   "metadata": {},
   "outputs": [
    {
     "data": {
      "text/plain": [
       "2.51"
      ]
     },
     "execution_count": 16,
     "metadata": {},
     "output_type": "execute_result"
    }
   ],
   "source": [
    "# answer 2 - groupby\n",
    "\n",
    "marketcap_by_country = df.groupby(\"country\")[\"marketcap\"].sum()\n",
    "marketcap_by_country[\"United Kingdom\"]"
   ]
  },
  {
   "cell_type": "code",
   "execution_count": 17,
   "id": "cb9741ed-45c2-460f-8456-d4c05d0552d7",
   "metadata": {},
   "outputs": [],
   "source": [
    "# Which company has Symbol NSRGY, get the Company name and Country of origin and price."
   ]
  },
  {
   "cell_type": "code",
   "execution_count": 18,
   "id": "7573ac54-1e86-4427-896d-d2e4f215ad4f",
   "metadata": {},
   "outputs": [
    {
     "data": {
      "text/html": [
       "<div>\n",
       "<style scoped>\n",
       "    .dataframe tbody tr th:only-of-type {\n",
       "        vertical-align: middle;\n",
       "    }\n",
       "\n",
       "    .dataframe tbody tr th {\n",
       "        vertical-align: top;\n",
       "    }\n",
       "\n",
       "    .dataframe thead th {\n",
       "        text-align: right;\n",
       "    }\n",
       "</style>\n",
       "<table border=\"1\" class=\"dataframe\">\n",
       "  <thead>\n",
       "    <tr style=\"text-align: right;\">\n",
       "      <th></th>\n",
       "      <th>Name</th>\n",
       "      <th>country</th>\n",
       "      <th>price (USD)</th>\n",
       "    </tr>\n",
       "  </thead>\n",
       "  <tbody>\n",
       "    <tr>\n",
       "      <th>23</th>\n",
       "      <td>Nestlé</td>\n",
       "      <td>Switzerland</td>\n",
       "      <td>128.77</td>\n",
       "    </tr>\n",
       "  </tbody>\n",
       "</table>\n",
       "</div>"
      ],
      "text/plain": [
       "      Name      country  price (USD)\n",
       "23  Nestlé  Switzerland       128.77"
      ]
     },
     "execution_count": 18,
     "metadata": {},
     "output_type": "execute_result"
    }
   ],
   "source": [
    "# answer 1 - conditional statement\n",
    "\n",
    "df[df[\"Symbol\"] == \"NSRGY\"][[\"Name\", \"country\", \"price (USD)\"]]"
   ]
  },
  {
   "cell_type": "code",
   "execution_count": 46,
   "id": "45ed22fc-755a-4903-a51e-dd41298c11d5",
   "metadata": {},
   "outputs": [
    {
     "data": {
      "text/html": [
       "<div>\n",
       "<style scoped>\n",
       "    .dataframe tbody tr th:only-of-type {\n",
       "        vertical-align: middle;\n",
       "    }\n",
       "\n",
       "    .dataframe tbody tr th {\n",
       "        vertical-align: top;\n",
       "    }\n",
       "\n",
       "    .dataframe thead th {\n",
       "        text-align: right;\n",
       "    }\n",
       "</style>\n",
       "<table border=\"1\" class=\"dataframe\">\n",
       "  <thead>\n",
       "    <tr style=\"text-align: right;\">\n",
       "      <th></th>\n",
       "      <th>Rank</th>\n",
       "      <th>Name</th>\n",
       "      <th>Symbol</th>\n",
       "      <th>marketcap</th>\n",
       "      <th>price (USD)</th>\n",
       "      <th>country</th>\n",
       "    </tr>\n",
       "  </thead>\n",
       "  <tbody>\n",
       "    <tr>\n",
       "      <th>23</th>\n",
       "      <td>24</td>\n",
       "      <td>Nestlé</td>\n",
       "      <td>NSRGY</td>\n",
       "      <td>0.36</td>\n",
       "      <td>128.77</td>\n",
       "      <td>Switzerland</td>\n",
       "    </tr>\n",
       "  </tbody>\n",
       "</table>\n",
       "</div>"
      ],
      "text/plain": [
       "    Rank    Name Symbol  marketcap  price (USD)      country\n",
       "23    24  Nestlé  NSRGY       0.36       128.77  Switzerland"
      ]
     },
     "execution_count": 46,
     "metadata": {},
     "output_type": "execute_result"
    }
   ],
   "source": [
    "# answer 2 - query\n",
    "\n",
    "s = \"NSRGY\"\n",
    "df.query(\"Symbol == @s\")"
   ]
  },
  {
   "cell_type": "code",
   "execution_count": 60,
   "id": "5ad25b3b-5fdb-4d85-ba87-cc693e072e3c",
   "metadata": {},
   "outputs": [],
   "source": [
    "# How many companies have stock price less than $100"
   ]
  },
  {
   "cell_type": "code",
   "execution_count": 58,
   "id": "e5894ce1-fa33-4ab6-afcd-3552c6f62d8e",
   "metadata": {},
   "outputs": [
    {
     "data": {
      "text/plain": [
       "5130"
      ]
     },
     "execution_count": 58,
     "metadata": {},
     "output_type": "execute_result"
    }
   ],
   "source": [
    "# answer 1 - conditional statement\n",
    "\n",
    "df[df[\"price (USD)\"] < 100].count().iloc[0]"
   ]
  },
  {
   "cell_type": "code",
   "execution_count": 78,
   "id": "5ce5a18f-c003-438a-ac6e-9972bfecf55c",
   "metadata": {},
   "outputs": [
    {
     "data": {
      "text/plain": [
       "5130"
      ]
     },
     "execution_count": 78,
     "metadata": {},
     "output_type": "execute_result"
    }
   ],
   "source": [
    "# answer 2 - query\n",
    "\n",
    "df.query(\"`price (USD)` < 100\").count().iloc[0]"
   ]
  },
  {
   "cell_type": "code",
   "execution_count": 112,
   "id": "3b70e61d-a9a1-432f-bed9-fd758f6275fd",
   "metadata": {},
   "outputs": [],
   "source": [
    "# Plot top 5 countries by market cap as a pie chart"
   ]
  },
  {
   "cell_type": "code",
   "execution_count": 136,
   "id": "bbf75fd7-afe5-49e8-9c57-db8aa8be4ee7",
   "metadata": {},
   "outputs": [
    {
     "data": {
      "text/plain": [
       "country\n",
       "United States    46.13\n",
       "China             7.14\n",
       "Japan             4.36\n",
       "France            2.85\n",
       "India             2.79\n",
       "Name: marketcap, dtype: float64"
      ]
     },
     "execution_count": 136,
     "metadata": {},
     "output_type": "execute_result"
    }
   ],
   "source": [
    "# answer with series\n",
    "\n",
    "top_5 = df.groupby(\"country\")[\"marketcap\"].sum().nlargest(5)\n",
    "top_5"
   ]
  },
  {
   "cell_type": "code",
   "execution_count": 138,
   "id": "f6058541-eeb5-4687-a3eb-77c3a864512d",
   "metadata": {},
   "outputs": [
    {
     "data": {
      "image/png": "[encoded data removed]",
      "text/plain": [
       "<Figure size 640x480 with 1 Axes>"
      ]
     },
     "metadata": {},
     "output_type": "display_data"
    }
   ],
   "source": [
    "plt.pie(x = top_5.values, labels = top_5.index, autopct = \"%1.1f%%\")\n",
    "plt.title(\"Top 5 Countries by Market Cap\")\n",
    "plt.show()"
   ]
  },
  {
   "cell_type": "code",
   "execution_count": 140,
   "id": "d7d370a0-ed59-490b-a306-4e994aa71ab6",
   "metadata": {},
   "outputs": [
    {
     "data": {
      "text/html": [
       "<div>\n",
       "<style scoped>\n",
       "    .dataframe tbody tr th:only-of-type {\n",
       "        vertical-align: middle;\n",
       "    }\n",
       "\n",
       "    .dataframe tbody tr th {\n",
       "        vertical-align: top;\n",
       "    }\n",
       "\n",
       "    .dataframe thead th {\n",
       "        text-align: right;\n",
       "    }\n",
       "</style>\n",
       "<table border=\"1\" class=\"dataframe\">\n",
       "  <thead>\n",
       "    <tr style=\"text-align: right;\">\n",
       "      <th></th>\n",
       "      <th>country</th>\n",
       "      <th>marketcap</th>\n",
       "    </tr>\n",
       "  </thead>\n",
       "  <tbody>\n",
       "    <tr>\n",
       "      <th>0</th>\n",
       "      <td>United States</td>\n",
       "      <td>46.13</td>\n",
       "    </tr>\n",
       "    <tr>\n",
       "      <th>1</th>\n",
       "      <td>China</td>\n",
       "      <td>7.14</td>\n",
       "    </tr>\n",
       "    <tr>\n",
       "      <th>2</th>\n",
       "      <td>Japan</td>\n",
       "      <td>4.36</td>\n",
       "    </tr>\n",
       "    <tr>\n",
       "      <th>3</th>\n",
       "      <td>France</td>\n",
       "      <td>2.85</td>\n",
       "    </tr>\n",
       "    <tr>\n",
       "      <th>4</th>\n",
       "      <td>India</td>\n",
       "      <td>2.79</td>\n",
       "    </tr>\n",
       "  </tbody>\n",
       "</table>\n",
       "</div>"
      ],
      "text/plain": [
       "         country  marketcap\n",
       "0  United States      46.13\n",
       "1          China       7.14\n",
       "2          Japan       4.36\n",
       "3         France       2.85\n",
       "4          India       2.79"
      ]
     },
     "execution_count": 140,
     "metadata": {},
     "output_type": "execute_result"
    }
   ],
   "source": [
    "# solution with dataframe\n",
    "\n",
    "top_5 = df.groupby(\"country\")[[\"marketcap\"]].sum().nlargest(5, \"marketcap\")\n",
    "top_5.reset_index(inplace=True)\n",
    "top_5"
   ]
  },
  {
   "cell_type": "code",
   "execution_count": 142,
   "id": "f45e6249-c165-4c99-bbcc-dd82f09af9a9",
   "metadata": {},
   "outputs": [
    {
     "data": {
      "image/png": "[encoded data removed]",
      "text/plain": [
       "<Figure size 640x480 with 1 Axes>"
      ]
     },
     "metadata": {},
     "output_type": "display_data"
    }
   ],
   "source": [
    "plt.pie(x = top_5[\"marketcap\"], labels = top_5[\"country\"], autopct = \"%1.1f%%\")\n",
    "plt.title(\"Top 5 Countries by Market Cap\")\n",
    "plt.show()"
   ]
  }
 ],
 "metadata": {
  "kernelspec": {
   "display_name": "Python 3 (ipykernel)",
   "language": "python",
   "name": "python3"
  },
  "language_info": {
   "codemirror_mode": {
    "name": "ipython",
    "version": 3
   },
   "file_extension": ".py",
   "mimetype": "text/x-python",
   "name": "python",
   "nbconvert_exporter": "python",
   "pygments_lexer": "ipython3",
   "version": "3.11.5"
  }
 },
 "nbformat": 4,
 "nbformat_minor": 5
}
