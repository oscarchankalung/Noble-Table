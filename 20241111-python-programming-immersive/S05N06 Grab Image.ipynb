{
 "cells": [
  {
   "cell_type": "code",
   "execution_count": 5,
   "id": "68d126cb-9740-4d0c-8db8-cb6e5e7607ad",
   "metadata": {},
   "outputs": [],
   "source": [
    "import requests\n",
    "import os\n",
    "from bs4 import BeautifulSoup"
   ]
  },
  {
   "cell_type": "code",
   "execution_count": 35,
   "id": "6ff0d8b1-9296-4ee1-af57-d42d62c0ee17",
   "metadata": {},
   "outputs": [],
   "source": [
    "url = \"https://photos.classiccars.com/cc-temp/listing/189/6221/49227201-1962-nash-metropolitan-thumb.jpg\""
   ]
  },
  {
   "cell_type": "code",
   "execution_count": 45,
   "id": "8699d537-e68b-4294-b91e-2446a1e98e93",
   "metadata": {},
   "outputs": [],
   "source": [
    "def fetch_image(url, title, folder_name):\n",
    "    extension = os.path.splitext(url)[-1]\n",
    "    file_name = f\"{title}{extension}\"\n",
    "    file_path = os.path.join(folder_name, file_name)\n",
    "\n",
    "    headers = {'User-Agent': 'Mozilla/5.0 (Macintosh; Intel Mac OS X 10_10_1) AppleWebKit/537.36 (KHTML, like Gecko) Chrome/39.0.2171.95 Safari/537.36'}\n",
    "    response = requests.get(url, headers=headers)\n",
    "    \n",
    "    with open(file_path, \"wb\") as image_file:\n",
    "        image_file.write(response.content)\n",
    "    return True, file_name "
   ]
  },
  {
   "cell_type": "code",
   "execution_count": 47,
   "id": "af7e598e-5b4f-4b9e-8f3f-caa67898abae",
   "metadata": {},
   "outputs": [
    {
     "data": {
      "text/plain": [
       "(True, 'title.jpg')"
      ]
     },
     "execution_count": 47,
     "metadata": {},
     "output_type": "execute_result"
    }
   ],
   "source": [
    "fetch_image(url, \"title\", \"car_images\")"
   ]
  }
 ],
 "metadata": {
  "kernelspec": {
   "display_name": "Python 3 (ipykernel)",
   "language": "python",
   "name": "python3"
  },
  "language_info": {
   "codemirror_mode": {
    "name": "ipython",
    "version": 3
   },
   "file_extension": ".py",
   "mimetype": "text/x-python",
   "name": "python",
   "nbconvert_exporter": "python",
   "pygments_lexer": "ipython3",
   "version": "3.11.5"
  }
 },
 "nbformat": 4,
 "nbformat_minor": 5
}
