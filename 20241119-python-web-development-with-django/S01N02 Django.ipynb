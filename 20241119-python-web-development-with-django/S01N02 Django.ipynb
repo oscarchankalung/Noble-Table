{
 "cells": [
  {
   "cell_type": "code",
   "execution_count": null,
   "id": "39d6099e-0eea-453f-87cf-6329eea22534",
   "metadata": {},
   "outputs": [],
   "source": [
    "# module\n",
    "# third-party-solution\n",
    "\n",
    "# versatile, highly customizable, \n",
    "# comprehensive: got everything you need for a web app\n",
    "# low maintenance: one guy build a pro-like web app\n",
    "# compatiable with React and Angular\n",
    "# used to power Instagram and other larger product\n",
    "\n",
    "# build projects\n",
    "\n",
    "# Model View Controller model\n",
    "# client: web browser or API request\n",
    "# app: url dispatcher invokes some function to do something, e.g. yelp.com/new-york/restaurant\n",
    "# database: store information\n",
    "\n",
    "# app fetches data from database (model)\n",
    "# app (controller) manipulates the data into view\n",
    "# app sends HTML or JSON (view) to client\n",
    "\n",
    "# environment or package with bunch of library"
   ]
  },
  {
   "cell_type": "code",
   "execution_count": null,
   "id": "dd901d5b-9941-4554-b62e-6fbe6f11088d",
   "metadata": {},
   "outputs": [],
   "source": [
    "# terminal, bash, CMD (command prompt)\n",
    "\n",
    "# > mkdir\n",
    "# > virtualenv venv\n",
    "# > source venv/bin/activate\n",
    "# > pip install django\n",
    "# > pip install pillow (for python images)\n",
    "# > pip freeze (list all library installed in the activated virtual env)\n",
    "# > pip freeze > requirements.txt\n",
    "# > django-admin\n",
    "# > django-admin startproject\n",
    "\n",
    "\n",
    "# step\n",
    "# install virtual environment once per new project\n",
    "# close the door to the framework, django\n",
    "# activate virtualenv\n",
    "# have same version of library when git or sharing e.g. 5.1.3\n",
    "# download Python extensions on virutal studio code\n",
    "# django-admin is modular, many apps under one project\n",
    "# myfirstproject/myfirstproject > core > settings\n",
    "\n",
    "# new computer, new virutal environment"
   ]
  },
  {
   "cell_type": "code",
   "execution_count": null,
   "id": "9c52c99e-b861-4fbe-ab2d-a3bb1f33e82b",
   "metadata": {},
   "outputs": [],
   "source": [
    "# __init__.py in the core is usually empty\n",
    "# create module with __init__\n",
    "# parse different parts of url \n",
    "# request from asgi.py or wsgi.py are redirected to urls.py\n",
    "# asgi and wsgi are entry points"
   ]
  },
  {
   "cell_type": "code",
   "execution_count": null,
   "id": "8d917107-5a42-4ac9-9de4-51ccf97765d4",
   "metadata": {},
   "outputs": [],
   "source": [
    "# settings.py\n",
    "\n",
    "# SECRET_KEY is stored at global environment\n",
    "# DEBUG should be changed to False in production\n",
    "# ALLOWED_HOSTS lists domain name or ip address\n",
    "# INSTALLED_APPS manages \n",
    "# MIDDLEWARE manages requests\n",
    "# TEMPLATES is html page\n",
    "# TEMPLATES[0][\"DIRS\"] global page like entry\n",
    "# TEMPLATES[0][\"DIRS\"] specific page like admin?\n",
    "# DATABASES has built-in sqlite3, usually progresql\n",
    "# DATABASES, unless old databases\n",
    "# AUTH_PASSWORD_VALIDATORS, have cap letter\n",
    "# STATIC_URL is usually changed in production mode\n",
    "# DEFAULT_AUTO_FIELD allows custom definiation of primary key, e.g. Social \n",
    "\n",
    "# django.contrib.sessions\n",
    "# lock you out for 5 mins for security purposes\n",
    "# keep the cart for 2 weeks\n",
    "\n",
    "# django.contrib.staticfiles\n",
    "# javascript, image, CSS\n",
    "\n",
    "# manage.py define basic py command\n",
    "# customerize your command\n",
    "# createsuperuser, not too many super user\n",
    "# change_roles"
   ]
  },
  {
   "cell_type": "code",
   "execution_count": null,
   "id": "52faaa4a-caa1-49d1-ac1c-8ff05b1eb7c8",
   "metadata": {},
   "outputs": [],
   "source": [
    "# create database to store users\n",
    "# > python manage.py migrate, create database on app pre-installed \n",
    "# > python manage.py createsuperuser\n",
    "# > python manage.py makemigration"
   ]
  },
  {
   "cell_type": "code",
   "execution_count": null,
   "id": "8b26a18f-bb22-4f6c-b41d-8420781e9610",
   "metadata": {},
   "outputs": [],
   "source": [
    "# run developmental server\n",
    "# python manage.py runserver\n",
    "# python manage.py startapp blog\n",
    "\n",
    "# add INSTALLED_APPS to settings\n",
    "\n",
    "# MVC\n",
    "# model > model\n",
    "# template > view to be created      \n",
    "# views > controller\n",
    "\n",
    "# update schema\n",
    "# generate database migrations"
   ]
  }
 ],
 "metadata": {
  "kernelspec": {
   "display_name": "Python 3 (ipykernel)",
   "language": "python",
   "name": "python3"
  },
  "language_info": {
   "codemirror_mode": {
    "name": "ipython",
    "version": 3
   },
   "file_extension": ".py",
   "mimetype": "text/x-python",
   "name": "python",
   "nbconvert_exporter": "python",
   "pygments_lexer": "ipython3",
   "version": "3.12.7"
  }
 },
 "nbformat": 4,
 "nbformat_minor": 5
}
