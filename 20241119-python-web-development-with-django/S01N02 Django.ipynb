{
 "cells": [
  {
   "cell_type": "code",
   "execution_count": null,
   "id": "39d6099e-0eea-453f-87cf-6329eea22534",
   "metadata": {},
   "outputs": [],
   "source": [
    "# module\n",
    "# third-party-solution\n",
    "\n",
    "# versatile, highly customizable, \n",
    "# comprehensive: got everything you need for a web app\n",
    "# low maintenance: one guy build a pro-like web app\n",
    "# compatiable with React and Angular\n",
    "# used to power Instagram and other larger product\n",
    "\n",
    "# build projects\n",
    "\n",
    "# Model View Controller model\n",
    "# client: web browser or API request\n",
    "# app: url dispatcher invokes some function to do something, e.g. yelp.com/new-york/restaurant\n",
    "# database: store information\n",
    "\n",
    "# app fetches data from database (model)\n",
    "# app (controller) manipulates the data into view\n",
    "# app sends HTML or JSON (view) to client\n",
    "\n",
    "# environment or package with bunch of library\n",
    "# terminal, bash, CMD (command prompt)\n",
    "# "
   ]
  }
 ],
 "metadata": {
  "kernelspec": {
   "display_name": "Python 3 (ipykernel)",
   "language": "python",
   "name": "python3"
  },
  "language_info": {
   "codemirror_mode": {
    "name": "ipython",
    "version": 3
   },
   "file_extension": ".py",
   "mimetype": "text/x-python",
   "name": "python",
   "nbconvert_exporter": "python",
   "pygments_lexer": "ipython3",
   "version": "3.12.7"
  }
 },
 "nbformat": 4,
 "nbformat_minor": 5
}
