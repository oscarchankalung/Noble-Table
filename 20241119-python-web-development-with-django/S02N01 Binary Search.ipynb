{
 "cells": [
  {
   "cell_type": "code",
   "execution_count": 1,
   "id": "c4d80c42-4fd1-447c-9a7f-67a4a35bb5ca",
   "metadata": {},
   "outputs": [],
   "source": [
    "# for loop from index 0 > O(n)\n",
    "# binary search from the midpoint > O(logn)"
   ]
  },
  {
   "cell_type": "code",
   "execution_count": 5,
   "id": "8269a42a-98dc-4771-9304-f812ba16d179",
   "metadata": {},
   "outputs": [],
   "source": [
    "# for loop - definite loop\n",
    "# while loop - indefinite loop"
   ]
  },
  {
   "cell_type": "code",
   "execution_count": 7,
   "id": "62c5c54a-75ba-4e78-a0de-e5009d7ff269",
   "metadata": {},
   "outputs": [],
   "source": [
    "# while (condition)\n",
    "# condition cannot be True\n",
    "# condition\n",
    "# condition must be incremented or changed\n",
    "# recursive call the function again"
   ]
  },
  {
   "cell_type": "code",
   "execution_count": 9,
   "id": "1f7378d4-15aa-438e-8c8c-76219d23ae7d",
   "metadata": {},
   "outputs": [
    {
     "name": "stdout",
     "output_type": "stream",
     "text": [
      "hello 0\n",
      "hello 1\n",
      "hello 2\n",
      "hello 3\n",
      "hello 4\n"
     ]
    }
   ],
   "source": [
    "condition = 0\n",
    "\n",
    "while condition < 5:\n",
    "    print(\"hello\", condition)\n",
    "    condition += 1"
   ]
  },
  {
   "cell_type": "code",
   "execution_count": 11,
   "id": "418abbf6-9952-4d74-aa2d-ddd563aa9ee6",
   "metadata": {},
   "outputs": [
    {
     "name": "stdout",
     "output_type": "stream",
     "text": [
      "hello True\n"
     ]
    }
   ],
   "source": [
    "flag_var = True\n",
    "\n",
    "while flag_var:\n",
    "    print(\"hello\", flag_var)\n",
    "    flag_var = False"
   ]
  },
  {
   "cell_type": "code",
   "execution_count": 13,
   "id": "414e5e08-6c06-4fc9-94f4-aafba4621a2e",
   "metadata": {},
   "outputs": [],
   "source": [
    "# ask a user what to buy, keep asking till user will enter keyword \"stop\"\n",
    "# make sure that each item added only once to the list\n",
    "# use while loop"
   ]
  },
  {
   "cell_type": "code",
   "execution_count": 34,
   "id": "c167033e-b47d-4b12-b0b4-aba965a774b1",
   "metadata": {},
   "outputs": [
    {
     "name": "stdin",
     "output_type": "stream",
     "text": [
      "What do you want to buy? apple\n"
     ]
    },
    {
     "name": "stdout",
     "output_type": "stream",
     "text": [
      "Shopping list: ['apple']\n"
     ]
    },
    {
     "name": "stdin",
     "output_type": "stream",
     "text": [
      "What do you want to buy? apple\n"
     ]
    },
    {
     "name": "stdout",
     "output_type": "stream",
     "text": [
      "Item 'apple' was added, please enter another item\n"
     ]
    },
    {
     "name": "stdin",
     "output_type": "stream",
     "text": [
      "What do you want to buy? apple\n"
     ]
    },
    {
     "name": "stdout",
     "output_type": "stream",
     "text": [
      "Item 'apple' was added, please enter another item\n"
     ]
    },
    {
     "name": "stdin",
     "output_type": "stream",
     "text": [
      "What do you want to buy? banana\n"
     ]
    },
    {
     "name": "stdout",
     "output_type": "stream",
     "text": [
      "Shopping list: ['apple', 'banana']\n"
     ]
    },
    {
     "name": "stdin",
     "output_type": "stream",
     "text": [
      "What do you want to buy? stop\n"
     ]
    },
    {
     "name": "stdout",
     "output_type": "stream",
     "text": [
      "Shopping ended, shopping list: ['apple', 'banana']\n"
     ]
    }
   ],
   "source": [
    "shopping_list = []\n",
    "flag_var = True\n",
    "\n",
    "while flag_var:\n",
    "    item = input(\"What do you want to buy?\").lower()\n",
    "    \n",
    "    if item == \"stop\":\n",
    "        flag_var = False\n",
    "        print(f\"Shopping ended, shopping list: {shopping_list}\")\n",
    "        break\n",
    "        \n",
    "    if item not in shopping_list:\n",
    "        shopping_list.append(item)\n",
    "        print(f\"Shopping list: {shopping_list}\")\n",
    "    else:\n",
    "        print(f\"Item '{item}' was added, please enter another item\")"
   ]
  },
  {
   "cell_type": "code",
   "execution_count": null,
   "id": "0639ed4c-8c4b-4428-afd0-a4a4e2829968",
   "metadata": {},
   "outputs": [],
   "source": []
  }
 ],
 "metadata": {
  "kernelspec": {
   "display_name": "Python 3 (ipykernel)",
   "language": "python",
   "name": "python3"
  },
  "language_info": {
   "codemirror_mode": {
    "name": "ipython",
    "version": 3
   },
   "file_extension": ".py",
   "mimetype": "text/x-python",
   "name": "python",
   "nbconvert_exporter": "python",
   "pygments_lexer": "ipython3",
   "version": "3.11.5"
  }
 },
 "nbformat": 4,
 "nbformat_minor": 5
}
