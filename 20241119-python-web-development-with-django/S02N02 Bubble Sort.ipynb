{
 "cells": [
  {
   "cell_type": "code",
   "execution_count": 5,
   "id": "b6c206be-f42a-4412-ba3a-030ecb2d40a2",
   "metadata": {},
   "outputs": [
    {
     "name": "stdout",
     "output_type": "stream",
     "text": [
      "1 2\n",
      "2 1\n"
     ]
    }
   ],
   "source": [
    "# swap\n",
    "\n",
    "a,b = 1,2\n",
    "print(a,b)\n",
    "a,b = b,a\n",
    "print(a,b)"
   ]
  },
  {
   "cell_type": "code",
   "execution_count": 7,
   "id": "6084c42c-8b53-4692-8739-b99aa01fe1d5",
   "metadata": {},
   "outputs": [
    {
     "name": "stdout",
     "output_type": "stream",
     "text": [
      "1 2\n",
      "2 1\n"
     ]
    }
   ],
   "source": [
    "# swap\n",
    "\n",
    "a,b = \"1\",\"2\"\n",
    "print(a,b)\n",
    "a,b = b,a\n",
    "print(a,b)"
   ]
  },
  {
   "cell_type": "code",
   "execution_count": 87,
   "id": "bb600a79-a14e-41c0-ad9a-4f1cf5ede9fe",
   "metadata": {},
   "outputs": [],
   "source": [
    "unsorted = [70, 30, 20, 10]\n",
    "\n",
    "def bubble_sort(alist):\n",
    "    n = len(alist)\n",
    "    \n",
    "    for i in range(n):\n",
    "        swapped = False\n",
    "        for j in range(n-1-i):\n",
    "            if alist[j] > alist[j+1]:\n",
    "                alist[j], alist[j+1] = alist[j+1], alist[j]\n",
    "                swapped = True\n",
    "            print(f\"{j} {j+1}, N={n-1-i}, {swapped}, {alist}\")\n",
    "        if not swapped:\n",
    "            break\n",
    "    \n",
    "    return alist"
   ]
  },
  {
   "cell_type": "code",
   "execution_count": 89,
   "id": "f4f8e795-df71-4258-b4b8-94920b29ef43",
   "metadata": {},
   "outputs": [
    {
     "name": "stdout",
     "output_type": "stream",
     "text": [
      "0 1, N=3, True, [30, 70, 20, 10]\n",
      "1 2, N=3, True, [30, 20, 70, 10]\n",
      "2 3, N=3, True, [30, 20, 10, 70]\n",
      "0 1, N=2, True, [20, 30, 10, 70]\n",
      "1 2, N=2, True, [20, 10, 30, 70]\n",
      "0 1, N=1, True, [10, 20, 30, 70]\n"
     ]
    },
    {
     "data": {
      "text/plain": [
       "[10, 20, 30, 70]"
      ]
     },
     "execution_count": 89,
     "metadata": {},
     "output_type": "execute_result"
    }
   ],
   "source": [
    "bubble_sort(unsorted)"
   ]
  },
  {
   "cell_type": "code",
   "execution_count": null,
   "id": "d66e4eac-c64e-4c96-ab40-ccca3b732d20",
   "metadata": {},
   "outputs": [],
   "source": []
  }
 ],
 "metadata": {
  "kernelspec": {
   "display_name": "Python 3 (ipykernel)",
   "language": "python",
   "name": "python3"
  },
  "language_info": {
   "codemirror_mode": {
    "name": "ipython",
    "version": 3
   },
   "file_extension": ".py",
   "mimetype": "text/x-python",
   "name": "python",
   "nbconvert_exporter": "python",
   "pygments_lexer": "ipython3",
   "version": "3.11.5"
  }
 },
 "nbformat": 4,
 "nbformat_minor": 5
}
