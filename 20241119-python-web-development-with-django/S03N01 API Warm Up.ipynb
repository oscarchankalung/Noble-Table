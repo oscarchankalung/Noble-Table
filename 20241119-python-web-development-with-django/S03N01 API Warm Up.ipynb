{
 "cells": [
  {
   "cell_type": "code",
   "execution_count": null,
   "id": "c8df4953",
   "metadata": {},
   "outputs": [],
   "source": [
    "API_KEY = 'EK64R9CL2XZ2S6VX'"
   ]
  },
  {
   "cell_type": "code",
   "execution_count": null,
   "id": "5274c810",
   "metadata": {},
   "outputs": [],
   "source": []
  }
 ],
 "metadata": {
  "kernelspec": {
   "display_name": "Python 3 (ipykernel)",
   "language": "python",
   "name": "python3"
  },
  "language_info": {
   "codemirror_mode": {
    "name": "ipython",
    "version": 3
   },
   "file_extension": ".py",
   "mimetype": "text/x-python",
   "name": "python",
   "nbconvert_exporter": "python",
   "pygments_lexer": "ipython3",
   "version": "3.11.5"
  }
 },
 "nbformat": 4,
 "nbformat_minor": 5
}
