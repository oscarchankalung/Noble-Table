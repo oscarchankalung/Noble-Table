{
 "cells": [
  {
   "cell_type": "code",
   "execution_count": 29,
   "id": "3f63251e",
   "metadata": {},
   "outputs": [],
   "source": [
    "import requests\n",
    "import pandas as pd\n",
    "import matplotlib.pyplot as plt\n",
    "import csv"
   ]
  },
  {
   "cell_type": "code",
   "execution_count": 13,
   "id": "a7a2e849",
   "metadata": {},
   "outputs": [],
   "source": [
    "CLIENT_ID = \"pbsgH6VeG-y6wIH1g5pKCQ\"\n",
    "API_KEY = \"XvjYqbn8DC8HN_eYPfE_w9vI-YBeuYN80lDtUtM1pFWrD4Ty3tG4mAodP_qOB3Noc4heAO4t-QAD8tb6y8IPctgTV8C1QJuvn_QathZzFcsLDz2jB6Q7YGCtNxI1Z3Yx\""
   ]
  },
  {
   "cell_type": "code",
   "execution_count": 14,
   "id": "9dbc36df",
   "metadata": {},
   "outputs": [],
   "source": [
    "url = \"https://api.yelp.com/v3/businesses/search\""
   ]
  },
  {
   "cell_type": "code",
   "execution_count": 15,
   "id": "dd2650ad",
   "metadata": {},
   "outputs": [],
   "source": [
    "headers = {\"Authorization\": f\"Bearer {API_KEY}\"}"
   ]
  },
  {
   "cell_type": "code",
   "execution_count": 16,
   "id": "366f9785",
   "metadata": {},
   "outputs": [],
   "source": [
    "params = {\"term\": \"restaurants\", \"location\": \"New York City\", \"limit\": 50}"
   ]
  },
  {
   "cell_type": "code",
   "execution_count": 17,
   "id": "977754c1",
   "metadata": {},
   "outputs": [],
   "source": [
    "response = requests.get(url, headers=headers, params=params)"
   ]
  },
  {
   "cell_type": "code",
   "execution_count": 18,
   "id": "862a7c2c",
   "metadata": {},
   "outputs": [],
   "source": [
    "data = response.json()"
   ]
  },
  {
   "cell_type": "code",
   "execution_count": 19,
   "id": "168f197f",
   "metadata": {},
   "outputs": [
    {
     "data": {
      "text/plain": [
       "dict_keys(['businesses', 'total', 'region'])"
      ]
     },
     "execution_count": 19,
     "metadata": {},
     "output_type": "execute_result"
    }
   ],
   "source": [
    "data.keys()"
   ]
  },
  {
   "cell_type": "code",
   "execution_count": 21,
   "id": "66347926",
   "metadata": {},
   "outputs": [
    {
     "data": {
      "text/plain": [
       "dict_keys(['id', 'alias', 'name', 'image_url', 'is_closed', 'url', 'review_count', 'categories', 'rating', 'coordinates', 'transactions', 'price', 'location', 'phone', 'display_phone', 'distance', 'business_hours', 'attributes'])"
      ]
     },
     "execution_count": 21,
     "metadata": {},
     "output_type": "execute_result"
    }
   ],
   "source": [
    "data[\"businesses\"][0].keys()"
   ]
  },
  {
   "cell_type": "code",
   "execution_count": null,
   "id": "4959ca69",
   "metadata": {},
   "outputs": [],
   "source": [
    "# What fields should we have in a Django project"
   ]
  },
  {
   "cell_type": "code",
   "execution_count": 22,
   "id": "fff28410",
   "metadata": {},
   "outputs": [
    {
     "data": {
      "text/plain": [
       "{'id': 'DGhWO1sUWydVeR5j5ZZaMw',\n",
       " 'alias': 'la-grande-boucherie-new-york-2',\n",
       " 'name': 'La Grande Boucherie',\n",
       " 'image_url': 'https://s3-media3.fl.yelpcdn.com/bphoto/b9URGcuuhnLq7J-__pHIng/o.jpg',\n",
       " 'is_closed': False,\n",
       " 'url': 'https://www.yelp.com/biz/la-grande-boucherie-new-york-2?adjust_creative=pbsgH6VeG-y6wIH1g5pKCQ&utm_campaign=yelp_api_v3&utm_medium=api_v3_business_search&utm_source=pbsgH6VeG-y6wIH1g5pKCQ',\n",
       " 'review_count': 3624,\n",
       " 'categories': [{'alias': 'french', 'title': 'French'},\n",
       "  {'alias': 'steak', 'title': 'Steakhouses'},\n",
       "  {'alias': 'cocktailbars', 'title': 'Cocktail Bars'}],\n",
       " 'rating': 4.4,\n",
       " 'coordinates': {'latitude': 40.7626274, 'longitude': -73.98084109999999},\n",
       " 'transactions': ['delivery', 'pickup'],\n",
       " 'price': '$$$',\n",
       " 'location': {'address1': '145 W 53rd St',\n",
       "  'address2': '',\n",
       "  'address3': None,\n",
       "  'city': 'New York',\n",
       "  'zip_code': '10019',\n",
       "  'country': 'US',\n",
       "  'state': 'NY',\n",
       "  'display_address': ['145 W 53rd St', 'New York, NY 10019']},\n",
       " 'phone': '+12125107714',\n",
       " 'display_phone': '(212) 510-7714',\n",
       " 'distance': 6447.196690217016,\n",
       " 'business_hours': [{'open': [{'is_overnight': False,\n",
       "     'start': '0800',\n",
       "     'end': '0000',\n",
       "     'day': 0},\n",
       "    {'is_overnight': False, 'start': '0800', 'end': '0000', 'day': 1},\n",
       "    {'is_overnight': False, 'start': '0800', 'end': '0000', 'day': 2},\n",
       "    {'is_overnight': False, 'start': '0800', 'end': '0000', 'day': 3},\n",
       "    {'is_overnight': False, 'start': '0800', 'end': '0000', 'day': 4},\n",
       "    {'is_overnight': False, 'start': '0900', 'end': '0000', 'day': 5},\n",
       "    {'is_overnight': False, 'start': '0900', 'end': '0000', 'day': 6}],\n",
       "   'hours_type': 'REGULAR',\n",
       "   'is_open_now': True}],\n",
       " 'attributes': {'business_temp_closed': None,\n",
       "  'menu_url': 'https://www.boucherieus.com/la-grande-boucherie-menus/',\n",
       "  'open24_hours': None,\n",
       "  'waitlist_reservation': None}}"
      ]
     },
     "execution_count": 22,
     "metadata": {},
     "output_type": "execute_result"
    }
   ],
   "source": [
    "data[\"businesses\"][0]"
   ]
  },
  {
   "cell_type": "code",
   "execution_count": 63,
   "id": "cc7640b6",
   "metadata": {},
   "outputs": [
    {
     "data": {
      "text/plain": [
       "{'name': 'La Grande Boucherie',\n",
       " 'image_url': 'https://s3-media3.fl.yelpcdn.com/bphoto/b9URGcuuhnLq7J-__pHIng/o.jpg',\n",
       " 'review_count': 3624,\n",
       " 'categories': [{'alias': 'french', 'title': 'French'},\n",
       "  {'alias': 'steak', 'title': 'Steakhouses'},\n",
       "  {'alias': 'cocktailbars', 'title': 'Cocktail Bars'}],\n",
       " 'rating': 4.4,\n",
       " 'price': '$$$',\n",
       " 'location': {'address1': '145 W 53rd St',\n",
       "  'city': 'New York',\n",
       "  'zip_code': '10019',\n",
       "  'country': 'US',\n",
       "  'state': 'NY'},\n",
       " 'display_phone': '(212) 510-7714'}"
      ]
     },
     "execution_count": 63,
     "metadata": {},
     "output_type": "execute_result"
    }
   ],
   "source": [
    "test_rest = {\n",
    "    'name': 'La Grande Boucherie',\n",
    "    'image_url': 'https://s3-media3.fl.yelpcdn.com/bphoto/b9URGcuuhnLq7J-__pHIng/o.jpg',\n",
    "    'review_count': 3624,\n",
    "    'categories': [\n",
    "        {'alias': 'french', 'title': 'French'},\n",
    "        {'alias': 'steak', 'title': 'Steakhouses'},\n",
    "        {'alias': 'cocktailbars', 'title': 'Cocktail Bars'}\n",
    "    ],\n",
    "    'rating': 4.4,\n",
    "    'price': '$$$',\n",
    "    'location': {\n",
    "        'address1': '145 W 53rd St',\n",
    "        'city': 'New York',\n",
    "        'zip_code': '10019',\n",
    "        'country': 'US',\n",
    "        'state': 'NY',\n",
    "    },\n",
    "    'display_phone': '(212) 510-7714',\n",
    "}"
   ]
  },
  {
   "cell_type": "code",
   "execution_count": 65,
   "id": "b85ba561",
   "metadata": {},
   "outputs": [
    {
     "name": "stdout",
     "output_type": "stream",
     "text": [
      "{'name': 'No name', 'rating': 0, 'review_count': 0, 'price': 0, 'cuisine': '', 'image': '', 'address': '', 'city': '', 'zip_code': '', 'state': '', 'phone': ''}\n"
     ]
    }
   ],
   "source": [
    "for res in data[\"businesses\"]:\n",
    "    categories = res.get(\"categories\", [])\n",
    "    cuisine = \"\"\n",
    "    location = res.get(\"location\", {})\n",
    "    \n",
    "    if len(categories) >= 1:\n",
    "        cuisine = categories[0].get(\"title\", \"\")\n",
    "    \n",
    "    d = {\n",
    "        \"name\": res.get(\"name\", \"\"),\n",
    "        \"rating\": res.get(\"rating\", 0),\n",
    "        \"review_count\": res.get(\"review_count\", 0),\n",
    "        \"price\": len(res.get(\"price\", \"\")),\n",
    "        \"cuisine\": cuisine,\n",
    "        \"image\": res.get(\"image_url\", \"\"),\n",
    "        \"address\": location.get(\"address1\", \"\"),\n",
    "        \"city\": location.get(\"city\", \"\"),\n",
    "        \"zip_code\": location.get(\"zip_code\", \"\"),\n",
    "        \"state\": location.get(\"state\", \"\"),\n",
    "        \"phone\": res.get(\"display_phone\", \"\"),\n",
    "    }\n",
    "    print(d)"
   ]
  },
  {
   "cell_type": "code",
   "execution_count": null,
   "id": "ef8fe783",
   "metadata": {},
   "outputs": [],
   "source": [
    "class Restaurant():\n",
    "    name = models.CharField(max_length=200, unique=False, blank=False)\n",
    "    rating = models.FloatField(null=True) # 0.0-5.0 or null\n",
    "    review_count = models.IntegerField(null=True) # 0-9999 or null\n",
    "    price = models.IntegerField(null=True) # 0-3\n",
    "    cuisine = models.CharField(max_length=200, blank=True) # 'French' or blank\n",
    "    image = models.ImageField(upload_to=\"uploads/\", blank=True) # object or blank\n",
    "    address = models.CharField(max_length=200, blank=True) # '145 W 53rd St' or blank\n",
    "    city = models.CharField(max_length=200, blank=True) # 'New  York' or blank\n",
    "    zip_code = models.CharField(max_length=5, blank=True) # '12345' or blank\n",
    "    state = models.CharField(max_length=2, blank=True) # 'NY' or blank\n",
    "    phone = models.CharField(max_length=14, blank=True) # '(212) 510-7714' or blank"
   ]
  }
 ],
 "metadata": {
  "kernelspec": {
   "display_name": "Python 3 (ipykernel)",
   "language": "python",
   "name": "python3"
  },
  "language_info": {
   "codemirror_mode": {
    "name": "ipython",
    "version": 3
   },
   "file_extension": ".py",
   "mimetype": "text/x-python",
   "name": "python",
   "nbconvert_exporter": "python",
   "pygments_lexer": "ipython3",
   "version": "3.11.5"
  }
 },
 "nbformat": 4,
 "nbformat_minor": 5
}
