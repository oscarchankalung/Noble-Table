{
 "cells": [
  {
   "cell_type": "code",
   "execution_count": 29,
   "id": "95cdc9b2",
   "metadata": {},
   "outputs": [],
   "source": [
    "import requests\n",
    "import pandas as pd\n",
    "import matplotlib.pyplot as plt\n",
    "import csv"
   ]
  },
  {
   "cell_type": "code",
   "execution_count": 13,
   "id": "9f30c0dc",
   "metadata": {},
   "outputs": [],
   "source": [
    "CLIENT_ID = \"pbsgH6VeG-y6wIH1g5pKCQ\"\n",
    "API_KEY = \"XvjYqbn8DC8HN_eYPfE_w9vI-YBeuYN80lDtUtM1pFWrD4Ty3tG4mAodP_qOB3Noc4heAO4t-QAD8tb6y8IPctgTV8C1QJuvn_QathZzFcsLDz2jB6Q7YGCtNxI1Z3Yx\""
   ]
  },
  {
   "cell_type": "code",
   "execution_count": 14,
   "id": "b8c74d91",
   "metadata": {},
   "outputs": [],
   "source": [
    "url = \"https://api.yelp.com/v3/businesses/search\""
   ]
  },
  {
   "cell_type": "code",
   "execution_count": 15,
   "id": "dc3ca635",
   "metadata": {},
   "outputs": [],
   "source": [
    "headers = {\"Authorization\": f\"Bearer {API_KEY}\"}"
   ]
  },
  {
   "cell_type": "code",
   "execution_count": 16,
   "id": "5ac08f0b",
   "metadata": {},
   "outputs": [],
   "source": [
    "params = {\"term\": \"restaurants\", \"location\": \"New York City\", \"limit\": 50}"
   ]
  },
  {
   "cell_type": "code",
   "execution_count": 17,
   "id": "7268742b",
   "metadata": {},
   "outputs": [],
   "source": [
    "response = requests.get(url, headers=headers, params=params)"
   ]
  },
  {
   "cell_type": "code",
   "execution_count": 18,
   "id": "4cc76106",
   "metadata": {},
   "outputs": [],
   "source": [
    "data = response.json()"
   ]
  },
  {
   "cell_type": "code",
   "execution_count": 19,
   "id": "5d74081b",
   "metadata": {},
   "outputs": [
    {
     "data": {
      "text/plain": [
       "dict_keys(['businesses', 'total', 'region'])"
      ]
     },
     "execution_count": 19,
     "metadata": {},
     "output_type": "execute_result"
    }
   ],
   "source": [
    "data.keys()"
   ]
  },
  {
   "cell_type": "code",
   "execution_count": 21,
   "id": "c9d15e93",
   "metadata": {},
   "outputs": [
    {
     "data": {
      "text/plain": [
       "dict_keys(['id', 'alias', 'name', 'image_url', 'is_closed', 'url', 'review_count', 'categories', 'rating', 'coordinates', 'transactions', 'price', 'location', 'phone', 'display_phone', 'distance', 'business_hours', 'attributes'])"
      ]
     },
     "execution_count": 21,
     "metadata": {},
     "output_type": "execute_result"
    }
   ],
   "source": [
    "data[\"businesses\"][0].keys()"
   ]
  },
  {
   "cell_type": "code",
   "execution_count": null,
   "id": "6062cab6",
   "metadata": {},
   "outputs": [],
   "source": [
    "# What fields should we have in a Django project"
   ]
  },
  {
   "cell_type": "code",
   "execution_count": 22,
   "id": "09ec7c7f",
   "metadata": {},
   "outputs": [
    {
     "data": {
      "text/plain": [
       "{'id': 'DGhWO1sUWydVeR5j5ZZaMw',\n",
       " 'alias': 'la-grande-boucherie-new-york-2',\n",
       " 'name': 'La Grande Boucherie',\n",
       " 'image_url': 'https://s3-media3.fl.yelpcdn.com/bphoto/b9URGcuuhnLq7J-__pHIng/o.jpg',\n",
       " 'is_closed': False,\n",
       " 'url': 'https://www.yelp.com/biz/la-grande-boucherie-new-york-2?adjust_creative=pbsgH6VeG-y6wIH1g5pKCQ&utm_campaign=yelp_api_v3&utm_medium=api_v3_business_search&utm_source=pbsgH6VeG-y6wIH1g5pKCQ',\n",
       " 'review_count': 3624,\n",
       " 'categories': [{'alias': 'french', 'title': 'French'},\n",
       "  {'alias': 'steak', 'title': 'Steakhouses'},\n",
       "  {'alias': 'cocktailbars', 'title': 'Cocktail Bars'}],\n",
       " 'rating': 4.4,\n",
       " 'coordinates': {'latitude': 40.7626274, 'longitude': -73.98084109999999},\n",
       " 'transactions': ['delivery', 'pickup'],\n",
       " 'price': '$$$',\n",
       " 'location': {'address1': '145 W 53rd St',\n",
       "  'address2': '',\n",
       "  'address3': None,\n",
       "  'city': 'New York',\n",
       "  'zip_code': '10019',\n",
       "  'country': 'US',\n",
       "  'state': 'NY',\n",
       "  'display_address': ['145 W 53rd St', 'New York, NY 10019']},\n",
       " 'phone': '+12125107714',\n",
       " 'display_phone': '(212) 510-7714',\n",
       " 'distance': 6447.196690217016,\n",
       " 'business_hours': [{'open': [{'is_overnight': False,\n",
       "     'start': '0800',\n",
       "     'end': '0000',\n",
       "     'day': 0},\n",
       "    {'is_overnight': False, 'start': '0800', 'end': '0000', 'day': 1},\n",
       "    {'is_overnight': False, 'start': '0800', 'end': '0000', 'day': 2},\n",
       "    {'is_overnight': False, 'start': '0800', 'end': '0000', 'day': 3},\n",
       "    {'is_overnight': False, 'start': '0800', 'end': '0000', 'day': 4},\n",
       "    {'is_overnight': False, 'start': '0900', 'end': '0000', 'day': 5},\n",
       "    {'is_overnight': False, 'start': '0900', 'end': '0000', 'day': 6}],\n",
       "   'hours_type': 'REGULAR',\n",
       "   'is_open_now': True}],\n",
       " 'attributes': {'business_temp_closed': None,\n",
       "  'menu_url': 'https://www.boucherieus.com/la-grande-boucherie-menus/',\n",
       "  'open24_hours': None,\n",
       "  'waitlist_reservation': None}}"
      ]
     },
     "execution_count": 22,
     "metadata": {},
     "output_type": "execute_result"
    }
   ],
   "source": [
    "data[\"businesses\"][0]"
   ]
  },
  {
   "cell_type": "code",
   "execution_count": 32,
   "id": "4e74bfd8",
   "metadata": {},
   "outputs": [],
   "source": [
    "df = pd.DataFrame.from_dict(data[\"businesses\"])"
   ]
  },
  {
   "cell_type": "code",
   "execution_count": 33,
   "id": "8fca27c9",
   "metadata": {},
   "outputs": [
    {
     "data": {
      "text/plain": [
       "id                0\n",
       "alias             0\n",
       "name              0\n",
       "image_url         0\n",
       "is_closed         0\n",
       "url               0\n",
       "review_count      0\n",
       "categories        0\n",
       "rating            0\n",
       "coordinates       0\n",
       "transactions      0\n",
       "price             7\n",
       "location          0\n",
       "phone             0\n",
       "display_phone     0\n",
       "distance          0\n",
       "business_hours    0\n",
       "attributes        0\n",
       "dtype: int64"
      ]
     },
     "execution_count": 33,
     "metadata": {},
     "output_type": "execute_result"
    }
   ],
   "source": [
    "df.isna().sum()"
   ]
  },
  {
   "cell_type": "code",
   "execution_count": null,
   "id": "b1fd9b25",
   "metadata": {},
   "outputs": [],
   "source": []
  }
 ],
 "metadata": {
  "kernelspec": {
   "display_name": "Python 3 (ipykernel)",
   "language": "python",
   "name": "python3"
  },
  "language_info": {
   "codemirror_mode": {
    "name": "ipython",
    "version": 3
   },
   "file_extension": ".py",
   "mimetype": "text/x-python",
   "name": "python",
   "nbconvert_exporter": "python",
   "pygments_lexer": "ipython3",
   "version": "3.11.5"
  }
 },
 "nbformat": 4,
 "nbformat_minor": 5
}
