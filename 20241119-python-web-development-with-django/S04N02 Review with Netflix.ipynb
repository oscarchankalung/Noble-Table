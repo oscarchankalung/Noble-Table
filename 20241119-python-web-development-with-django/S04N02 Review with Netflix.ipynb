{
 "cells": [
  {
   "cell_type": "code",
   "execution_count": 1,
   "id": "0a74a45c-babe-438f-94b8-acacc4ad5aa0",
   "metadata": {},
   "outputs": [],
   "source": [
    "import pandas as pd\n",
    "import matplotlib.pyplot as plt\n",
    "import seaborn as sns"
   ]
  },
  {
   "cell_type": "code",
   "execution_count": 2,
   "id": "cc0efee6-e246-4f76-b6fb-a7433a1726a0",
   "metadata": {},
   "outputs": [
    {
     "name": "stdout",
     "output_type": "stream",
     "text": [
      "<class 'pandas.core.frame.DataFrame'>\n",
      "RangeIndex: 5837 entries, 0 to 5836\n",
      "Data columns (total 12 columns):\n",
      " #   Column        Non-Null Count  Dtype \n",
      "---  ------        --------------  ----- \n",
      " 0   show_id       5837 non-null   int64 \n",
      " 1   title         5837 non-null   object\n",
      " 2   director      3936 non-null   object\n",
      " 3   cast          5281 non-null   object\n",
      " 4   country       5410 non-null   object\n",
      " 5   date_added    5195 non-null   object\n",
      " 6   release_year  5837 non-null   int64 \n",
      " 7   rating        5827 non-null   object\n",
      " 8   duration      5837 non-null   object\n",
      " 9   listed_in     5837 non-null   object\n",
      " 10  description   5837 non-null   object\n",
      " 11  type          5837 non-null   object\n",
      "dtypes: int64(2), object(10)\n",
      "memory usage: 547.3+ KB\n"
     ]
    }
   ],
   "source": [
    "df = pd.read_csv(r\"netflix_titles.csv\", encoding=\"utf-8\")\n",
    "df.info()"
   ]
  },
  {
   "cell_type": "code",
   "execution_count": 3,
   "id": "29dd0977-9164-4380-b36f-7bdf81e947c0",
   "metadata": {},
   "outputs": [],
   "source": [
    "# plot number of TV shows vs Movies by type as a pie chart"
   ]
  },
  {
   "cell_type": "code",
   "execution_count": 4,
   "id": "e6913e08-2bc0-4350-9162-403cd312d45d",
   "metadata": {},
   "outputs": [
    {
     "data": {
      "image/png": "[encoded data removed]",
      "text/plain": [
       "<Figure size 640x480 with 1 Axes>"
      ]
     },
     "metadata": {},
     "output_type": "display_data"
    }
   ],
   "source": [
    "show_type = df.groupby(\"type\")[[\"type\"]].count()\n",
    "show_type.plot.pie(subplots=True, autopct = \"%.2f%%\")\n",
    "plt.title(\"Percentage by Type\")\n",
    "plt.show()"
   ]
  },
  {
   "cell_type": "code",
   "execution_count": 5,
   "id": "05e75692-078e-4fc9-b0b0-670ffcc73b41",
   "metadata": {},
   "outputs": [],
   "source": [
    "# how many shows are documentaries"
   ]
  },
  {
   "cell_type": "code",
   "execution_count": 6,
   "id": "19eecb9e-d1ab-475a-984f-825597f6caae",
   "metadata": {},
   "outputs": [
    {
     "data": {
      "text/plain": [
       "658"
      ]
     },
     "execution_count": 6,
     "metadata": {},
     "output_type": "execute_result"
    }
   ],
   "source": [
    "conidition_doc = df[\"listed_in\"].str.contains(\"Documentaries\", case=False)\n",
    "df[conidition_doc].count().iloc[0]"
   ]
  },
  {
   "cell_type": "code",
   "execution_count": 7,
   "id": "42943a8e-0051-444d-a033-e22e6b5ffbbc",
   "metadata": {},
   "outputs": [],
   "source": [
    "# fill missing values in 'rating' with \"MA\""
   ]
  },
  {
   "cell_type": "code",
   "execution_count": 8,
   "id": "d3a98015-f90e-4e1b-b4e5-1592fefd3f2a",
   "metadata": {},
   "outputs": [],
   "source": [
    "df[\"rating\"] = df[\"rating\"].fillna(\"MA\")"
   ]
  },
  {
   "cell_type": "code",
   "execution_count": 9,
   "id": "21081c16-167b-4072-92c1-fbb922554424",
   "metadata": {},
   "outputs": [],
   "source": [
    "# how many movies are made for Kids"
   ]
  },
  {
   "cell_type": "code",
   "execution_count": 10,
   "id": "024f5f19-3a0a-4d17-8264-b0d1dad63b8e",
   "metadata": {},
   "outputs": [],
   "source": [
    "ratings_ages = {\n",
    "    'TV-PG': 'Older Kids',\n",
    "    'TV-MA': 'Adults',\n",
    "    'TV-Y7-FV': 'Older Kids',\n",
    "    'TV-Y7': 'Older Kids',\n",
    "    'TV-14': 'Teens',\n",
    "    'R': 'Adults',\n",
    "    'TV-Y': 'Kids',\n",
    "    'NR': 'Adults',\n",
    "    'PG-13': 'Teens',\n",
    "    'TV-G': 'Kids',\n",
    "    'PG': 'Older Kids',\n",
    "    'G': 'Kids',\n",
    "    'UR': 'Adults',\n",
    "    'NC-17': 'Adults'\n",
    "}"
   ]
  },
  {
   "cell_type": "code",
   "execution_count": 11,
   "id": "9dba5b4b-ea3d-45d6-9c5b-8a1395f1c769",
   "metadata": {},
   "outputs": [],
   "source": [
    "df[\"rating_new\"] = df[\"rating\"].replace(ratings_ages)"
   ]
  },
  {
   "cell_type": "code",
   "execution_count": 12,
   "id": "6ff05315-4753-4757-9c95-02c24aa3983f",
   "metadata": {},
   "outputs": [
    {
     "data": {
      "text/plain": [
       "813"
      ]
     },
     "execution_count": 12,
     "metadata": {},
     "output_type": "execute_result"
    }
   ],
   "source": [
    "cond_rate = df[\"rating_new\"].str.contains(\"Kids\")\n",
    "cond_type = df[\"type\"] == \"Movie\"\n",
    "kids_movies = df[cond_rate & cond_type]\n",
    "kids_movies.count().iloc[0]"
   ]
  },
  {
   "cell_type": "code",
   "execution_count": 13,
   "id": "64c936c4-6dbb-4a25-b08e-aaeb6f607c8a",
   "metadata": {},
   "outputs": [],
   "source": [
    "# what is the earliest TV Show that was added to Netflix"
   ]
  },
  {
   "cell_type": "code",
   "execution_count": 14,
   "id": "13588dff-8286-47b6-9550-8ae49de6032d",
   "metadata": {},
   "outputs": [],
   "source": [
    "# df.dropna(subset=[\"date_added\"], inplace=True)"
   ]
  },
  {
   "cell_type": "code",
   "execution_count": 21,
   "id": "5b9fb980-669d-4cc4-be62-66fda48951cc",
   "metadata": {},
   "outputs": [
    {
     "data": {
      "text/plain": [
       "show_id            0\n",
       "title              0\n",
       "director        1901\n",
       "cast             556\n",
       "country          427\n",
       "date_added       642\n",
       "release_year       0\n",
       "rating             0\n",
       "duration           0\n",
       "listed_in          0\n",
       "description        0\n",
       "type               0\n",
       "rating_new         0\n",
       "dtype: int64"
      ]
     },
     "execution_count": 21,
     "metadata": {},
     "output_type": "execute_result"
    }
   ],
   "source": [
    "df.isna().sum()"
   ]
  },
  {
   "cell_type": "code",
   "execution_count": 23,
   "id": "4d0a4cf5-8ed7-450a-8440-08cb0f3abe39",
   "metadata": {},
   "outputs": [
    {
     "data": {
      "text/plain": [
       "'Dinner for Five'"
      ]
     },
     "execution_count": 23,
     "metadata": {},
     "output_type": "execute_result"
    }
   ],
   "source": [
    "df[\"date_added\"] = pd.to_datetime(df[\"date_added\"], format=\"%Y-%m-%d\")\n",
    "\n",
    "tv = df[df[\"type\"] == \"TV Show\"]\n",
    "earliest_tv = tv[tv[\"date_added\"] == tv[\"date_added\"].min()]\n",
    "earliest_tv[\"title\"].squeeze()"
   ]
  },
  {
   "cell_type": "code",
   "execution_count": null,
   "id": "012e1887-ca44-472b-a435-d08f1bd9adc7",
   "metadata": {},
   "outputs": [],
   "source": [
    "# plot number of movies by release_year as bar chart or any other chart"
   ]
  },
  {
   "cell_type": "code",
   "execution_count": 53,
   "id": "c4fba87c-13d1-4ef7-a460-dbcea6be911a",
   "metadata": {},
   "outputs": [
    {
     "data": {
      "image/png": "[encoded data removed]",
      "text/plain": [
       "<Figure size 640x480 with 1 Axes>"
      ]
     },
     "metadata": {},
     "output_type": "display_data"
    }
   ],
   "source": [
    "mv = df[df[\"type\"] == \"Movie\"]\n",
    "mv_by_year = mv[\"release_year\"].value_counts().sort_index()\n",
    "\n",
    "sns.scatterplot(x=mv_by_year.index, y=mv_by_year.values)\n",
    "plt.title(\"Number of Movies by Release Year\")\n",
    "plt.xlabel(\"Release Year\")\n",
    "plt.ylabel(\"Number of Movies\")\n",
    "plt.show()"
   ]
  },
  {
   "cell_type": "code",
   "execution_count": null,
   "id": "d48a312e-3db2-4c92-b0c6-ca6d5b291c5b",
   "metadata": {},
   "outputs": [],
   "source": [
    "# get top 10 United States Directors by number of movies"
   ]
  },
  {
   "cell_type": "code",
   "execution_count": 65,
   "id": "36129f63-aa2e-41ef-8468-24c123c460c8",
   "metadata": {},
   "outputs": [
    {
     "data": {
      "text/plain": [
       "director\n",
       "Jay Karas           13\n",
       "Jay Chapman         12\n",
       "Marcus Raboy        12\n",
       "Steven Spielberg     8\n",
       "Martin Scorsese      8\n",
       "Shannon Hartman      7\n",
       "Ryan Polito          7\n",
       "Lance Bangs          6\n",
       "Vlad Yudin           6\n",
       "Troy Miller          5\n",
       "Name: count, dtype: int64"
      ]
     },
     "execution_count": 65,
     "metadata": {},
     "output_type": "execute_result"
    }
   ],
   "source": [
    "condition_mv = df[\"type\"] == \"Movie\"\n",
    "condition_us = df[\"country\"].str.contains(\"United States\")\n",
    "\n",
    "us_mv = df[condition_mv & condition_us]\n",
    "us_mv[\"director\"].value_counts().head(10)"
   ]
  },
  {
   "cell_type": "code",
   "execution_count": 67,
   "id": "475a4021-cfbc-47e7-8955-bd267c28dc1a",
   "metadata": {},
   "outputs": [],
   "source": [
    "# explore"
   ]
  },
  {
   "cell_type": "code",
   "execution_count": 69,
   "id": "60e39ed1-1dc2-4bf6-8004-7bb6a1868902",
   "metadata": {},
   "outputs": [
    {
     "data": {
      "text/html": [
       "<div>\n",
       "<style scoped>\n",
       "    .dataframe tbody tr th:only-of-type {\n",
       "        vertical-align: middle;\n",
       "    }\n",
       "\n",
       "    .dataframe tbody tr th {\n",
       "        vertical-align: top;\n",
       "    }\n",
       "\n",
       "    .dataframe thead th {\n",
       "        text-align: right;\n",
       "    }\n",
       "</style>\n",
       "<table border=\"1\" class=\"dataframe\">\n",
       "  <thead>\n",
       "    <tr style=\"text-align: right;\">\n",
       "      <th></th>\n",
       "      <th>show_id</th>\n",
       "      <th>title</th>\n",
       "      <th>director</th>\n",
       "      <th>cast</th>\n",
       "      <th>country</th>\n",
       "      <th>date_added</th>\n",
       "      <th>release_year</th>\n",
       "      <th>rating</th>\n",
       "      <th>duration</th>\n",
       "      <th>listed_in</th>\n",
       "      <th>description</th>\n",
       "      <th>type</th>\n",
       "      <th>rating_new</th>\n",
       "    </tr>\n",
       "  </thead>\n",
       "  <tbody>\n",
       "    <tr>\n",
       "      <th>0</th>\n",
       "      <td>81193313</td>\n",
       "      <td>Chocolate</td>\n",
       "      <td>NaN</td>\n",
       "      <td>Ha Ji-won, Yoon Kye-sang, Jang Seung-jo, Kang ...</td>\n",
       "      <td>South Korea</td>\n",
       "      <td>2019-11-30</td>\n",
       "      <td>2019</td>\n",
       "      <td>TV-14</td>\n",
       "      <td>1 Season</td>\n",
       "      <td>International TV Shows, Korean TV Shows, Roman...</td>\n",
       "      <td>Brought together by meaningful meals in the pa...</td>\n",
       "      <td>TV Show</td>\n",
       "      <td>Teens</td>\n",
       "    </tr>\n",
       "    <tr>\n",
       "      <th>1</th>\n",
       "      <td>81197050</td>\n",
       "      <td>Guatemala: Heart of the Mayan World</td>\n",
       "      <td>Luis Ara, Ignacio Jaunsolo</td>\n",
       "      <td>Christian Morales</td>\n",
       "      <td>NaN</td>\n",
       "      <td>2019-11-30</td>\n",
       "      <td>2019</td>\n",
       "      <td>TV-G</td>\n",
       "      <td>67 min</td>\n",
       "      <td>Documentaries, International Movies</td>\n",
       "      <td>From Sierra de las Minas to Esquipulas, explor...</td>\n",
       "      <td>Movie</td>\n",
       "      <td>Kids</td>\n",
       "    </tr>\n",
       "    <tr>\n",
       "      <th>2</th>\n",
       "      <td>81213894</td>\n",
       "      <td>The Zoya Factor</td>\n",
       "      <td>Abhishek Sharma</td>\n",
       "      <td>Sonam Kapoor, Dulquer Salmaan, Sanjay Kapoor, ...</td>\n",
       "      <td>India</td>\n",
       "      <td>2019-11-30</td>\n",
       "      <td>2019</td>\n",
       "      <td>TV-14</td>\n",
       "      <td>135 min</td>\n",
       "      <td>Comedies, Dramas, International Movies</td>\n",
       "      <td>A goofy copywriter unwittingly convinces the I...</td>\n",
       "      <td>Movie</td>\n",
       "      <td>Teens</td>\n",
       "    </tr>\n",
       "    <tr>\n",
       "      <th>3</th>\n",
       "      <td>81082007</td>\n",
       "      <td>Atlantics</td>\n",
       "      <td>Mati Diop</td>\n",
       "      <td>Mama Sane, Amadou Mbow, Ibrahima Traore, Nicol...</td>\n",
       "      <td>France</td>\n",
       "      <td>2019-11-29</td>\n",
       "      <td>2019</td>\n",
       "      <td>TV-14</td>\n",
       "      <td>106 min</td>\n",
       "      <td>Dramas, Independent Movies, International Movies</td>\n",
       "      <td>Arranged to marry a rich man, young Ada is cru...</td>\n",
       "      <td>Movie</td>\n",
       "      <td>Teens</td>\n",
       "    </tr>\n",
       "    <tr>\n",
       "      <th>3</th>\n",
       "      <td>81082007</td>\n",
       "      <td>Atlantics</td>\n",
       "      <td>Mati Diop</td>\n",
       "      <td>Mama Sane, Amadou Mbow, Ibrahima Traore, Nicol...</td>\n",
       "      <td>Senegal</td>\n",
       "      <td>2019-11-29</td>\n",
       "      <td>2019</td>\n",
       "      <td>TV-14</td>\n",
       "      <td>106 min</td>\n",
       "      <td>Dramas, Independent Movies, International Movies</td>\n",
       "      <td>Arranged to marry a rich man, young Ada is cru...</td>\n",
       "      <td>Movie</td>\n",
       "      <td>Teens</td>\n",
       "    </tr>\n",
       "    <tr>\n",
       "      <th>3</th>\n",
       "      <td>81082007</td>\n",
       "      <td>Atlantics</td>\n",
       "      <td>Mati Diop</td>\n",
       "      <td>Mama Sane, Amadou Mbow, Ibrahima Traore, Nicol...</td>\n",
       "      <td>Belgium</td>\n",
       "      <td>2019-11-29</td>\n",
       "      <td>2019</td>\n",
       "      <td>TV-14</td>\n",
       "      <td>106 min</td>\n",
       "      <td>Dramas, Independent Movies, International Movies</td>\n",
       "      <td>Arranged to marry a rich man, young Ada is cru...</td>\n",
       "      <td>Movie</td>\n",
       "      <td>Teens</td>\n",
       "    </tr>\n",
       "    <tr>\n",
       "      <th>4</th>\n",
       "      <td>80213643</td>\n",
       "      <td>Chip and Potato</td>\n",
       "      <td>NaN</td>\n",
       "      <td>Abigail Oliver, Andrea Libman, Briana Buckmast...</td>\n",
       "      <td>Canada</td>\n",
       "      <td>NaT</td>\n",
       "      <td>2019</td>\n",
       "      <td>TV-Y</td>\n",
       "      <td>2 Seasons</td>\n",
       "      <td>Kids' TV</td>\n",
       "      <td>Lovable pug Chip starts kindergarten, makes ne...</td>\n",
       "      <td>TV Show</td>\n",
       "      <td>Kids</td>\n",
       "    </tr>\n",
       "    <tr>\n",
       "      <th>4</th>\n",
       "      <td>80213643</td>\n",
       "      <td>Chip and Potato</td>\n",
       "      <td>NaN</td>\n",
       "      <td>Abigail Oliver, Andrea Libman, Briana Buckmast...</td>\n",
       "      <td>United Kingdom</td>\n",
       "      <td>NaT</td>\n",
       "      <td>2019</td>\n",
       "      <td>TV-Y</td>\n",
       "      <td>2 Seasons</td>\n",
       "      <td>Kids' TV</td>\n",
       "      <td>Lovable pug Chip starts kindergarten, makes ne...</td>\n",
       "      <td>TV Show</td>\n",
       "      <td>Kids</td>\n",
       "    </tr>\n",
       "    <tr>\n",
       "      <th>5</th>\n",
       "      <td>81172754</td>\n",
       "      <td>Crazy people</td>\n",
       "      <td>Moses Inwang</td>\n",
       "      <td>Ramsey Nouah, Chigul, Sola Sobowale, Ireti Doy...</td>\n",
       "      <td>Nigeria</td>\n",
       "      <td>2019-11-29</td>\n",
       "      <td>2018</td>\n",
       "      <td>TV-14</td>\n",
       "      <td>107 min</td>\n",
       "      <td>Comedies, International Movies, Thrillers</td>\n",
       "      <td>Nollywood star Ramsey Nouah learns that someon...</td>\n",
       "      <td>Movie</td>\n",
       "      <td>Teens</td>\n",
       "    </tr>\n",
       "    <tr>\n",
       "      <th>6</th>\n",
       "      <td>81120982</td>\n",
       "      <td>I Lost My Body</td>\n",
       "      <td>Jérémy Clapin</td>\n",
       "      <td>Hakim Faris, Victoire Du Bois, Patrick d'Assum...</td>\n",
       "      <td>France</td>\n",
       "      <td>2019-11-29</td>\n",
       "      <td>2019</td>\n",
       "      <td>TV-MA</td>\n",
       "      <td>81 min</td>\n",
       "      <td>Dramas, Independent Movies, International Movies</td>\n",
       "      <td>Romance, mystery and adventure intertwine as a...</td>\n",
       "      <td>Movie</td>\n",
       "      <td>Adults</td>\n",
       "    </tr>\n",
       "  </tbody>\n",
       "</table>\n",
       "</div>"
      ],
      "text/plain": [
       "    show_id                                title                    director  \\\n",
       "0  81193313                            Chocolate                         NaN   \n",
       "1  81197050  Guatemala: Heart of the Mayan World  Luis Ara, Ignacio Jaunsolo   \n",
       "2  81213894                      The Zoya Factor             Abhishek Sharma   \n",
       "3  81082007                            Atlantics                   Mati Diop   \n",
       "3  81082007                            Atlantics                   Mati Diop   \n",
       "3  81082007                            Atlantics                   Mati Diop   \n",
       "4  80213643                      Chip and Potato                         NaN   \n",
       "4  80213643                      Chip and Potato                         NaN   \n",
       "5  81172754                         Crazy people                Moses Inwang   \n",
       "6  81120982                       I Lost My Body               Jérémy Clapin   \n",
       "\n",
       "                                                cast          country  \\\n",
       "0  Ha Ji-won, Yoon Kye-sang, Jang Seung-jo, Kang ...      South Korea   \n",
       "1                                  Christian Morales              NaN   \n",
       "2  Sonam Kapoor, Dulquer Salmaan, Sanjay Kapoor, ...            India   \n",
       "3  Mama Sane, Amadou Mbow, Ibrahima Traore, Nicol...           France   \n",
       "3  Mama Sane, Amadou Mbow, Ibrahima Traore, Nicol...          Senegal   \n",
       "3  Mama Sane, Amadou Mbow, Ibrahima Traore, Nicol...          Belgium   \n",
       "4  Abigail Oliver, Andrea Libman, Briana Buckmast...           Canada   \n",
       "4  Abigail Oliver, Andrea Libman, Briana Buckmast...   United Kingdom   \n",
       "5  Ramsey Nouah, Chigul, Sola Sobowale, Ireti Doy...          Nigeria   \n",
       "6  Hakim Faris, Victoire Du Bois, Patrick d'Assum...           France   \n",
       "\n",
       "  date_added  release_year rating   duration  \\\n",
       "0 2019-11-30          2019  TV-14   1 Season   \n",
       "1 2019-11-30          2019   TV-G     67 min   \n",
       "2 2019-11-30          2019  TV-14    135 min   \n",
       "3 2019-11-29          2019  TV-14    106 min   \n",
       "3 2019-11-29          2019  TV-14    106 min   \n",
       "3 2019-11-29          2019  TV-14    106 min   \n",
       "4        NaT          2019   TV-Y  2 Seasons   \n",
       "4        NaT          2019   TV-Y  2 Seasons   \n",
       "5 2019-11-29          2018  TV-14    107 min   \n",
       "6 2019-11-29          2019  TV-MA     81 min   \n",
       "\n",
       "                                           listed_in  \\\n",
       "0  International TV Shows, Korean TV Shows, Roman...   \n",
       "1                Documentaries, International Movies   \n",
       "2             Comedies, Dramas, International Movies   \n",
       "3   Dramas, Independent Movies, International Movies   \n",
       "3   Dramas, Independent Movies, International Movies   \n",
       "3   Dramas, Independent Movies, International Movies   \n",
       "4                                           Kids' TV   \n",
       "4                                           Kids' TV   \n",
       "5          Comedies, International Movies, Thrillers   \n",
       "6   Dramas, Independent Movies, International Movies   \n",
       "\n",
       "                                         description     type rating_new  \n",
       "0  Brought together by meaningful meals in the pa...  TV Show      Teens  \n",
       "1  From Sierra de las Minas to Esquipulas, explor...    Movie       Kids  \n",
       "2  A goofy copywriter unwittingly convinces the I...    Movie      Teens  \n",
       "3  Arranged to marry a rich man, young Ada is cru...    Movie      Teens  \n",
       "3  Arranged to marry a rich man, young Ada is cru...    Movie      Teens  \n",
       "3  Arranged to marry a rich man, young Ada is cru...    Movie      Teens  \n",
       "4  Lovable pug Chip starts kindergarten, makes ne...  TV Show       Kids  \n",
       "4  Lovable pug Chip starts kindergarten, makes ne...  TV Show       Kids  \n",
       "5  Nollywood star Ramsey Nouah learns that someon...    Movie      Teens  \n",
       "6  Romance, mystery and adventure intertwine as a...    Movie     Adults  "
      ]
     },
     "execution_count": 69,
     "metadata": {},
     "output_type": "execute_result"
    }
   ],
   "source": [
    "df[\"country\"] = df[\"country\"].str.split(\",\")\n",
    "df_new = df.explode(\"country\")\n",
    "df_new.head(10)"
   ]
  },
  {
   "cell_type": "code",
   "execution_count": null,
   "id": "40ba13b1-958f-4d28-b506-daefaf736197",
   "metadata": {},
   "outputs": [],
   "source": []
  }
 ],
 "metadata": {
  "kernelspec": {
   "display_name": "Python 3 (ipykernel)",
   "language": "python",
   "name": "python3"
  },
  "language_info": {
   "codemirror_mode": {
    "name": "ipython",
    "version": 3
   },
   "file_extension": ".py",
   "mimetype": "text/x-python",
   "name": "python",
   "nbconvert_exporter": "python",
   "pygments_lexer": "ipython3",
   "version": "3.12.7"
  }
 },
 "nbformat": 4,
 "nbformat_minor": 5
}
