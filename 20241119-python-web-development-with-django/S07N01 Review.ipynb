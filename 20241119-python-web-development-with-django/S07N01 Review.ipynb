{
 "cells": [
  {
   "cell_type": "code",
   "execution_count": 1,
   "id": "826b821e",
   "metadata": {},
   "outputs": [],
   "source": [
    "string = \"a1b2c3d4e5\""
   ]
  },
  {
   "cell_type": "code",
   "execution_count": 2,
   "id": "5b588567",
   "metadata": {},
   "outputs": [],
   "source": [
    "# use list comp to sum up all numbers"
   ]
  },
  {
   "cell_type": "code",
   "execution_count": 12,
   "id": "0b81de9d",
   "metadata": {},
   "outputs": [
    {
     "data": {
      "text/plain": [
       "15"
      ]
     },
     "execution_count": 12,
     "metadata": {},
     "output_type": "execute_result"
    }
   ],
   "source": [
    "string = \"a1b2c3d4e5\"\n",
    "result = sum([int(c) for c in string if c.isdigit()])\n",
    "result"
   ]
  },
  {
   "cell_type": "markdown",
   "id": "cb985c9b",
   "metadata": {},
   "source": [
    "```\n",
    "Pig Latin (also known as Dog Latin) is a language game in which words are altered according to certain rules. To make the pig latin form of an English word, the initial consonant sound is transposed to the end of the word, and an \"ay\" is affixed. Specifically, there are two rules:\n",
    "\n",
    "If a word begins with a vowel, append \"yay\" to the end of the word. If a word begins with a consonant, remove all the consonants from the beginning up to the first vowel and append them to the end of the word. Finally, append \"ay\" to the end of the word.\n",
    "\n",
    "For example:\n",
    "\n",
    "dog => ogday\n",
    "python => onpythay\n",
    "scratch => atchscray\n",
    "is => isyay\n",
    "apple => appleyay\n",
    "```"
   ]
  },
  {
   "cell_type": "code",
   "execution_count": 64,
   "id": "7959fbd2",
   "metadata": {},
   "outputs": [
    {
     "name": "stdout",
     "output_type": "stream",
     "text": [
      "1, og + d + ay\n",
      "4, on + pyth + ay\n",
      "3, atch + scr + ay\n",
      "0, is + yay\n",
      "0, apple + yay\n"
     ]
    },
    {
     "data": {
      "text/plain": [
       "['ogday', 'onpythay', 'atchscray', 'isyay', 'appleyay']"
      ]
     },
     "execution_count": 64,
     "metadata": {},
     "output_type": "execute_result"
    }
   ],
   "source": [
    "def pig_latin(word):\n",
    "    \"\"\"\n",
    "    begin with a vowel, append \"yay\" at the end\n",
    "    begin with a consonant, add all the consonants to the end, append \"ay\" at the end\n",
    "    \"\"\"\n",
    "    vowels = (\"a\", \"e\", \"i\", \"o\", \"u\")\n",
    "    \n",
    "    if word[0] in vowels:\n",
    "        result = f\"{word}yay\"\n",
    "        print(f\"0, {word} + yay\")\n",
    "        return result\n",
    "    else:\n",
    "        for i, c in enumerate(word):\n",
    "            if c in vowels:\n",
    "                break\n",
    "        \n",
    "        print(f\"{i}, {word[i:]} + {word[0:i]} + ay\")\n",
    "        result = f\"{word[i:]}{word[0:i]}ay\"\n",
    "        return result\n",
    "\n",
    "words = (\"dog\", \"python\", \"scratch\", \"is\", \"apple\")\n",
    "latins = []\n",
    "\n",
    "for word in words:\n",
    "    latins.append(pig_latin(word))\n",
    "    \n",
    "latins"
   ]
  },
  {
   "cell_type": "markdown",
   "id": "0c836e18",
   "metadata": {},
   "source": [
    "```\n",
    "Many people do not use capital letters correctly, especially when typing on small devices like smart phones. In this exercise, you will write a function that capitalizes the appropriate characters in a string.\n",
    "\n",
    "A lowercase \"i\" should be replaced with an uppercase \"I\" if it is both preceded and followed by a space.\n",
    "\n",
    "The first character in the string should also be capitalized,\n",
    "\n",
    "as well as the first non-space character after a \".\", \"!\" or \"?\". \n",
    "\n",
    "For example, if the function is provided with the string \"what time do i have to be there? what's the address?\" then it should return the string \"What time do I have to be there? What's the address?\". Include a main program that reads a string from the user, capitalizes it using your function, and displays the result.\n",
    "```"
   ]
  },
  {
   "cell_type": "code",
   "execution_count": 65,
   "id": "41534393",
   "metadata": {},
   "outputs": [
    {
     "name": "stdout",
     "output_type": "stream",
     "text": [
      "What time do I have to be there? what's the address?\n",
      "What time do I have to be there? What's the address? 31\n"
     ]
    },
    {
     "data": {
      "text/plain": [
       "True"
      ]
     },
     "execution_count": 65,
     "metadata": {},
     "output_type": "execute_result"
    }
   ],
   "source": [
    "def capitalize(string):\n",
    "    \"\"\"\n",
    "    cap \" i \"\n",
    "    cap first char\n",
    "    cap char after punctuation\n",
    "    \"\"\"\n",
    "    string = string.capitalize()\n",
    "    string = string.replace(\" i \", \" I \")\n",
    "    print(string)\n",
    "    \n",
    "    punctuation = (\".\", \"!\", \"?\")\n",
    "    for i in range(len(string) - 2):\n",
    "        if string[i] in punctuation:\n",
    "            c = i + 2\n",
    "            \n",
    "            former_part = string[:c]\n",
    "            middle_part = string[c].upper()\n",
    "            latter_part = string[c+1:]\n",
    "            \n",
    "            string = f\"{former_part}{middle_part}{latter_part}\"\n",
    "            print(string, i)\n",
    "            \n",
    "    return string\n",
    "    \n",
    "sentence = \"what time do i have to be there? what's the address?\"\n",
    "answer = \"What time do I have to be there? What's the address?\"\n",
    "\n",
    "capitalize(sentence) == answer"
   ]
  }
 ],
 "metadata": {
  "kernelspec": {
   "display_name": "Python 3 (ipykernel)",
   "language": "python",
   "name": "python3"
  },
  "language_info": {
   "codemirror_mode": {
    "name": "ipython",
    "version": 3
   },
   "file_extension": ".py",
   "mimetype": "text/x-python",
   "name": "python",
   "nbconvert_exporter": "python",
   "pygments_lexer": "ipython3",
   "version": "3.11.5"
  }
 },
 "nbformat": 4,
 "nbformat_minor": 5
}
