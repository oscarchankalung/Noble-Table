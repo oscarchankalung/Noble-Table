{
 "cells": [
  {
   "cell_type": "code",
   "execution_count": 82,
   "id": "f2d0197a",
   "metadata": {},
   "outputs": [],
   "source": [
    "from selenium import webdriver\n",
    "from selenium.webdriver.common.by import By\n",
    "import chromedriver_autoinstaller\n",
    "import chromedriver_binaryf\n",
    "\n",
    "import pandas as pd"
   ]
  },
  {
   "cell_type": "code",
   "execution_count": 12,
   "id": "ef95b2b8",
   "metadata": {},
   "outputs": [],
   "source": [
    "# pip install chromedriver-binary"
   ]
  },
  {
   "cell_type": "code",
   "execution_count": 13,
   "id": "2e3769d1",
   "metadata": {},
   "outputs": [],
   "source": [
    "# pip install chromedriver-binary-auto"
   ]
  },
  {
   "cell_type": "code",
   "execution_count": 14,
   "id": "cc2673c2",
   "metadata": {},
   "outputs": [],
   "source": [
    "# pip install chromedriver-autoinstaller"
   ]
  },
  {
   "cell_type": "code",
   "execution_count": 15,
   "id": "8be9aa03",
   "metadata": {},
   "outputs": [],
   "source": [
    "# pip install selenium"
   ]
  },
  {
   "cell_type": "code",
   "execution_count": 83,
   "id": "f8eded3e",
   "metadata": {},
   "outputs": [],
   "source": [
    "# chromedriver_autoinstaller.install()"
   ]
  },
  {
   "cell_type": "code",
   "execution_count": 89,
   "id": "a8d4c556",
   "metadata": {},
   "outputs": [],
   "source": [
    "# title, price, df, next page"
   ]
  },
  {
   "cell_type": "code",
   "execution_count": 97,
   "id": "b747c2eb",
   "metadata": {},
   "outputs": [
    {
     "name": "stdout",
     "output_type": "stream",
     "text": [
      "Amazon Echo Buds (2023 Release), $24.99\n",
      "Amazon Echo Buds with Active, $34.99\n",
      "JBL Tune 510BT - Bluetooth, $24.95\n",
      "Sony WH-CH520 Wireless Headphones Bluetooth, $38.00\n",
      "Bose QuietComfort Bluetooth Headphones, Wireless, $199.00\n",
      "Skullcandy Hesh ANC Over-Ear Noise, $79.47\n",
      "JBL Tune 720BT - Wireless, $59.95\n",
      "Soundcore P30i by Anker Noise, $39.99\n",
      "JBL Live 460NC wireless on-ear, $49.95\n",
      "Beats Studio Buds - True, $79.99\n",
      "BERIBES Bluetooth Headphones Over Ear,, $26.99\n",
      "Uliptz Wireless Bluetooth Headphones, 65H, $19.99\n",
      "JBL Tune 520BT - Wireless, $34.95\n",
      "Soundcore by Anker Q20i Hybrid, $49.99\n",
      "Sony WH-1000XM4 Wireless Premium Noise, $198.00\n",
      "BERIBES Upgraded Hybrid Active Noise, $32.99\n",
      "JBL Tune 770NC - Adaptive, $79.95\n",
      "Picun B8 Headphones Wireless Bluetooth,, $23.99\n",
      "Soundcore by Anker P20i True, $24.99\n",
      "JBL Tune 230NC TWS -, $44.95\n",
      "Sony WH-1000XM5 The Best Wireless, $298.00\n",
      "Kids Bluetooth Headphones, Wireless Headphones, $18.99\n"
     ]
    }
   ],
   "source": [
    "driver = webdriver.Chrome()\n",
    "driver.get(\"https://www.amazon.com/\")\n",
    "\n",
    "searchbox = driver.find_element(By.ID, \"twotabsearchtextbox\")\n",
    "searchbox.send_keys(\"headphones\")\n",
    "driver.find_element(By.ID, \"nav-search-submit-button\").click()\n",
    "\n",
    "i = 1\n",
    "is_end = False\n",
    "\n",
    "while not is_end:\n",
    "\n",
    "    # find search item\n",
    "    try:\n",
    "        search_item_path = f\"/html/body/div[1]/div[1]/div[1]/div[1]/div/span[1]/div[1]/div[{i}]\"\n",
    "        search_item = driver.find_element(By.XPATH, search_item_path)\n",
    "    except:\n",
    "        is_end = True\n",
    "\n",
    "    # find search item with title\n",
    "    try:\n",
    "        title_selector = \"span.a-size-medium.a-color-base.a-text-normal\"\n",
    "        title = search_item.find_element(By.CSS_SELECTOR, title_selector).text\n",
    "    except:\n",
    "        title = \"no title\"\n",
    "    \n",
    "    # find search item with price\n",
    "    try:\n",
    "        price_selector = \"span.a-offscreen\"\n",
    "        price = search_item.find_element(By.CSS_SELECTOR, price_selector).get_property(\"innerText\")\n",
    "    except:\n",
    "        price = \"no price\"\n",
    "    \n",
    "    if title != \"no title\" and price != \"no price\":\n",
    "        short_title = \" \".join(title.split()[0:5])\n",
    "        print(f\"{short_title}, {price}\")\n",
    "\n",
    "    i += 1"
   ]
  }
 ],
 "metadata": {
  "kernelspec": {
   "display_name": "Python 3 (ipykernel)",
   "language": "python",
   "name": "python3"
  },
  "language_info": {
   "codemirror_mode": {
    "name": "ipython",
    "version": 3
   },
   "file_extension": ".py",
   "mimetype": "text/x-python",
   "name": "python",
   "nbconvert_exporter": "python",
   "pygments_lexer": "ipython3",
   "version": "3.11.5"
  }
 },
 "nbformat": 4,
 "nbformat_minor": 5
}
